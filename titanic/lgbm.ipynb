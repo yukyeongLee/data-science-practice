{
 "cells": [
  {
   "cell_type": "code",
   "execution_count": 95,
   "source": [
    "from matplotlib import pyplot as plt\r\n",
    "from matplotlib import rcParams\r\n",
    "import numpy as np\r\n",
    "from pathlib import Path\r\n",
    "import pandas as pd\r\n",
    "import seaborn as sns\r\n",
    "import warnings\r\n",
    "\r\n",
    "import lightgbm as lgb\r\n",
    "from sklearn.metrics import log_loss, f1_score, accuracy_score\r\n",
    "from sklearn.model_selection import train_test_split\r\n"
   ],
   "outputs": [],
   "metadata": {}
  },
  {
   "cell_type": "code",
   "execution_count": 96,
   "source": [
    "rcParams['figure.figsize'] = (10, 5)\r\n",
    "plt.style.use('fivethirtyeight')\r\n",
    "pd.set_option('max_columns', 100)\r\n",
    "pd.set_option(\"display.precision\", 4)\r\n",
    "warnings.simplefilter('ignore')"
   ],
   "outputs": [],
   "metadata": {}
  },
  {
   "cell_type": "markdown",
   "source": [
    "## Load dataset"
   ],
   "metadata": {}
  },
  {
   "cell_type": "code",
   "execution_count": 97,
   "source": [
    "data_dir = Path('C:\\DACON\\/titanic\\dataset')\r\n",
    "build_dir = Path('C:\\DACON\\/titanic\\/build')\r\n",
    "feature_dir = Path('C:\\DACON\\/titanic\\/build\\/feature')\r\n",
    "\r\n",
    "class_file = feature_dir / 'class.csv'\r\n",
    "one_hot_file = feature_dir / 'one_hot.csv'\r\n",
    "sample_file = data_dir / 'submission.csv'\r\n",
    "\r\n",
    "seed = 23"
   ],
   "outputs": [],
   "metadata": {}
  },
  {
   "cell_type": "code",
   "execution_count": 98,
   "source": [
    "algo_name = 'lgb'\r\n",
    "feature_name = 'class'\r\n",
    "model_name = f'{algo_name}_{feature_name}'\r\n",
    "\r\n",
    "# feature_file = feature_dir / f'{feature_name}.csv'\r\n",
    "class_sub_file = build_dir / f'{model_name}.csv'\r\n",
    "print(class_sub_file)"
   ],
   "outputs": [
    {
     "output_type": "stream",
     "name": "stdout",
     "text": [
      "C:\\DACON\\titanic\\build\\lgb_class.csv\n"
     ]
    }
   ],
   "metadata": {}
  },
  {
   "cell_type": "code",
   "execution_count": 99,
   "source": [
    "algo_name = 'lgb'\r\n",
    "feature_name = 'one_hot'\r\n",
    "model_name = f'{algo_name}_{feature_name}'\r\n",
    "\r\n",
    "one_hot_sub_file = build_dir / f'{model_name}.csv'\r\n",
    "print(one_hot_sub_file)"
   ],
   "outputs": [
    {
     "output_type": "stream",
     "name": "stdout",
     "text": [
      "C:\\DACON\\titanic\\build\\lgb_one_hot.csv\n"
     ]
    }
   ],
   "metadata": {}
  },
  {
   "cell_type": "markdown",
   "source": [
    "df = train 891 rows + test 418 rows(with no 'Survived' value)"
   ],
   "metadata": {}
  },
  {
   "cell_type": "code",
   "execution_count": 119,
   "source": [
    "class_df = pd.read_csv(class_file, index_col=0)\r\n",
    "one_hot_df = pd.read_csv(one_hot_file, index_col=0)\r\n",
    "\r\n",
    "print(class_df.shape, one_hot_df.shape)\r\n",
    "\r\n",
    "ntrn = 891\r\n",
    "ntst = 418\r\n",
    "target_col = 'Survived'\r\n",
    "\r\n",
    "one_hot_df.head()"
   ],
   "outputs": [
    {
     "output_type": "stream",
     "name": "stdout",
     "text": [
      "(1309, 8) (1309, 30)\n"
     ]
    },
    {
     "output_type": "execute_result",
     "data": {
      "text/plain": [
       "             Survived  Pclass_1  Pclass_2  Pclass_3  Sex_0  Sex_1  Age_0  \\\n",
       "PassengerId                                                                \n",
       "1                 0.0         0         0         1      1      0      0   \n",
       "2                 1.0         1         0         0      0      1      0   \n",
       "3                 1.0         0         0         1      0      1      0   \n",
       "4                 1.0         1         0         0      0      1      0   \n",
       "5                 0.0         0         0         1      1      0      0   \n",
       "\n",
       "             Age_1  Age_2  Age_3  Age_4  Age_5  Age_6  Age_7  Fare_0  Fare_1  \\\n",
       "PassengerId                                                                    \n",
       "1                0      1      0      0      0      0      0       0       1   \n",
       "2                0      0      1      0      0      0      0       0       0   \n",
       "3                0      1      0      0      0      0      0       0       1   \n",
       "4                0      0      1      0      0      0      0       0       0   \n",
       "5                0      0      1      0      0      0      0       0       1   \n",
       "\n",
       "             Fare_2  Fare_3  Fare_4  Embarked_0  Embarked_1  Embarked_2  \\\n",
       "PassengerId                                                               \n",
       "1                 0       0       0           1           0           0   \n",
       "2                 0       1       0           0           0           1   \n",
       "3                 0       0       0           1           0           0   \n",
       "4                 0       1       0           1           0           0   \n",
       "5                 0       0       0           1           0           0   \n",
       "\n",
       "             Title_1  Title_2  Title_3  Title_4  Title_5  Family_0  Family_1  \\\n",
       "PassengerId                                                                    \n",
       "1                  1        0        0        0        0         0         1   \n",
       "2                  0        0        1        0        0         0         1   \n",
       "3                  0        1        0        0        0         1         0   \n",
       "4                  0        0        1        0        0         0         1   \n",
       "5                  1        0        0        0        0         1         0   \n",
       "\n",
       "             Family_2  \n",
       "PassengerId            \n",
       "1                   0  \n",
       "2                   0  \n",
       "3                   0  \n",
       "4                   0  \n",
       "5                   0  "
      ],
      "text/html": [
       "<div>\n",
       "<style scoped>\n",
       "    .dataframe tbody tr th:only-of-type {\n",
       "        vertical-align: middle;\n",
       "    }\n",
       "\n",
       "    .dataframe tbody tr th {\n",
       "        vertical-align: top;\n",
       "    }\n",
       "\n",
       "    .dataframe thead th {\n",
       "        text-align: right;\n",
       "    }\n",
       "</style>\n",
       "<table border=\"1\" class=\"dataframe\">\n",
       "  <thead>\n",
       "    <tr style=\"text-align: right;\">\n",
       "      <th></th>\n",
       "      <th>Survived</th>\n",
       "      <th>Pclass_1</th>\n",
       "      <th>Pclass_2</th>\n",
       "      <th>Pclass_3</th>\n",
       "      <th>Sex_0</th>\n",
       "      <th>Sex_1</th>\n",
       "      <th>Age_0</th>\n",
       "      <th>Age_1</th>\n",
       "      <th>Age_2</th>\n",
       "      <th>Age_3</th>\n",
       "      <th>Age_4</th>\n",
       "      <th>Age_5</th>\n",
       "      <th>Age_6</th>\n",
       "      <th>Age_7</th>\n",
       "      <th>Fare_0</th>\n",
       "      <th>Fare_1</th>\n",
       "      <th>Fare_2</th>\n",
       "      <th>Fare_3</th>\n",
       "      <th>Fare_4</th>\n",
       "      <th>Embarked_0</th>\n",
       "      <th>Embarked_1</th>\n",
       "      <th>Embarked_2</th>\n",
       "      <th>Title_1</th>\n",
       "      <th>Title_2</th>\n",
       "      <th>Title_3</th>\n",
       "      <th>Title_4</th>\n",
       "      <th>Title_5</th>\n",
       "      <th>Family_0</th>\n",
       "      <th>Family_1</th>\n",
       "      <th>Family_2</th>\n",
       "    </tr>\n",
       "    <tr>\n",
       "      <th>PassengerId</th>\n",
       "      <th></th>\n",
       "      <th></th>\n",
       "      <th></th>\n",
       "      <th></th>\n",
       "      <th></th>\n",
       "      <th></th>\n",
       "      <th></th>\n",
       "      <th></th>\n",
       "      <th></th>\n",
       "      <th></th>\n",
       "      <th></th>\n",
       "      <th></th>\n",
       "      <th></th>\n",
       "      <th></th>\n",
       "      <th></th>\n",
       "      <th></th>\n",
       "      <th></th>\n",
       "      <th></th>\n",
       "      <th></th>\n",
       "      <th></th>\n",
       "      <th></th>\n",
       "      <th></th>\n",
       "      <th></th>\n",
       "      <th></th>\n",
       "      <th></th>\n",
       "      <th></th>\n",
       "      <th></th>\n",
       "      <th></th>\n",
       "      <th></th>\n",
       "      <th></th>\n",
       "    </tr>\n",
       "  </thead>\n",
       "  <tbody>\n",
       "    <tr>\n",
       "      <th>1</th>\n",
       "      <td>0.0</td>\n",
       "      <td>0</td>\n",
       "      <td>0</td>\n",
       "      <td>1</td>\n",
       "      <td>1</td>\n",
       "      <td>0</td>\n",
       "      <td>0</td>\n",
       "      <td>0</td>\n",
       "      <td>1</td>\n",
       "      <td>0</td>\n",
       "      <td>0</td>\n",
       "      <td>0</td>\n",
       "      <td>0</td>\n",
       "      <td>0</td>\n",
       "      <td>0</td>\n",
       "      <td>1</td>\n",
       "      <td>0</td>\n",
       "      <td>0</td>\n",
       "      <td>0</td>\n",
       "      <td>1</td>\n",
       "      <td>0</td>\n",
       "      <td>0</td>\n",
       "      <td>1</td>\n",
       "      <td>0</td>\n",
       "      <td>0</td>\n",
       "      <td>0</td>\n",
       "      <td>0</td>\n",
       "      <td>0</td>\n",
       "      <td>1</td>\n",
       "      <td>0</td>\n",
       "    </tr>\n",
       "    <tr>\n",
       "      <th>2</th>\n",
       "      <td>1.0</td>\n",
       "      <td>1</td>\n",
       "      <td>0</td>\n",
       "      <td>0</td>\n",
       "      <td>0</td>\n",
       "      <td>1</td>\n",
       "      <td>0</td>\n",
       "      <td>0</td>\n",
       "      <td>0</td>\n",
       "      <td>1</td>\n",
       "      <td>0</td>\n",
       "      <td>0</td>\n",
       "      <td>0</td>\n",
       "      <td>0</td>\n",
       "      <td>0</td>\n",
       "      <td>0</td>\n",
       "      <td>0</td>\n",
       "      <td>1</td>\n",
       "      <td>0</td>\n",
       "      <td>0</td>\n",
       "      <td>0</td>\n",
       "      <td>1</td>\n",
       "      <td>0</td>\n",
       "      <td>0</td>\n",
       "      <td>1</td>\n",
       "      <td>0</td>\n",
       "      <td>0</td>\n",
       "      <td>0</td>\n",
       "      <td>1</td>\n",
       "      <td>0</td>\n",
       "    </tr>\n",
       "    <tr>\n",
       "      <th>3</th>\n",
       "      <td>1.0</td>\n",
       "      <td>0</td>\n",
       "      <td>0</td>\n",
       "      <td>1</td>\n",
       "      <td>0</td>\n",
       "      <td>1</td>\n",
       "      <td>0</td>\n",
       "      <td>0</td>\n",
       "      <td>1</td>\n",
       "      <td>0</td>\n",
       "      <td>0</td>\n",
       "      <td>0</td>\n",
       "      <td>0</td>\n",
       "      <td>0</td>\n",
       "      <td>0</td>\n",
       "      <td>1</td>\n",
       "      <td>0</td>\n",
       "      <td>0</td>\n",
       "      <td>0</td>\n",
       "      <td>1</td>\n",
       "      <td>0</td>\n",
       "      <td>0</td>\n",
       "      <td>0</td>\n",
       "      <td>1</td>\n",
       "      <td>0</td>\n",
       "      <td>0</td>\n",
       "      <td>0</td>\n",
       "      <td>1</td>\n",
       "      <td>0</td>\n",
       "      <td>0</td>\n",
       "    </tr>\n",
       "    <tr>\n",
       "      <th>4</th>\n",
       "      <td>1.0</td>\n",
       "      <td>1</td>\n",
       "      <td>0</td>\n",
       "      <td>0</td>\n",
       "      <td>0</td>\n",
       "      <td>1</td>\n",
       "      <td>0</td>\n",
       "      <td>0</td>\n",
       "      <td>0</td>\n",
       "      <td>1</td>\n",
       "      <td>0</td>\n",
       "      <td>0</td>\n",
       "      <td>0</td>\n",
       "      <td>0</td>\n",
       "      <td>0</td>\n",
       "      <td>0</td>\n",
       "      <td>0</td>\n",
       "      <td>1</td>\n",
       "      <td>0</td>\n",
       "      <td>1</td>\n",
       "      <td>0</td>\n",
       "      <td>0</td>\n",
       "      <td>0</td>\n",
       "      <td>0</td>\n",
       "      <td>1</td>\n",
       "      <td>0</td>\n",
       "      <td>0</td>\n",
       "      <td>0</td>\n",
       "      <td>1</td>\n",
       "      <td>0</td>\n",
       "    </tr>\n",
       "    <tr>\n",
       "      <th>5</th>\n",
       "      <td>0.0</td>\n",
       "      <td>0</td>\n",
       "      <td>0</td>\n",
       "      <td>1</td>\n",
       "      <td>1</td>\n",
       "      <td>0</td>\n",
       "      <td>0</td>\n",
       "      <td>0</td>\n",
       "      <td>0</td>\n",
       "      <td>1</td>\n",
       "      <td>0</td>\n",
       "      <td>0</td>\n",
       "      <td>0</td>\n",
       "      <td>0</td>\n",
       "      <td>0</td>\n",
       "      <td>1</td>\n",
       "      <td>0</td>\n",
       "      <td>0</td>\n",
       "      <td>0</td>\n",
       "      <td>1</td>\n",
       "      <td>0</td>\n",
       "      <td>0</td>\n",
       "      <td>1</td>\n",
       "      <td>0</td>\n",
       "      <td>0</td>\n",
       "      <td>0</td>\n",
       "      <td>0</td>\n",
       "      <td>1</td>\n",
       "      <td>0</td>\n",
       "      <td>0</td>\n",
       "    </tr>\n",
       "  </tbody>\n",
       "</table>\n",
       "</div>"
      ]
     },
     "metadata": {},
     "execution_count": 119
    }
   ],
   "metadata": {}
  },
  {
   "cell_type": "markdown",
   "source": [
    "## Split data into train/validation/test"
   ],
   "metadata": {}
  },
  {
   "cell_type": "code",
   "execution_count": 101,
   "source": [
    "# Change THESE!\r\n",
    "df = class_df # one_hot_df\r\n",
    "sub_file = class_sub_file # one_hot_sub_file \r\n",
    "\r\n",
    "y = df[target_col][:ntrn]\r\n",
    "df.drop(target_col, axis=1, inplace=True)\r\n",
    "features = df.columns.to_list()\r\n",
    "\r\n",
    "trn = df[features][:ntrn]\r\n",
    "tst = df[features][ntrn:]\r\n",
    "print(y.shape, df.shape)"
   ],
   "outputs": [
    {
     "output_type": "stream",
     "name": "stdout",
     "text": [
      "(891,) (1309, 29)\n"
     ]
    }
   ],
   "metadata": {}
  },
  {
   "cell_type": "code",
   "execution_count": 102,
   "source": [
    "X_trn, X_val, y_trn, y_val = train_test_split(trn, y, test_size=.2, random_state=seed)\r\n",
    "print(X_trn.shape, X_val.shape, y_trn.shape, y_val.shape)"
   ],
   "outputs": [
    {
     "output_type": "stream",
     "name": "stdout",
     "text": [
      "(712, 29) (179, 29) (712,) (179,)\n"
     ]
    }
   ],
   "metadata": {}
  },
  {
   "cell_type": "markdown",
   "source": [
    "## Model train"
   ],
   "metadata": {}
  },
  {
   "cell_type": "code",
   "execution_count": 103,
   "source": [
    "clf = lgb.LGBMClassifier(# objective='binary',  # Add objective\r\n",
    "                         n_estimators=1000,\r\n",
    "                         num_leaves=64,\r\n",
    "                         learning_rate=0.05,\r\n",
    "                         min_child_samples=10,\r\n",
    "                         subsample=.5,\r\n",
    "                         subsample_freq=1,\r\n",
    "                         colsample_bytree=.8,\r\n",
    "                         random_state=seed,\r\n",
    "                         n_jobs=-1)\r\n",
    "clf.fit(X_trn, y_trn,\r\n",
    "        eval_set=[(X_val, y_val)],\r\n",
    "        eval_metric = 'accuracy_score', #'log_loss',\r\n",
    "        early_stopping_rounds=20)\r\n",
    "p_val = clf.predict(X_val)\r\n",
    "p_tst = clf.predict(tst)"
   ],
   "outputs": [
    {
     "output_type": "stream",
     "name": "stdout",
     "text": [
      "[1]\tvalid_0's binary_logloss: 0.634737\n",
      "Training until validation scores don't improve for 20 rounds\n",
      "[2]\tvalid_0's binary_logloss: 0.616881\n",
      "[3]\tvalid_0's binary_logloss: 0.600096\n",
      "[4]\tvalid_0's binary_logloss: 0.586654\n",
      "[5]\tvalid_0's binary_logloss: 0.572275\n",
      "[6]\tvalid_0's binary_logloss: 0.556988\n",
      "[7]\tvalid_0's binary_logloss: 0.544816\n",
      "[8]\tvalid_0's binary_logloss: 0.534348\n",
      "[9]\tvalid_0's binary_logloss: 0.525456\n",
      "[10]\tvalid_0's binary_logloss: 0.515915\n",
      "[11]\tvalid_0's binary_logloss: 0.509823\n",
      "[12]\tvalid_0's binary_logloss: 0.502689\n",
      "[13]\tvalid_0's binary_logloss: 0.496164\n",
      "[14]\tvalid_0's binary_logloss: 0.489099\n",
      "[15]\tvalid_0's binary_logloss: 0.48365\n",
      "[16]\tvalid_0's binary_logloss: 0.478607\n",
      "[17]\tvalid_0's binary_logloss: 0.473512\n",
      "[18]\tvalid_0's binary_logloss: 0.470446\n",
      "[19]\tvalid_0's binary_logloss: 0.466481\n",
      "[20]\tvalid_0's binary_logloss: 0.461702\n",
      "[21]\tvalid_0's binary_logloss: 0.458401\n",
      "[22]\tvalid_0's binary_logloss: 0.45632\n",
      "[23]\tvalid_0's binary_logloss: 0.452355\n",
      "[24]\tvalid_0's binary_logloss: 0.449269\n",
      "[25]\tvalid_0's binary_logloss: 0.447254\n",
      "[26]\tvalid_0's binary_logloss: 0.444428\n",
      "[27]\tvalid_0's binary_logloss: 0.442642\n",
      "[28]\tvalid_0's binary_logloss: 0.440484\n",
      "[29]\tvalid_0's binary_logloss: 0.438414\n",
      "[30]\tvalid_0's binary_logloss: 0.436477\n",
      "[31]\tvalid_0's binary_logloss: 0.434412\n",
      "[32]\tvalid_0's binary_logloss: 0.433624\n",
      "[33]\tvalid_0's binary_logloss: 0.432948\n",
      "[34]\tvalid_0's binary_logloss: 0.431426\n",
      "[35]\tvalid_0's binary_logloss: 0.431199\n",
      "[36]\tvalid_0's binary_logloss: 0.429542\n",
      "[37]\tvalid_0's binary_logloss: 0.427588\n",
      "[38]\tvalid_0's binary_logloss: 0.426936\n",
      "[39]\tvalid_0's binary_logloss: 0.42712\n",
      "[40]\tvalid_0's binary_logloss: 0.427813\n",
      "[41]\tvalid_0's binary_logloss: 0.427265\n",
      "[42]\tvalid_0's binary_logloss: 0.426803\n",
      "[43]\tvalid_0's binary_logloss: 0.424618\n",
      "[44]\tvalid_0's binary_logloss: 0.422448\n",
      "[45]\tvalid_0's binary_logloss: 0.422335\n",
      "[46]\tvalid_0's binary_logloss: 0.423048\n",
      "[47]\tvalid_0's binary_logloss: 0.423465\n",
      "[48]\tvalid_0's binary_logloss: 0.423351\n",
      "[49]\tvalid_0's binary_logloss: 0.423303\n",
      "[50]\tvalid_0's binary_logloss: 0.423235\n",
      "[51]\tvalid_0's binary_logloss: 0.422879\n",
      "[52]\tvalid_0's binary_logloss: 0.423152\n",
      "[53]\tvalid_0's binary_logloss: 0.42261\n",
      "[54]\tvalid_0's binary_logloss: 0.422115\n",
      "[55]\tvalid_0's binary_logloss: 0.422241\n",
      "[56]\tvalid_0's binary_logloss: 0.421829\n",
      "[57]\tvalid_0's binary_logloss: 0.422403\n",
      "[58]\tvalid_0's binary_logloss: 0.422258\n",
      "[59]\tvalid_0's binary_logloss: 0.421334\n",
      "[60]\tvalid_0's binary_logloss: 0.421977\n",
      "[61]\tvalid_0's binary_logloss: 0.421571\n",
      "[62]\tvalid_0's binary_logloss: 0.422347\n",
      "[63]\tvalid_0's binary_logloss: 0.421416\n",
      "[64]\tvalid_0's binary_logloss: 0.421424\n",
      "[65]\tvalid_0's binary_logloss: 0.421805\n",
      "[66]\tvalid_0's binary_logloss: 0.423413\n",
      "[67]\tvalid_0's binary_logloss: 0.42408\n",
      "[68]\tvalid_0's binary_logloss: 0.425175\n",
      "[69]\tvalid_0's binary_logloss: 0.425505\n",
      "[70]\tvalid_0's binary_logloss: 0.423383\n",
      "[71]\tvalid_0's binary_logloss: 0.42297\n",
      "[72]\tvalid_0's binary_logloss: 0.422379\n",
      "[73]\tvalid_0's binary_logloss: 0.422851\n",
      "[74]\tvalid_0's binary_logloss: 0.421715\n",
      "[75]\tvalid_0's binary_logloss: 0.421275\n",
      "[76]\tvalid_0's binary_logloss: 0.420889\n",
      "[77]\tvalid_0's binary_logloss: 0.420977\n",
      "[78]\tvalid_0's binary_logloss: 0.420648\n",
      "[79]\tvalid_0's binary_logloss: 0.422316\n",
      "[80]\tvalid_0's binary_logloss: 0.421187\n",
      "[81]\tvalid_0's binary_logloss: 0.421663\n",
      "[82]\tvalid_0's binary_logloss: 0.423676\n",
      "[83]\tvalid_0's binary_logloss: 0.422814\n",
      "[84]\tvalid_0's binary_logloss: 0.422651\n",
      "[85]\tvalid_0's binary_logloss: 0.422443\n",
      "[86]\tvalid_0's binary_logloss: 0.423165\n",
      "[87]\tvalid_0's binary_logloss: 0.423489\n",
      "[88]\tvalid_0's binary_logloss: 0.42464\n",
      "[89]\tvalid_0's binary_logloss: 0.424736\n",
      "[90]\tvalid_0's binary_logloss: 0.426167\n",
      "[91]\tvalid_0's binary_logloss: 0.428001\n",
      "[92]\tvalid_0's binary_logloss: 0.426598\n",
      "[93]\tvalid_0's binary_logloss: 0.42575\n",
      "[94]\tvalid_0's binary_logloss: 0.425235\n",
      "[95]\tvalid_0's binary_logloss: 0.426197\n",
      "[96]\tvalid_0's binary_logloss: 0.426195\n",
      "[97]\tvalid_0's binary_logloss: 0.426697\n",
      "[98]\tvalid_0's binary_logloss: 0.427809\n",
      "Early stopping, best iteration is:\n",
      "[78]\tvalid_0's binary_logloss: 0.420648\n"
     ]
    }
   ],
   "metadata": {}
  },
  {
   "cell_type": "code",
   "execution_count": 104,
   "source": [
    "print(p_tst[:10])"
   ],
   "outputs": [
    {
     "output_type": "stream",
     "name": "stdout",
     "text": [
      "[0. 0. 0. 0. 0. 0. 1. 0. 1. 0.]\n"
     ]
    }
   ],
   "metadata": {}
  },
  {
   "cell_type": "code",
   "execution_count": 105,
   "source": [
    "print('accuracy_score:', f'{accuracy_score(y_val, p_val):.4f}')\r\n",
    "print('log_loss:', f'{log_loss(y_val, p_val):.4f}')\r\n",
    "print('f1_score:', f'{f1_score(y_val, p_val):.4f}')"
   ],
   "outputs": [
    {
     "output_type": "stream",
     "name": "stdout",
     "text": [
      "accuracy_score: 0.8045\n",
      "log_loss: 6.7534\n",
      "f1_score: 0.6847\n"
     ]
    }
   ],
   "metadata": {}
  },
  {
   "cell_type": "markdown",
   "source": [
    "## Visualize feature importance"
   ],
   "metadata": {}
  },
  {
   "cell_type": "code",
   "execution_count": 118,
   "source": [
    "plt.rcParams.update({'font.size': 10})\r\n",
    "imp = pd.DataFrame({'feature': trn.columns, 'importance': clf.feature_importances_})\r\n",
    "imp = imp.sort_values('importance').set_index('feature')\r\n",
    "imp.plot(kind='barh')"
   ],
   "outputs": [
    {
     "output_type": "execute_result",
     "data": {
      "text/plain": [
       "<AxesSubplot:ylabel='feature'>"
      ]
     },
     "metadata": {},
     "execution_count": 118
    },
    {
     "output_type": "display_data",
     "data": {
      "text/plain": [
       "<Figure size 720x360 with 1 Axes>"
      ],
      "image/svg+xml": "<?xml version=\"1.0\" encoding=\"utf-8\" standalone=\"no\"?>\r\n<!DOCTYPE svg PUBLIC \"-//W3C//DTD SVG 1.1//EN\"\r\n  \"http://www.w3.org/Graphics/SVG/1.1/DTD/svg11.dtd\">\r\n<svg height=\"319.178125pt\" version=\"1.1\" viewBox=\"0 0 721.852813 319.178125\" width=\"721.852813pt\" xmlns=\"http://www.w3.org/2000/svg\" xmlns:xlink=\"http://www.w3.org/1999/xlink\">\r\n <metadata>\r\n  <rdf:RDF xmlns:cc=\"http://creativecommons.org/ns#\" xmlns:dc=\"http://purl.org/dc/elements/1.1/\" xmlns:rdf=\"http://www.w3.org/1999/02/22-rdf-syntax-ns#\">\r\n   <cc:Work>\r\n    <dc:type rdf:resource=\"http://purl.org/dc/dcmitype/StillImage\"/>\r\n    <dc:date>2021-08-18T13:30:08.696395</dc:date>\r\n    <dc:format>image/svg+xml</dc:format>\r\n    <dc:creator>\r\n     <cc:Agent>\r\n      <dc:title>Matplotlib v3.4.2, https://matplotlib.org/</dc:title>\r\n     </cc:Agent>\r\n    </dc:creator>\r\n   </cc:Work>\r\n  </rdf:RDF>\r\n </metadata>\r\n <defs>\r\n  <style type=\"text/css\">*{stroke-linecap:butt;stroke-linejoin:round;}</style>\r\n </defs>\r\n <g id=\"figure_1\">\r\n  <g id=\"patch_1\">\r\n   <path d=\"M 0 319.178125 \r\nL 721.852813 319.178125 \r\nL 721.852813 0 \r\nL 0 0 \r\nz\r\n\" style=\"fill:#f0f0f0;\"/>\r\n  </g>\r\n  <g id=\"axes_1\">\r\n   <g id=\"patch_2\">\r\n    <path d=\"M 88.252813 298.8 \r\nL 714.652812 298.8 \r\nL 714.652812 7.2 \r\nL 88.252813 7.2 \r\nz\r\n\" style=\"fill:#f0f0f0;\"/>\r\n   </g>\r\n   <g id=\"matplotlib.axis_1\">\r\n    <g id=\"xtick_1\">\r\n     <g id=\"line2d_1\">\r\n      <path clip-path=\"url(#pae1310b807)\" d=\"M 88.252813 298.8 \r\nL 88.252813 7.2 \r\n\" style=\"fill:none;stroke:#cbcbcb;\"/>\r\n     </g>\r\n     <g id=\"line2d_2\"/>\r\n     <g id=\"text_1\">\r\n      <!-- 0 -->\r\n      <g transform=\"translate(85.071562 309.898438)scale(0.1 -0.1)\">\r\n       <defs>\r\n        <path d=\"M 2034 4250 \r\nQ 1547 4250 1301 3770 \r\nQ 1056 3291 1056 2328 \r\nQ 1056 1369 1301 889 \r\nQ 1547 409 2034 409 \r\nQ 2525 409 2770 889 \r\nQ 3016 1369 3016 2328 \r\nQ 3016 3291 2770 3770 \r\nQ 2525 4250 2034 4250 \r\nz\r\nM 2034 4750 \r\nQ 2819 4750 3233 4129 \r\nQ 3647 3509 3647 2328 \r\nQ 3647 1150 3233 529 \r\nQ 2819 -91 2034 -91 \r\nQ 1250 -91 836 529 \r\nQ 422 1150 422 2328 \r\nQ 422 3509 836 4129 \r\nQ 1250 4750 2034 4750 \r\nz\r\n\" id=\"DejaVuSans-30\" transform=\"scale(0.015625)\"/>\r\n       </defs>\r\n       <use xlink:href=\"#DejaVuSans-30\"/>\r\n      </g>\r\n     </g>\r\n    </g>\r\n    <g id=\"xtick_2\">\r\n     <g id=\"line2d_3\">\r\n      <path clip-path=\"url(#pae1310b807)\" d=\"M 163.768183 298.8 \r\nL 163.768183 7.2 \r\n\" style=\"fill:none;stroke:#cbcbcb;\"/>\r\n     </g>\r\n     <g id=\"line2d_4\"/>\r\n     <g id=\"text_2\">\r\n      <!-- 20 -->\r\n      <g transform=\"translate(157.405683 309.898438)scale(0.1 -0.1)\">\r\n       <defs>\r\n        <path d=\"M 1228 531 \r\nL 3431 531 \r\nL 3431 0 \r\nL 469 0 \r\nL 469 531 \r\nQ 828 903 1448 1529 \r\nQ 2069 2156 2228 2338 \r\nQ 2531 2678 2651 2914 \r\nQ 2772 3150 2772 3378 \r\nQ 2772 3750 2511 3984 \r\nQ 2250 4219 1831 4219 \r\nQ 1534 4219 1204 4116 \r\nQ 875 4013 500 3803 \r\nL 500 4441 \r\nQ 881 4594 1212 4672 \r\nQ 1544 4750 1819 4750 \r\nQ 2544 4750 2975 4387 \r\nQ 3406 4025 3406 3419 \r\nQ 3406 3131 3298 2873 \r\nQ 3191 2616 2906 2266 \r\nQ 2828 2175 2409 1742 \r\nQ 1991 1309 1228 531 \r\nz\r\n\" id=\"DejaVuSans-32\" transform=\"scale(0.015625)\"/>\r\n       </defs>\r\n       <use xlink:href=\"#DejaVuSans-32\"/>\r\n       <use x=\"63.623047\" xlink:href=\"#DejaVuSans-30\"/>\r\n      </g>\r\n     </g>\r\n    </g>\r\n    <g id=\"xtick_3\">\r\n     <g id=\"line2d_5\">\r\n      <path clip-path=\"url(#pae1310b807)\" d=\"M 239.283554 298.8 \r\nL 239.283554 7.2 \r\n\" style=\"fill:none;stroke:#cbcbcb;\"/>\r\n     </g>\r\n     <g id=\"line2d_6\"/>\r\n     <g id=\"text_3\">\r\n      <!-- 40 -->\r\n      <g transform=\"translate(232.921054 309.898438)scale(0.1 -0.1)\">\r\n       <defs>\r\n        <path d=\"M 2419 4116 \r\nL 825 1625 \r\nL 2419 1625 \r\nL 2419 4116 \r\nz\r\nM 2253 4666 \r\nL 3047 4666 \r\nL 3047 1625 \r\nL 3713 1625 \r\nL 3713 1100 \r\nL 3047 1100 \r\nL 3047 0 \r\nL 2419 0 \r\nL 2419 1100 \r\nL 313 1100 \r\nL 313 1709 \r\nL 2253 4666 \r\nz\r\n\" id=\"DejaVuSans-34\" transform=\"scale(0.015625)\"/>\r\n       </defs>\r\n       <use xlink:href=\"#DejaVuSans-34\"/>\r\n       <use x=\"63.623047\" xlink:href=\"#DejaVuSans-30\"/>\r\n      </g>\r\n     </g>\r\n    </g>\r\n    <g id=\"xtick_4\">\r\n     <g id=\"line2d_7\">\r\n      <path clip-path=\"url(#pae1310b807)\" d=\"M 314.798925 298.8 \r\nL 314.798925 7.2 \r\n\" style=\"fill:none;stroke:#cbcbcb;\"/>\r\n     </g>\r\n     <g id=\"line2d_8\"/>\r\n     <g id=\"text_4\">\r\n      <!-- 60 -->\r\n      <g transform=\"translate(308.436425 309.898438)scale(0.1 -0.1)\">\r\n       <defs>\r\n        <path d=\"M 2113 2584 \r\nQ 1688 2584 1439 2293 \r\nQ 1191 2003 1191 1497 \r\nQ 1191 994 1439 701 \r\nQ 1688 409 2113 409 \r\nQ 2538 409 2786 701 \r\nQ 3034 994 3034 1497 \r\nQ 3034 2003 2786 2293 \r\nQ 2538 2584 2113 2584 \r\nz\r\nM 3366 4563 \r\nL 3366 3988 \r\nQ 3128 4100 2886 4159 \r\nQ 2644 4219 2406 4219 \r\nQ 1781 4219 1451 3797 \r\nQ 1122 3375 1075 2522 \r\nQ 1259 2794 1537 2939 \r\nQ 1816 3084 2150 3084 \r\nQ 2853 3084 3261 2657 \r\nQ 3669 2231 3669 1497 \r\nQ 3669 778 3244 343 \r\nQ 2819 -91 2113 -91 \r\nQ 1303 -91 875 529 \r\nQ 447 1150 447 2328 \r\nQ 447 3434 972 4092 \r\nQ 1497 4750 2381 4750 \r\nQ 2619 4750 2861 4703 \r\nQ 3103 4656 3366 4563 \r\nz\r\n\" id=\"DejaVuSans-36\" transform=\"scale(0.015625)\"/>\r\n       </defs>\r\n       <use xlink:href=\"#DejaVuSans-36\"/>\r\n       <use x=\"63.623047\" xlink:href=\"#DejaVuSans-30\"/>\r\n      </g>\r\n     </g>\r\n    </g>\r\n    <g id=\"xtick_5\">\r\n     <g id=\"line2d_9\">\r\n      <path clip-path=\"url(#pae1310b807)\" d=\"M 390.314295 298.8 \r\nL 390.314295 7.2 \r\n\" style=\"fill:none;stroke:#cbcbcb;\"/>\r\n     </g>\r\n     <g id=\"line2d_10\"/>\r\n     <g id=\"text_5\">\r\n      <!-- 80 -->\r\n      <g transform=\"translate(383.951795 309.898438)scale(0.1 -0.1)\">\r\n       <defs>\r\n        <path d=\"M 2034 2216 \r\nQ 1584 2216 1326 1975 \r\nQ 1069 1734 1069 1313 \r\nQ 1069 891 1326 650 \r\nQ 1584 409 2034 409 \r\nQ 2484 409 2743 651 \r\nQ 3003 894 3003 1313 \r\nQ 3003 1734 2745 1975 \r\nQ 2488 2216 2034 2216 \r\nz\r\nM 1403 2484 \r\nQ 997 2584 770 2862 \r\nQ 544 3141 544 3541 \r\nQ 544 4100 942 4425 \r\nQ 1341 4750 2034 4750 \r\nQ 2731 4750 3128 4425 \r\nQ 3525 4100 3525 3541 \r\nQ 3525 3141 3298 2862 \r\nQ 3072 2584 2669 2484 \r\nQ 3125 2378 3379 2068 \r\nQ 3634 1759 3634 1313 \r\nQ 3634 634 3220 271 \r\nQ 2806 -91 2034 -91 \r\nQ 1263 -91 848 271 \r\nQ 434 634 434 1313 \r\nQ 434 1759 690 2068 \r\nQ 947 2378 1403 2484 \r\nz\r\nM 1172 3481 \r\nQ 1172 3119 1398 2916 \r\nQ 1625 2713 2034 2713 \r\nQ 2441 2713 2670 2916 \r\nQ 2900 3119 2900 3481 \r\nQ 2900 3844 2670 4047 \r\nQ 2441 4250 2034 4250 \r\nQ 1625 4250 1398 4047 \r\nQ 1172 3844 1172 3481 \r\nz\r\n\" id=\"DejaVuSans-38\" transform=\"scale(0.015625)\"/>\r\n       </defs>\r\n       <use xlink:href=\"#DejaVuSans-38\"/>\r\n       <use x=\"63.623047\" xlink:href=\"#DejaVuSans-30\"/>\r\n      </g>\r\n     </g>\r\n    </g>\r\n    <g id=\"xtick_6\">\r\n     <g id=\"line2d_11\">\r\n      <path clip-path=\"url(#pae1310b807)\" d=\"M 465.829666 298.8 \r\nL 465.829666 7.2 \r\n\" style=\"fill:none;stroke:#cbcbcb;\"/>\r\n     </g>\r\n     <g id=\"line2d_12\"/>\r\n     <g id=\"text_6\">\r\n      <!-- 100 -->\r\n      <g transform=\"translate(456.285916 309.898438)scale(0.1 -0.1)\">\r\n       <defs>\r\n        <path d=\"M 794 531 \r\nL 1825 531 \r\nL 1825 4091 \r\nL 703 3866 \r\nL 703 4441 \r\nL 1819 4666 \r\nL 2450 4666 \r\nL 2450 531 \r\nL 3481 531 \r\nL 3481 0 \r\nL 794 0 \r\nL 794 531 \r\nz\r\n\" id=\"DejaVuSans-31\" transform=\"scale(0.015625)\"/>\r\n       </defs>\r\n       <use xlink:href=\"#DejaVuSans-31\"/>\r\n       <use x=\"63.623047\" xlink:href=\"#DejaVuSans-30\"/>\r\n       <use x=\"127.246094\" xlink:href=\"#DejaVuSans-30\"/>\r\n      </g>\r\n     </g>\r\n    </g>\r\n    <g id=\"xtick_7\">\r\n     <g id=\"line2d_13\">\r\n      <path clip-path=\"url(#pae1310b807)\" d=\"M 541.345037 298.8 \r\nL 541.345037 7.2 \r\n\" style=\"fill:none;stroke:#cbcbcb;\"/>\r\n     </g>\r\n     <g id=\"line2d_14\"/>\r\n     <g id=\"text_7\">\r\n      <!-- 120 -->\r\n      <g transform=\"translate(531.801287 309.898438)scale(0.1 -0.1)\">\r\n       <use xlink:href=\"#DejaVuSans-31\"/>\r\n       <use x=\"63.623047\" xlink:href=\"#DejaVuSans-32\"/>\r\n       <use x=\"127.246094\" xlink:href=\"#DejaVuSans-30\"/>\r\n      </g>\r\n     </g>\r\n    </g>\r\n    <g id=\"xtick_8\">\r\n     <g id=\"line2d_15\">\r\n      <path clip-path=\"url(#pae1310b807)\" d=\"M 616.860407 298.8 \r\nL 616.860407 7.2 \r\n\" style=\"fill:none;stroke:#cbcbcb;\"/>\r\n     </g>\r\n     <g id=\"line2d_16\"/>\r\n     <g id=\"text_8\">\r\n      <!-- 140 -->\r\n      <g transform=\"translate(607.316657 309.898438)scale(0.1 -0.1)\">\r\n       <use xlink:href=\"#DejaVuSans-31\"/>\r\n       <use x=\"63.623047\" xlink:href=\"#DejaVuSans-34\"/>\r\n       <use x=\"127.246094\" xlink:href=\"#DejaVuSans-30\"/>\r\n      </g>\r\n     </g>\r\n    </g>\r\n    <g id=\"xtick_9\">\r\n     <g id=\"line2d_17\">\r\n      <path clip-path=\"url(#pae1310b807)\" d=\"M 692.375778 298.8 \r\nL 692.375778 7.2 \r\n\" style=\"fill:none;stroke:#cbcbcb;\"/>\r\n     </g>\r\n     <g id=\"line2d_18\"/>\r\n     <g id=\"text_9\">\r\n      <!-- 160 -->\r\n      <g transform=\"translate(682.832028 309.898438)scale(0.1 -0.1)\">\r\n       <use xlink:href=\"#DejaVuSans-31\"/>\r\n       <use x=\"63.623047\" xlink:href=\"#DejaVuSans-36\"/>\r\n       <use x=\"127.246094\" xlink:href=\"#DejaVuSans-30\"/>\r\n      </g>\r\n     </g>\r\n    </g>\r\n   </g>\r\n   <g id=\"matplotlib.axis_2\">\r\n    <g id=\"ytick_1\">\r\n     <g id=\"line2d_19\">\r\n      <path clip-path=\"url(#pae1310b807)\" d=\"M 88.252813 293.772414 \r\nL 714.652812 293.772414 \r\n\" style=\"fill:none;stroke:#cbcbcb;\"/>\r\n     </g>\r\n     <g id=\"line2d_20\"/>\r\n     <g id=\"text_10\">\r\n      <!-- Age_7 -->\r\n      <g transform=\"translate(54.048125 297.43257)scale(0.1 -0.1)\">\r\n       <defs>\r\n        <path d=\"M 2188 4044 \r\nL 1331 1722 \r\nL 3047 1722 \r\nL 2188 4044 \r\nz\r\nM 1831 4666 \r\nL 2547 4666 \r\nL 4325 0 \r\nL 3669 0 \r\nL 3244 1197 \r\nL 1141 1197 \r\nL 716 0 \r\nL 50 0 \r\nL 1831 4666 \r\nz\r\n\" id=\"DejaVuSans-41\" transform=\"scale(0.015625)\"/>\r\n        <path d=\"M 2906 1791 \r\nQ 2906 2416 2648 2759 \r\nQ 2391 3103 1925 3103 \r\nQ 1463 3103 1205 2759 \r\nQ 947 2416 947 1791 \r\nQ 947 1169 1205 825 \r\nQ 1463 481 1925 481 \r\nQ 2391 481 2648 825 \r\nQ 2906 1169 2906 1791 \r\nz\r\nM 3481 434 \r\nQ 3481 -459 3084 -895 \r\nQ 2688 -1331 1869 -1331 \r\nQ 1566 -1331 1297 -1286 \r\nQ 1028 -1241 775 -1147 \r\nL 775 -588 \r\nQ 1028 -725 1275 -790 \r\nQ 1522 -856 1778 -856 \r\nQ 2344 -856 2625 -561 \r\nQ 2906 -266 2906 331 \r\nL 2906 616 \r\nQ 2728 306 2450 153 \r\nQ 2172 0 1784 0 \r\nQ 1141 0 747 490 \r\nQ 353 981 353 1791 \r\nQ 353 2603 747 3093 \r\nQ 1141 3584 1784 3584 \r\nQ 2172 3584 2450 3431 \r\nQ 2728 3278 2906 2969 \r\nL 2906 3500 \r\nL 3481 3500 \r\nL 3481 434 \r\nz\r\n\" id=\"DejaVuSans-67\" transform=\"scale(0.015625)\"/>\r\n        <path d=\"M 3597 1894 \r\nL 3597 1613 \r\nL 953 1613 \r\nQ 991 1019 1311 708 \r\nQ 1631 397 2203 397 \r\nQ 2534 397 2845 478 \r\nQ 3156 559 3463 722 \r\nL 3463 178 \r\nQ 3153 47 2828 -22 \r\nQ 2503 -91 2169 -91 \r\nQ 1331 -91 842 396 \r\nQ 353 884 353 1716 \r\nQ 353 2575 817 3079 \r\nQ 1281 3584 2069 3584 \r\nQ 2775 3584 3186 3129 \r\nQ 3597 2675 3597 1894 \r\nz\r\nM 3022 2063 \r\nQ 3016 2534 2758 2815 \r\nQ 2500 3097 2075 3097 \r\nQ 1594 3097 1305 2825 \r\nQ 1016 2553 972 2059 \r\nL 3022 2063 \r\nz\r\n\" id=\"DejaVuSans-65\" transform=\"scale(0.015625)\"/>\r\n        <path d=\"M 3263 -1063 \r\nL 3263 -1509 \r\nL -63 -1509 \r\nL -63 -1063 \r\nL 3263 -1063 \r\nz\r\n\" id=\"DejaVuSans-5f\" transform=\"scale(0.015625)\"/>\r\n        <path d=\"M 525 4666 \r\nL 3525 4666 \r\nL 3525 4397 \r\nL 1831 0 \r\nL 1172 0 \r\nL 2766 4134 \r\nL 525 4134 \r\nL 525 4666 \r\nz\r\n\" id=\"DejaVuSans-37\" transform=\"scale(0.015625)\"/>\r\n       </defs>\r\n       <use xlink:href=\"#DejaVuSans-41\"/>\r\n       <use x=\"68.408203\" xlink:href=\"#DejaVuSans-67\"/>\r\n       <use x=\"131.884766\" xlink:href=\"#DejaVuSans-65\"/>\r\n       <use x=\"193.408203\" xlink:href=\"#DejaVuSans-5f\"/>\r\n       <use x=\"243.408203\" xlink:href=\"#DejaVuSans-37\"/>\r\n      </g>\r\n     </g>\r\n    </g>\r\n    <g id=\"ytick_2\">\r\n     <g id=\"line2d_21\">\r\n      <path clip-path=\"url(#pae1310b807)\" d=\"M 88.252813 283.717241 \r\nL 714.652812 283.717241 \r\n\" style=\"fill:none;stroke:#cbcbcb;\"/>\r\n     </g>\r\n     <g id=\"line2d_22\"/>\r\n     <g id=\"text_11\">\r\n      <!-- Fare_0 -->\r\n      <g transform=\"translate(52.384063 287.428179)scale(0.1 -0.1)\">\r\n       <defs>\r\n        <path d=\"M 628 4666 \r\nL 3309 4666 \r\nL 3309 4134 \r\nL 1259 4134 \r\nL 1259 2759 \r\nL 3109 2759 \r\nL 3109 2228 \r\nL 1259 2228 \r\nL 1259 0 \r\nL 628 0 \r\nL 628 4666 \r\nz\r\n\" id=\"DejaVuSans-46\" transform=\"scale(0.015625)\"/>\r\n        <path d=\"M 2194 1759 \r\nQ 1497 1759 1228 1600 \r\nQ 959 1441 959 1056 \r\nQ 959 750 1161 570 \r\nQ 1363 391 1709 391 \r\nQ 2188 391 2477 730 \r\nQ 2766 1069 2766 1631 \r\nL 2766 1759 \r\nL 2194 1759 \r\nz\r\nM 3341 1997 \r\nL 3341 0 \r\nL 2766 0 \r\nL 2766 531 \r\nQ 2569 213 2275 61 \r\nQ 1981 -91 1556 -91 \r\nQ 1019 -91 701 211 \r\nQ 384 513 384 1019 \r\nQ 384 1609 779 1909 \r\nQ 1175 2209 1959 2209 \r\nL 2766 2209 \r\nL 2766 2266 \r\nQ 2766 2663 2505 2880 \r\nQ 2244 3097 1772 3097 \r\nQ 1472 3097 1187 3025 \r\nQ 903 2953 641 2809 \r\nL 641 3341 \r\nQ 956 3463 1253 3523 \r\nQ 1550 3584 1831 3584 \r\nQ 2591 3584 2966 3190 \r\nQ 3341 2797 3341 1997 \r\nz\r\n\" id=\"DejaVuSans-61\" transform=\"scale(0.015625)\"/>\r\n        <path d=\"M 2631 2963 \r\nQ 2534 3019 2420 3045 \r\nQ 2306 3072 2169 3072 \r\nQ 1681 3072 1420 2755 \r\nQ 1159 2438 1159 1844 \r\nL 1159 0 \r\nL 581 0 \r\nL 581 3500 \r\nL 1159 3500 \r\nL 1159 2956 \r\nQ 1341 3275 1631 3429 \r\nQ 1922 3584 2338 3584 \r\nQ 2397 3584 2469 3576 \r\nQ 2541 3569 2628 3553 \r\nL 2631 2963 \r\nz\r\n\" id=\"DejaVuSans-72\" transform=\"scale(0.015625)\"/>\r\n       </defs>\r\n       <use xlink:href=\"#DejaVuSans-46\"/>\r\n       <use x=\"48.394531\" xlink:href=\"#DejaVuSans-61\"/>\r\n       <use x=\"109.673828\" xlink:href=\"#DejaVuSans-72\"/>\r\n       <use x=\"148.537109\" xlink:href=\"#DejaVuSans-65\"/>\r\n       <use x=\"210.060547\" xlink:href=\"#DejaVuSans-5f\"/>\r\n       <use x=\"260.060547\" xlink:href=\"#DejaVuSans-30\"/>\r\n      </g>\r\n     </g>\r\n    </g>\r\n    <g id=\"ytick_3\">\r\n     <g id=\"line2d_23\">\r\n      <path clip-path=\"url(#pae1310b807)\" d=\"M 88.252813 273.662069 \r\nL 714.652812 273.662069 \r\n\" style=\"fill:none;stroke:#cbcbcb;\"/>\r\n     </g>\r\n     <g id=\"line2d_24\"/>\r\n     <g id=\"text_12\">\r\n      <!-- Age_6 -->\r\n      <g transform=\"translate(54.048125 277.373006)scale(0.1 -0.1)\">\r\n       <use xlink:href=\"#DejaVuSans-41\"/>\r\n       <use x=\"68.408203\" xlink:href=\"#DejaVuSans-67\"/>\r\n       <use x=\"131.884766\" xlink:href=\"#DejaVuSans-65\"/>\r\n       <use x=\"193.408203\" xlink:href=\"#DejaVuSans-5f\"/>\r\n       <use x=\"243.408203\" xlink:href=\"#DejaVuSans-36\"/>\r\n      </g>\r\n     </g>\r\n    </g>\r\n    <g id=\"ytick_4\">\r\n     <g id=\"line2d_25\">\r\n      <path clip-path=\"url(#pae1310b807)\" d=\"M 88.252813 263.606897 \r\nL 714.652812 263.606897 \r\n\" style=\"fill:none;stroke:#cbcbcb;\"/>\r\n     </g>\r\n     <g id=\"line2d_26\"/>\r\n     <g id=\"text_13\">\r\n      <!-- Age_5 -->\r\n      <g transform=\"translate(54.048125 267.267053)scale(0.1 -0.1)\">\r\n       <defs>\r\n        <path d=\"M 691 4666 \r\nL 3169 4666 \r\nL 3169 4134 \r\nL 1269 4134 \r\nL 1269 2991 \r\nQ 1406 3038 1543 3061 \r\nQ 1681 3084 1819 3084 \r\nQ 2600 3084 3056 2656 \r\nQ 3513 2228 3513 1497 \r\nQ 3513 744 3044 326 \r\nQ 2575 -91 1722 -91 \r\nQ 1428 -91 1123 -41 \r\nQ 819 9 494 109 \r\nL 494 744 \r\nQ 775 591 1075 516 \r\nQ 1375 441 1709 441 \r\nQ 2250 441 2565 725 \r\nQ 2881 1009 2881 1497 \r\nQ 2881 1984 2565 2268 \r\nQ 2250 2553 1709 2553 \r\nQ 1456 2553 1204 2497 \r\nQ 953 2441 691 2322 \r\nL 691 4666 \r\nz\r\n\" id=\"DejaVuSans-35\" transform=\"scale(0.015625)\"/>\r\n       </defs>\r\n       <use xlink:href=\"#DejaVuSans-41\"/>\r\n       <use x=\"68.408203\" xlink:href=\"#DejaVuSans-67\"/>\r\n       <use x=\"131.884766\" xlink:href=\"#DejaVuSans-65\"/>\r\n       <use x=\"193.408203\" xlink:href=\"#DejaVuSans-5f\"/>\r\n       <use x=\"243.408203\" xlink:href=\"#DejaVuSans-35\"/>\r\n      </g>\r\n     </g>\r\n    </g>\r\n    <g id=\"ytick_5\">\r\n     <g id=\"line2d_27\">\r\n      <path clip-path=\"url(#pae1310b807)\" d=\"M 88.252813 253.551724 \r\nL 714.652812 253.551724 \r\n\" style=\"fill:none;stroke:#cbcbcb;\"/>\r\n     </g>\r\n     <g id=\"line2d_28\"/>\r\n     <g id=\"text_14\">\r\n      <!-- Fare_4 -->\r\n      <g transform=\"translate(52.384063 257.21188)scale(0.1 -0.1)\">\r\n       <use xlink:href=\"#DejaVuSans-46\"/>\r\n       <use x=\"48.394531\" xlink:href=\"#DejaVuSans-61\"/>\r\n       <use x=\"109.673828\" xlink:href=\"#DejaVuSans-72\"/>\r\n       <use x=\"148.537109\" xlink:href=\"#DejaVuSans-65\"/>\r\n       <use x=\"210.060547\" xlink:href=\"#DejaVuSans-5f\"/>\r\n       <use x=\"260.060547\" xlink:href=\"#DejaVuSans-34\"/>\r\n      </g>\r\n     </g>\r\n    </g>\r\n    <g id=\"ytick_6\">\r\n     <g id=\"line2d_29\">\r\n      <path clip-path=\"url(#pae1310b807)\" d=\"M 88.252813 243.496552 \r\nL 714.652812 243.496552 \r\n\" style=\"fill:none;stroke:#cbcbcb;\"/>\r\n     </g>\r\n     <g id=\"line2d_30\"/>\r\n     <g id=\"text_15\">\r\n      <!-- Title_5 -->\r\n      <g transform=\"translate(51.965313 247.29577)scale(0.1 -0.1)\">\r\n       <defs>\r\n        <path d=\"M -19 4666 \r\nL 3928 4666 \r\nL 3928 4134 \r\nL 2272 4134 \r\nL 2272 0 \r\nL 1638 0 \r\nL 1638 4134 \r\nL -19 4134 \r\nL -19 4666 \r\nz\r\n\" id=\"DejaVuSans-54\" transform=\"scale(0.015625)\"/>\r\n        <path d=\"M 603 3500 \r\nL 1178 3500 \r\nL 1178 0 \r\nL 603 0 \r\nL 603 3500 \r\nz\r\nM 603 4863 \r\nL 1178 4863 \r\nL 1178 4134 \r\nL 603 4134 \r\nL 603 4863 \r\nz\r\n\" id=\"DejaVuSans-69\" transform=\"scale(0.015625)\"/>\r\n        <path d=\"M 1172 4494 \r\nL 1172 3500 \r\nL 2356 3500 \r\nL 2356 3053 \r\nL 1172 3053 \r\nL 1172 1153 \r\nQ 1172 725 1289 603 \r\nQ 1406 481 1766 481 \r\nL 2356 481 \r\nL 2356 0 \r\nL 1766 0 \r\nQ 1100 0 847 248 \r\nQ 594 497 594 1153 \r\nL 594 3053 \r\nL 172 3053 \r\nL 172 3500 \r\nL 594 3500 \r\nL 594 4494 \r\nL 1172 4494 \r\nz\r\n\" id=\"DejaVuSans-74\" transform=\"scale(0.015625)\"/>\r\n        <path d=\"M 603 4863 \r\nL 1178 4863 \r\nL 1178 0 \r\nL 603 0 \r\nL 603 4863 \r\nz\r\n\" id=\"DejaVuSans-6c\" transform=\"scale(0.015625)\"/>\r\n       </defs>\r\n       <use xlink:href=\"#DejaVuSans-54\"/>\r\n       <use x=\"57.958984\" xlink:href=\"#DejaVuSans-69\"/>\r\n       <use x=\"85.742188\" xlink:href=\"#DejaVuSans-74\"/>\r\n       <use x=\"124.951172\" xlink:href=\"#DejaVuSans-6c\"/>\r\n       <use x=\"152.734375\" xlink:href=\"#DejaVuSans-65\"/>\r\n       <use x=\"214.257812\" xlink:href=\"#DejaVuSans-5f\"/>\r\n       <use x=\"264.257812\" xlink:href=\"#DejaVuSans-35\"/>\r\n      </g>\r\n     </g>\r\n    </g>\r\n    <g id=\"ytick_7\">\r\n     <g id=\"line2d_31\">\r\n      <path clip-path=\"url(#pae1310b807)\" d=\"M 88.252813 233.441379 \r\nL 714.652812 233.441379 \r\n\" style=\"fill:none;stroke:#cbcbcb;\"/>\r\n     </g>\r\n     <g id=\"line2d_32\"/>\r\n     <g id=\"text_16\">\r\n      <!-- Age_0 -->\r\n      <g transform=\"translate(54.048125 237.152317)scale(0.1 -0.1)\">\r\n       <use xlink:href=\"#DejaVuSans-41\"/>\r\n       <use x=\"68.408203\" xlink:href=\"#DejaVuSans-67\"/>\r\n       <use x=\"131.884766\" xlink:href=\"#DejaVuSans-65\"/>\r\n       <use x=\"193.408203\" xlink:href=\"#DejaVuSans-5f\"/>\r\n       <use x=\"243.408203\" xlink:href=\"#DejaVuSans-30\"/>\r\n      </g>\r\n     </g>\r\n    </g>\r\n    <g id=\"ytick_8\">\r\n     <g id=\"line2d_33\">\r\n      <path clip-path=\"url(#pae1310b807)\" d=\"M 88.252813 223.386207 \r\nL 714.652812 223.386207 \r\n\" style=\"fill:none;stroke:#cbcbcb;\"/>\r\n     </g>\r\n     <g id=\"line2d_34\"/>\r\n     <g id=\"text_17\">\r\n      <!-- Title_4 -->\r\n      <g transform=\"translate(51.965313 227.185426)scale(0.1 -0.1)\">\r\n       <use xlink:href=\"#DejaVuSans-54\"/>\r\n       <use x=\"57.958984\" xlink:href=\"#DejaVuSans-69\"/>\r\n       <use x=\"85.742188\" xlink:href=\"#DejaVuSans-74\"/>\r\n       <use x=\"124.951172\" xlink:href=\"#DejaVuSans-6c\"/>\r\n       <use x=\"152.734375\" xlink:href=\"#DejaVuSans-65\"/>\r\n       <use x=\"214.257812\" xlink:href=\"#DejaVuSans-5f\"/>\r\n       <use x=\"264.257812\" xlink:href=\"#DejaVuSans-34\"/>\r\n      </g>\r\n     </g>\r\n    </g>\r\n    <g id=\"ytick_9\">\r\n     <g id=\"line2d_35\">\r\n      <path clip-path=\"url(#pae1310b807)\" d=\"M 88.252813 213.331034 \r\nL 714.652812 213.331034 \r\n\" style=\"fill:none;stroke:#cbcbcb;\"/>\r\n     </g>\r\n     <g id=\"line2d_36\"/>\r\n     <g id=\"text_18\">\r\n      <!-- Sex_1 -->\r\n      <g transform=\"translate(55.145 217.041972)scale(0.1 -0.1)\">\r\n       <defs>\r\n        <path d=\"M 3425 4513 \r\nL 3425 3897 \r\nQ 3066 4069 2747 4153 \r\nQ 2428 4238 2131 4238 \r\nQ 1616 4238 1336 4038 \r\nQ 1056 3838 1056 3469 \r\nQ 1056 3159 1242 3001 \r\nQ 1428 2844 1947 2747 \r\nL 2328 2669 \r\nQ 3034 2534 3370 2195 \r\nQ 3706 1856 3706 1288 \r\nQ 3706 609 3251 259 \r\nQ 2797 -91 1919 -91 \r\nQ 1588 -91 1214 -16 \r\nQ 841 59 441 206 \r\nL 441 856 \r\nQ 825 641 1194 531 \r\nQ 1563 422 1919 422 \r\nQ 2459 422 2753 634 \r\nQ 3047 847 3047 1241 \r\nQ 3047 1584 2836 1778 \r\nQ 2625 1972 2144 2069 \r\nL 1759 2144 \r\nQ 1053 2284 737 2584 \r\nQ 422 2884 422 3419 \r\nQ 422 4038 858 4394 \r\nQ 1294 4750 2059 4750 \r\nQ 2388 4750 2728 4690 \r\nQ 3069 4631 3425 4513 \r\nz\r\n\" id=\"DejaVuSans-53\" transform=\"scale(0.015625)\"/>\r\n        <path d=\"M 3513 3500 \r\nL 2247 1797 \r\nL 3578 0 \r\nL 2900 0 \r\nL 1881 1375 \r\nL 863 0 \r\nL 184 0 \r\nL 1544 1831 \r\nL 300 3500 \r\nL 978 3500 \r\nL 1906 2253 \r\nL 2834 3500 \r\nL 3513 3500 \r\nz\r\n\" id=\"DejaVuSans-78\" transform=\"scale(0.015625)\"/>\r\n       </defs>\r\n       <use xlink:href=\"#DejaVuSans-53\"/>\r\n       <use x=\"63.476562\" xlink:href=\"#DejaVuSans-65\"/>\r\n       <use x=\"123.25\" xlink:href=\"#DejaVuSans-78\"/>\r\n       <use x=\"182.429688\" xlink:href=\"#DejaVuSans-5f\"/>\r\n       <use x=\"232.429688\" xlink:href=\"#DejaVuSans-31\"/>\r\n      </g>\r\n     </g>\r\n    </g>\r\n    <g id=\"ytick_10\">\r\n     <g id=\"line2d_37\">\r\n      <path clip-path=\"url(#pae1310b807)\" d=\"M 88.252813 203.275862 \r\nL 714.652812 203.275862 \r\n\" style=\"fill:none;stroke:#cbcbcb;\"/>\r\n     </g>\r\n     <g id=\"line2d_38\"/>\r\n     <g id=\"text_19\">\r\n      <!-- Age_4 -->\r\n      <g transform=\"translate(54.048125 206.936018)scale(0.1 -0.1)\">\r\n       <use xlink:href=\"#DejaVuSans-41\"/>\r\n       <use x=\"68.408203\" xlink:href=\"#DejaVuSans-67\"/>\r\n       <use x=\"131.884766\" xlink:href=\"#DejaVuSans-65\"/>\r\n       <use x=\"193.408203\" xlink:href=\"#DejaVuSans-5f\"/>\r\n       <use x=\"243.408203\" xlink:href=\"#DejaVuSans-34\"/>\r\n      </g>\r\n     </g>\r\n    </g>\r\n    <g id=\"ytick_11\">\r\n     <g id=\"line2d_39\">\r\n      <path clip-path=\"url(#pae1310b807)\" d=\"M 88.252813 193.22069 \r\nL 714.652812 193.22069 \r\n\" style=\"fill:none;stroke:#cbcbcb;\"/>\r\n     </g>\r\n     <g id=\"line2d_40\"/>\r\n     <g id=\"text_20\">\r\n      <!-- Title_3 -->\r\n      <g transform=\"translate(51.965313 197.019908)scale(0.1 -0.1)\">\r\n       <defs>\r\n        <path d=\"M 2597 2516 \r\nQ 3050 2419 3304 2112 \r\nQ 3559 1806 3559 1356 \r\nQ 3559 666 3084 287 \r\nQ 2609 -91 1734 -91 \r\nQ 1441 -91 1130 -33 \r\nQ 819 25 488 141 \r\nL 488 750 \r\nQ 750 597 1062 519 \r\nQ 1375 441 1716 441 \r\nQ 2309 441 2620 675 \r\nQ 2931 909 2931 1356 \r\nQ 2931 1769 2642 2001 \r\nQ 2353 2234 1838 2234 \r\nL 1294 2234 \r\nL 1294 2753 \r\nL 1863 2753 \r\nQ 2328 2753 2575 2939 \r\nQ 2822 3125 2822 3475 \r\nQ 2822 3834 2567 4026 \r\nQ 2313 4219 1838 4219 \r\nQ 1578 4219 1281 4162 \r\nQ 984 4106 628 3988 \r\nL 628 4550 \r\nQ 988 4650 1302 4700 \r\nQ 1616 4750 1894 4750 \r\nQ 2613 4750 3031 4423 \r\nQ 3450 4097 3450 3541 \r\nQ 3450 3153 3228 2886 \r\nQ 3006 2619 2597 2516 \r\nz\r\n\" id=\"DejaVuSans-33\" transform=\"scale(0.015625)\"/>\r\n       </defs>\r\n       <use xlink:href=\"#DejaVuSans-54\"/>\r\n       <use x=\"57.958984\" xlink:href=\"#DejaVuSans-69\"/>\r\n       <use x=\"85.742188\" xlink:href=\"#DejaVuSans-74\"/>\r\n       <use x=\"124.951172\" xlink:href=\"#DejaVuSans-6c\"/>\r\n       <use x=\"152.734375\" xlink:href=\"#DejaVuSans-65\"/>\r\n       <use x=\"214.257812\" xlink:href=\"#DejaVuSans-5f\"/>\r\n       <use x=\"264.257812\" xlink:href=\"#DejaVuSans-33\"/>\r\n      </g>\r\n     </g>\r\n    </g>\r\n    <g id=\"ytick_12\">\r\n     <g id=\"line2d_41\">\r\n      <path clip-path=\"url(#pae1310b807)\" d=\"M 88.252813 183.165517 \r\nL 714.652812 183.165517 \r\n\" style=\"fill:none;stroke:#cbcbcb;\"/>\r\n     </g>\r\n     <g id=\"line2d_42\"/>\r\n     <g id=\"text_21\">\r\n      <!-- Family_2 -->\r\n      <g transform=\"translate(41.2075 186.964736)scale(0.1 -0.1)\">\r\n       <defs>\r\n        <path d=\"M 3328 2828 \r\nQ 3544 3216 3844 3400 \r\nQ 4144 3584 4550 3584 \r\nQ 5097 3584 5394 3201 \r\nQ 5691 2819 5691 2113 \r\nL 5691 0 \r\nL 5113 0 \r\nL 5113 2094 \r\nQ 5113 2597 4934 2840 \r\nQ 4756 3084 4391 3084 \r\nQ 3944 3084 3684 2787 \r\nQ 3425 2491 3425 1978 \r\nL 3425 0 \r\nL 2847 0 \r\nL 2847 2094 \r\nQ 2847 2600 2669 2842 \r\nQ 2491 3084 2119 3084 \r\nQ 1678 3084 1418 2786 \r\nQ 1159 2488 1159 1978 \r\nL 1159 0 \r\nL 581 0 \r\nL 581 3500 \r\nL 1159 3500 \r\nL 1159 2956 \r\nQ 1356 3278 1631 3431 \r\nQ 1906 3584 2284 3584 \r\nQ 2666 3584 2933 3390 \r\nQ 3200 3197 3328 2828 \r\nz\r\n\" id=\"DejaVuSans-6d\" transform=\"scale(0.015625)\"/>\r\n        <path d=\"M 2059 -325 \r\nQ 1816 -950 1584 -1140 \r\nQ 1353 -1331 966 -1331 \r\nL 506 -1331 \r\nL 506 -850 \r\nL 844 -850 \r\nQ 1081 -850 1212 -737 \r\nQ 1344 -625 1503 -206 \r\nL 1606 56 \r\nL 191 3500 \r\nL 800 3500 \r\nL 1894 763 \r\nL 2988 3500 \r\nL 3597 3500 \r\nL 2059 -325 \r\nz\r\n\" id=\"DejaVuSans-79\" transform=\"scale(0.015625)\"/>\r\n       </defs>\r\n       <use xlink:href=\"#DejaVuSans-46\"/>\r\n       <use x=\"48.394531\" xlink:href=\"#DejaVuSans-61\"/>\r\n       <use x=\"109.673828\" xlink:href=\"#DejaVuSans-6d\"/>\r\n       <use x=\"207.085938\" xlink:href=\"#DejaVuSans-69\"/>\r\n       <use x=\"234.869141\" xlink:href=\"#DejaVuSans-6c\"/>\r\n       <use x=\"262.652344\" xlink:href=\"#DejaVuSans-79\"/>\r\n       <use x=\"321.832031\" xlink:href=\"#DejaVuSans-5f\"/>\r\n       <use x=\"371.832031\" xlink:href=\"#DejaVuSans-32\"/>\r\n      </g>\r\n     </g>\r\n    </g>\r\n    <g id=\"ytick_13\">\r\n     <g id=\"line2d_43\">\r\n      <path clip-path=\"url(#pae1310b807)\" d=\"M 88.252813 173.110345 \r\nL 714.652812 173.110345 \r\n\" style=\"fill:none;stroke:#cbcbcb;\"/>\r\n     </g>\r\n     <g id=\"line2d_44\"/>\r\n     <g id=\"text_22\">\r\n      <!-- Embarked_1 -->\r\n      <g transform=\"translate(22.81375 176.909564)scale(0.1 -0.1)\">\r\n       <defs>\r\n        <path d=\"M 628 4666 \r\nL 3578 4666 \r\nL 3578 4134 \r\nL 1259 4134 \r\nL 1259 2753 \r\nL 3481 2753 \r\nL 3481 2222 \r\nL 1259 2222 \r\nL 1259 531 \r\nL 3634 531 \r\nL 3634 0 \r\nL 628 0 \r\nL 628 4666 \r\nz\r\n\" id=\"DejaVuSans-45\" transform=\"scale(0.015625)\"/>\r\n        <path d=\"M 3116 1747 \r\nQ 3116 2381 2855 2742 \r\nQ 2594 3103 2138 3103 \r\nQ 1681 3103 1420 2742 \r\nQ 1159 2381 1159 1747 \r\nQ 1159 1113 1420 752 \r\nQ 1681 391 2138 391 \r\nQ 2594 391 2855 752 \r\nQ 3116 1113 3116 1747 \r\nz\r\nM 1159 2969 \r\nQ 1341 3281 1617 3432 \r\nQ 1894 3584 2278 3584 \r\nQ 2916 3584 3314 3078 \r\nQ 3713 2572 3713 1747 \r\nQ 3713 922 3314 415 \r\nQ 2916 -91 2278 -91 \r\nQ 1894 -91 1617 61 \r\nQ 1341 213 1159 525 \r\nL 1159 0 \r\nL 581 0 \r\nL 581 4863 \r\nL 1159 4863 \r\nL 1159 2969 \r\nz\r\n\" id=\"DejaVuSans-62\" transform=\"scale(0.015625)\"/>\r\n        <path d=\"M 581 4863 \r\nL 1159 4863 \r\nL 1159 1991 \r\nL 2875 3500 \r\nL 3609 3500 \r\nL 1753 1863 \r\nL 3688 0 \r\nL 2938 0 \r\nL 1159 1709 \r\nL 1159 0 \r\nL 581 0 \r\nL 581 4863 \r\nz\r\n\" id=\"DejaVuSans-6b\" transform=\"scale(0.015625)\"/>\r\n        <path d=\"M 2906 2969 \r\nL 2906 4863 \r\nL 3481 4863 \r\nL 3481 0 \r\nL 2906 0 \r\nL 2906 525 \r\nQ 2725 213 2448 61 \r\nQ 2172 -91 1784 -91 \r\nQ 1150 -91 751 415 \r\nQ 353 922 353 1747 \r\nQ 353 2572 751 3078 \r\nQ 1150 3584 1784 3584 \r\nQ 2172 3584 2448 3432 \r\nQ 2725 3281 2906 2969 \r\nz\r\nM 947 1747 \r\nQ 947 1113 1208 752 \r\nQ 1469 391 1925 391 \r\nQ 2381 391 2643 752 \r\nQ 2906 1113 2906 1747 \r\nQ 2906 2381 2643 2742 \r\nQ 2381 3103 1925 3103 \r\nQ 1469 3103 1208 2742 \r\nQ 947 2381 947 1747 \r\nz\r\n\" id=\"DejaVuSans-64\" transform=\"scale(0.015625)\"/>\r\n       </defs>\r\n       <use xlink:href=\"#DejaVuSans-45\"/>\r\n       <use x=\"63.183594\" xlink:href=\"#DejaVuSans-6d\"/>\r\n       <use x=\"160.595703\" xlink:href=\"#DejaVuSans-62\"/>\r\n       <use x=\"224.072266\" xlink:href=\"#DejaVuSans-61\"/>\r\n       <use x=\"285.351562\" xlink:href=\"#DejaVuSans-72\"/>\r\n       <use x=\"326.464844\" xlink:href=\"#DejaVuSans-6b\"/>\r\n       <use x=\"380.75\" xlink:href=\"#DejaVuSans-65\"/>\r\n       <use x=\"442.273438\" xlink:href=\"#DejaVuSans-64\"/>\r\n       <use x=\"505.75\" xlink:href=\"#DejaVuSans-5f\"/>\r\n       <use x=\"555.75\" xlink:href=\"#DejaVuSans-31\"/>\r\n      </g>\r\n     </g>\r\n    </g>\r\n    <g id=\"ytick_14\">\r\n     <g id=\"line2d_45\">\r\n      <path clip-path=\"url(#pae1310b807)\" d=\"M 88.252813 163.055172 \r\nL 714.652812 163.055172 \r\n\" style=\"fill:none;stroke:#cbcbcb;\"/>\r\n     </g>\r\n     <g id=\"line2d_46\"/>\r\n     <g id=\"text_23\">\r\n      <!-- Title_1 -->\r\n      <g transform=\"translate(51.965313 166.854391)scale(0.1 -0.1)\">\r\n       <use xlink:href=\"#DejaVuSans-54\"/>\r\n       <use x=\"57.958984\" xlink:href=\"#DejaVuSans-69\"/>\r\n       <use x=\"85.742188\" xlink:href=\"#DejaVuSans-74\"/>\r\n       <use x=\"124.951172\" xlink:href=\"#DejaVuSans-6c\"/>\r\n       <use x=\"152.734375\" xlink:href=\"#DejaVuSans-65\"/>\r\n       <use x=\"214.257812\" xlink:href=\"#DejaVuSans-5f\"/>\r\n       <use x=\"264.257812\" xlink:href=\"#DejaVuSans-31\"/>\r\n      </g>\r\n     </g>\r\n    </g>\r\n    <g id=\"ytick_15\">\r\n     <g id=\"line2d_47\">\r\n      <path clip-path=\"url(#pae1310b807)\" d=\"M 88.252813 153 \r\nL 714.652812 153 \r\n\" style=\"fill:none;stroke:#cbcbcb;\"/>\r\n     </g>\r\n     <g id=\"line2d_48\"/>\r\n     <g id=\"text_24\">\r\n      <!-- Title_2 -->\r\n      <g transform=\"translate(51.965313 156.799219)scale(0.1 -0.1)\">\r\n       <use xlink:href=\"#DejaVuSans-54\"/>\r\n       <use x=\"57.958984\" xlink:href=\"#DejaVuSans-69\"/>\r\n       <use x=\"85.742188\" xlink:href=\"#DejaVuSans-74\"/>\r\n       <use x=\"124.951172\" xlink:href=\"#DejaVuSans-6c\"/>\r\n       <use x=\"152.734375\" xlink:href=\"#DejaVuSans-65\"/>\r\n       <use x=\"214.257812\" xlink:href=\"#DejaVuSans-5f\"/>\r\n       <use x=\"264.257812\" xlink:href=\"#DejaVuSans-32\"/>\r\n      </g>\r\n     </g>\r\n    </g>\r\n    <g id=\"ytick_16\">\r\n     <g id=\"line2d_49\">\r\n      <path clip-path=\"url(#pae1310b807)\" d=\"M 88.252813 142.944828 \r\nL 714.652812 142.944828 \r\n\" style=\"fill:none;stroke:#cbcbcb;\"/>\r\n     </g>\r\n     <g id=\"line2d_50\"/>\r\n     <g id=\"text_25\">\r\n      <!-- Age_1 -->\r\n      <g transform=\"translate(54.048125 146.604984)scale(0.1 -0.1)\">\r\n       <use xlink:href=\"#DejaVuSans-41\"/>\r\n       <use x=\"68.408203\" xlink:href=\"#DejaVuSans-67\"/>\r\n       <use x=\"131.884766\" xlink:href=\"#DejaVuSans-65\"/>\r\n       <use x=\"193.408203\" xlink:href=\"#DejaVuSans-5f\"/>\r\n       <use x=\"243.408203\" xlink:href=\"#DejaVuSans-31\"/>\r\n      </g>\r\n     </g>\r\n    </g>\r\n    <g id=\"ytick_17\">\r\n     <g id=\"line2d_51\">\r\n      <path clip-path=\"url(#pae1310b807)\" d=\"M 88.252813 132.889655 \r\nL 714.652812 132.889655 \r\n\" style=\"fill:none;stroke:#cbcbcb;\"/>\r\n     </g>\r\n     <g id=\"line2d_52\"/>\r\n     <g id=\"text_26\">\r\n      <!-- Pclass_1 -->\r\n      <g transform=\"translate(42.537188 136.688874)scale(0.1 -0.1)\">\r\n       <defs>\r\n        <path d=\"M 1259 4147 \r\nL 1259 2394 \r\nL 2053 2394 \r\nQ 2494 2394 2734 2622 \r\nQ 2975 2850 2975 3272 \r\nQ 2975 3691 2734 3919 \r\nQ 2494 4147 2053 4147 \r\nL 1259 4147 \r\nz\r\nM 628 4666 \r\nL 2053 4666 \r\nQ 2838 4666 3239 4311 \r\nQ 3641 3956 3641 3272 \r\nQ 3641 2581 3239 2228 \r\nQ 2838 1875 2053 1875 \r\nL 1259 1875 \r\nL 1259 0 \r\nL 628 0 \r\nL 628 4666 \r\nz\r\n\" id=\"DejaVuSans-50\" transform=\"scale(0.015625)\"/>\r\n        <path d=\"M 3122 3366 \r\nL 3122 2828 \r\nQ 2878 2963 2633 3030 \r\nQ 2388 3097 2138 3097 \r\nQ 1578 3097 1268 2742 \r\nQ 959 2388 959 1747 \r\nQ 959 1106 1268 751 \r\nQ 1578 397 2138 397 \r\nQ 2388 397 2633 464 \r\nQ 2878 531 3122 666 \r\nL 3122 134 \r\nQ 2881 22 2623 -34 \r\nQ 2366 -91 2075 -91 \r\nQ 1284 -91 818 406 \r\nQ 353 903 353 1747 \r\nQ 353 2603 823 3093 \r\nQ 1294 3584 2113 3584 \r\nQ 2378 3584 2631 3529 \r\nQ 2884 3475 3122 3366 \r\nz\r\n\" id=\"DejaVuSans-63\" transform=\"scale(0.015625)\"/>\r\n        <path d=\"M 2834 3397 \r\nL 2834 2853 \r\nQ 2591 2978 2328 3040 \r\nQ 2066 3103 1784 3103 \r\nQ 1356 3103 1142 2972 \r\nQ 928 2841 928 2578 \r\nQ 928 2378 1081 2264 \r\nQ 1234 2150 1697 2047 \r\nL 1894 2003 \r\nQ 2506 1872 2764 1633 \r\nQ 3022 1394 3022 966 \r\nQ 3022 478 2636 193 \r\nQ 2250 -91 1575 -91 \r\nQ 1294 -91 989 -36 \r\nQ 684 19 347 128 \r\nL 347 722 \r\nQ 666 556 975 473 \r\nQ 1284 391 1588 391 \r\nQ 1994 391 2212 530 \r\nQ 2431 669 2431 922 \r\nQ 2431 1156 2273 1281 \r\nQ 2116 1406 1581 1522 \r\nL 1381 1569 \r\nQ 847 1681 609 1914 \r\nQ 372 2147 372 2553 \r\nQ 372 3047 722 3315 \r\nQ 1072 3584 1716 3584 \r\nQ 2034 3584 2315 3537 \r\nQ 2597 3491 2834 3397 \r\nz\r\n\" id=\"DejaVuSans-73\" transform=\"scale(0.015625)\"/>\r\n       </defs>\r\n       <use xlink:href=\"#DejaVuSans-50\"/>\r\n       <use x=\"60.302734\" xlink:href=\"#DejaVuSans-63\"/>\r\n       <use x=\"115.283203\" xlink:href=\"#DejaVuSans-6c\"/>\r\n       <use x=\"143.066406\" xlink:href=\"#DejaVuSans-61\"/>\r\n       <use x=\"204.345703\" xlink:href=\"#DejaVuSans-73\"/>\r\n       <use x=\"256.445312\" xlink:href=\"#DejaVuSans-73\"/>\r\n       <use x=\"308.544922\" xlink:href=\"#DejaVuSans-5f\"/>\r\n       <use x=\"358.544922\" xlink:href=\"#DejaVuSans-31\"/>\r\n      </g>\r\n     </g>\r\n    </g>\r\n    <g id=\"ytick_18\">\r\n     <g id=\"line2d_53\">\r\n      <path clip-path=\"url(#pae1310b807)\" d=\"M 88.252813 122.834483 \r\nL 714.652812 122.834483 \r\n\" style=\"fill:none;stroke:#cbcbcb;\"/>\r\n     </g>\r\n     <g id=\"line2d_54\"/>\r\n     <g id=\"text_27\">\r\n      <!-- Pclass_2 -->\r\n      <g transform=\"translate(42.537188 126.633702)scale(0.1 -0.1)\">\r\n       <use xlink:href=\"#DejaVuSans-50\"/>\r\n       <use x=\"60.302734\" xlink:href=\"#DejaVuSans-63\"/>\r\n       <use x=\"115.283203\" xlink:href=\"#DejaVuSans-6c\"/>\r\n       <use x=\"143.066406\" xlink:href=\"#DejaVuSans-61\"/>\r\n       <use x=\"204.345703\" xlink:href=\"#DejaVuSans-73\"/>\r\n       <use x=\"256.445312\" xlink:href=\"#DejaVuSans-73\"/>\r\n       <use x=\"308.544922\" xlink:href=\"#DejaVuSans-5f\"/>\r\n       <use x=\"358.544922\" xlink:href=\"#DejaVuSans-32\"/>\r\n      </g>\r\n     </g>\r\n    </g>\r\n    <g id=\"ytick_19\">\r\n     <g id=\"line2d_55\">\r\n      <path clip-path=\"url(#pae1310b807)\" d=\"M 88.252813 112.77931 \r\nL 714.652812 112.77931 \r\n\" style=\"fill:none;stroke:#cbcbcb;\"/>\r\n     </g>\r\n     <g id=\"line2d_56\"/>\r\n     <g id=\"text_28\">\r\n      <!-- Sex_0 -->\r\n      <g transform=\"translate(55.145 116.490248)scale(0.1 -0.1)\">\r\n       <use xlink:href=\"#DejaVuSans-53\"/>\r\n       <use x=\"63.476562\" xlink:href=\"#DejaVuSans-65\"/>\r\n       <use x=\"123.25\" xlink:href=\"#DejaVuSans-78\"/>\r\n       <use x=\"182.429688\" xlink:href=\"#DejaVuSans-5f\"/>\r\n       <use x=\"232.429688\" xlink:href=\"#DejaVuSans-30\"/>\r\n      </g>\r\n     </g>\r\n    </g>\r\n    <g id=\"ytick_20\">\r\n     <g id=\"line2d_57\">\r\n      <path clip-path=\"url(#pae1310b807)\" d=\"M 88.252813 102.724138 \r\nL 714.652812 102.724138 \r\n\" style=\"fill:none;stroke:#cbcbcb;\"/>\r\n     </g>\r\n     <g id=\"line2d_58\"/>\r\n     <g id=\"text_29\">\r\n      <!-- Family_1 -->\r\n      <g transform=\"translate(41.2075 106.523357)scale(0.1 -0.1)\">\r\n       <use xlink:href=\"#DejaVuSans-46\"/>\r\n       <use x=\"48.394531\" xlink:href=\"#DejaVuSans-61\"/>\r\n       <use x=\"109.673828\" xlink:href=\"#DejaVuSans-6d\"/>\r\n       <use x=\"207.085938\" xlink:href=\"#DejaVuSans-69\"/>\r\n       <use x=\"234.869141\" xlink:href=\"#DejaVuSans-6c\"/>\r\n       <use x=\"262.652344\" xlink:href=\"#DejaVuSans-79\"/>\r\n       <use x=\"321.832031\" xlink:href=\"#DejaVuSans-5f\"/>\r\n       <use x=\"371.832031\" xlink:href=\"#DejaVuSans-31\"/>\r\n      </g>\r\n     </g>\r\n    </g>\r\n    <g id=\"ytick_21\">\r\n     <g id=\"line2d_59\">\r\n      <path clip-path=\"url(#pae1310b807)\" d=\"M 88.252813 92.668966 \r\nL 714.652812 92.668966 \r\n\" style=\"fill:none;stroke:#cbcbcb;\"/>\r\n     </g>\r\n     <g id=\"line2d_60\"/>\r\n     <g id=\"text_30\">\r\n      <!-- Fare_3 -->\r\n      <g transform=\"translate(52.384063 96.379903)scale(0.1 -0.1)\">\r\n       <use xlink:href=\"#DejaVuSans-46\"/>\r\n       <use x=\"48.394531\" xlink:href=\"#DejaVuSans-61\"/>\r\n       <use x=\"109.673828\" xlink:href=\"#DejaVuSans-72\"/>\r\n       <use x=\"148.537109\" xlink:href=\"#DejaVuSans-65\"/>\r\n       <use x=\"210.060547\" xlink:href=\"#DejaVuSans-5f\"/>\r\n       <use x=\"260.060547\" xlink:href=\"#DejaVuSans-33\"/>\r\n      </g>\r\n     </g>\r\n    </g>\r\n    <g id=\"ytick_22\">\r\n     <g id=\"line2d_61\">\r\n      <path clip-path=\"url(#pae1310b807)\" d=\"M 88.252813 82.613793 \r\nL 714.652812 82.613793 \r\n\" style=\"fill:none;stroke:#cbcbcb;\"/>\r\n     </g>\r\n     <g id=\"line2d_62\"/>\r\n     <g id=\"text_31\">\r\n      <!-- Embarked_2 -->\r\n      <g transform=\"translate(22.81375 86.413012)scale(0.1 -0.1)\">\r\n       <use xlink:href=\"#DejaVuSans-45\"/>\r\n       <use x=\"63.183594\" xlink:href=\"#DejaVuSans-6d\"/>\r\n       <use x=\"160.595703\" xlink:href=\"#DejaVuSans-62\"/>\r\n       <use x=\"224.072266\" xlink:href=\"#DejaVuSans-61\"/>\r\n       <use x=\"285.351562\" xlink:href=\"#DejaVuSans-72\"/>\r\n       <use x=\"326.464844\" xlink:href=\"#DejaVuSans-6b\"/>\r\n       <use x=\"380.75\" xlink:href=\"#DejaVuSans-65\"/>\r\n       <use x=\"442.273438\" xlink:href=\"#DejaVuSans-64\"/>\r\n       <use x=\"505.75\" xlink:href=\"#DejaVuSans-5f\"/>\r\n       <use x=\"555.75\" xlink:href=\"#DejaVuSans-32\"/>\r\n      </g>\r\n     </g>\r\n    </g>\r\n    <g id=\"ytick_23\">\r\n     <g id=\"line2d_63\">\r\n      <path clip-path=\"url(#pae1310b807)\" d=\"M 88.252813 72.558621 \r\nL 714.652812 72.558621 \r\n\" style=\"fill:none;stroke:#cbcbcb;\"/>\r\n     </g>\r\n     <g id=\"line2d_64\"/>\r\n     <g id=\"text_32\">\r\n      <!-- Fare_1 -->\r\n      <g transform=\"translate(52.384063 76.218777)scale(0.1 -0.1)\">\r\n       <use xlink:href=\"#DejaVuSans-46\"/>\r\n       <use x=\"48.394531\" xlink:href=\"#DejaVuSans-61\"/>\r\n       <use x=\"109.673828\" xlink:href=\"#DejaVuSans-72\"/>\r\n       <use x=\"148.537109\" xlink:href=\"#DejaVuSans-65\"/>\r\n       <use x=\"210.060547\" xlink:href=\"#DejaVuSans-5f\"/>\r\n       <use x=\"260.060547\" xlink:href=\"#DejaVuSans-31\"/>\r\n      </g>\r\n     </g>\r\n    </g>\r\n    <g id=\"ytick_24\">\r\n     <g id=\"line2d_65\">\r\n      <path clip-path=\"url(#pae1310b807)\" d=\"M 88.252813 62.503448 \r\nL 714.652812 62.503448 \r\n\" style=\"fill:none;stroke:#cbcbcb;\"/>\r\n     </g>\r\n     <g id=\"line2d_66\"/>\r\n     <g id=\"text_33\">\r\n      <!-- Family_0 -->\r\n      <g transform=\"translate(41.2075 66.302667)scale(0.1 -0.1)\">\r\n       <use xlink:href=\"#DejaVuSans-46\"/>\r\n       <use x=\"48.394531\" xlink:href=\"#DejaVuSans-61\"/>\r\n       <use x=\"109.673828\" xlink:href=\"#DejaVuSans-6d\"/>\r\n       <use x=\"207.085938\" xlink:href=\"#DejaVuSans-69\"/>\r\n       <use x=\"234.869141\" xlink:href=\"#DejaVuSans-6c\"/>\r\n       <use x=\"262.652344\" xlink:href=\"#DejaVuSans-79\"/>\r\n       <use x=\"321.832031\" xlink:href=\"#DejaVuSans-5f\"/>\r\n       <use x=\"371.832031\" xlink:href=\"#DejaVuSans-30\"/>\r\n      </g>\r\n     </g>\r\n    </g>\r\n    <g id=\"ytick_25\">\r\n     <g id=\"line2d_67\">\r\n      <path clip-path=\"url(#pae1310b807)\" d=\"M 88.252813 52.448276 \r\nL 714.652812 52.448276 \r\n\" style=\"fill:none;stroke:#cbcbcb;\"/>\r\n     </g>\r\n     <g id=\"line2d_68\"/>\r\n     <g id=\"text_34\">\r\n      <!-- Embarked_0 -->\r\n      <g transform=\"translate(22.81375 56.247495)scale(0.1 -0.1)\">\r\n       <use xlink:href=\"#DejaVuSans-45\"/>\r\n       <use x=\"63.183594\" xlink:href=\"#DejaVuSans-6d\"/>\r\n       <use x=\"160.595703\" xlink:href=\"#DejaVuSans-62\"/>\r\n       <use x=\"224.072266\" xlink:href=\"#DejaVuSans-61\"/>\r\n       <use x=\"285.351562\" xlink:href=\"#DejaVuSans-72\"/>\r\n       <use x=\"326.464844\" xlink:href=\"#DejaVuSans-6b\"/>\r\n       <use x=\"380.75\" xlink:href=\"#DejaVuSans-65\"/>\r\n       <use x=\"442.273438\" xlink:href=\"#DejaVuSans-64\"/>\r\n       <use x=\"505.75\" xlink:href=\"#DejaVuSans-5f\"/>\r\n       <use x=\"555.75\" xlink:href=\"#DejaVuSans-30\"/>\r\n      </g>\r\n     </g>\r\n    </g>\r\n    <g id=\"ytick_26\">\r\n     <g id=\"line2d_69\">\r\n      <path clip-path=\"url(#pae1310b807)\" d=\"M 88.252813 42.393103 \r\nL 714.652812 42.393103 \r\n\" style=\"fill:none;stroke:#cbcbcb;\"/>\r\n     </g>\r\n     <g id=\"line2d_70\"/>\r\n     <g id=\"text_35\">\r\n      <!-- Pclass_3 -->\r\n      <g transform=\"translate(42.537188 46.192322)scale(0.1 -0.1)\">\r\n       <use xlink:href=\"#DejaVuSans-50\"/>\r\n       <use x=\"60.302734\" xlink:href=\"#DejaVuSans-63\"/>\r\n       <use x=\"115.283203\" xlink:href=\"#DejaVuSans-6c\"/>\r\n       <use x=\"143.066406\" xlink:href=\"#DejaVuSans-61\"/>\r\n       <use x=\"204.345703\" xlink:href=\"#DejaVuSans-73\"/>\r\n       <use x=\"256.445312\" xlink:href=\"#DejaVuSans-73\"/>\r\n       <use x=\"308.544922\" xlink:href=\"#DejaVuSans-5f\"/>\r\n       <use x=\"358.544922\" xlink:href=\"#DejaVuSans-33\"/>\r\n      </g>\r\n     </g>\r\n    </g>\r\n    <g id=\"ytick_27\">\r\n     <g id=\"line2d_71\">\r\n      <path clip-path=\"url(#pae1310b807)\" d=\"M 88.252813 32.337931 \r\nL 714.652812 32.337931 \r\n\" style=\"fill:none;stroke:#cbcbcb;\"/>\r\n     </g>\r\n     <g id=\"line2d_72\"/>\r\n     <g id=\"text_36\">\r\n      <!-- Age_3 -->\r\n      <g transform=\"translate(54.048125 36.048869)scale(0.1 -0.1)\">\r\n       <use xlink:href=\"#DejaVuSans-41\"/>\r\n       <use x=\"68.408203\" xlink:href=\"#DejaVuSans-67\"/>\r\n       <use x=\"131.884766\" xlink:href=\"#DejaVuSans-65\"/>\r\n       <use x=\"193.408203\" xlink:href=\"#DejaVuSans-5f\"/>\r\n       <use x=\"243.408203\" xlink:href=\"#DejaVuSans-33\"/>\r\n      </g>\r\n     </g>\r\n    </g>\r\n    <g id=\"ytick_28\">\r\n     <g id=\"line2d_73\">\r\n      <path clip-path=\"url(#pae1310b807)\" d=\"M 88.252813 22.282759 \r\nL 714.652812 22.282759 \r\n\" style=\"fill:none;stroke:#cbcbcb;\"/>\r\n     </g>\r\n     <g id=\"line2d_74\"/>\r\n     <g id=\"text_37\">\r\n      <!-- Fare_2 -->\r\n      <g transform=\"translate(52.384063 25.993696)scale(0.1 -0.1)\">\r\n       <use xlink:href=\"#DejaVuSans-46\"/>\r\n       <use x=\"48.394531\" xlink:href=\"#DejaVuSans-61\"/>\r\n       <use x=\"109.673828\" xlink:href=\"#DejaVuSans-72\"/>\r\n       <use x=\"148.537109\" xlink:href=\"#DejaVuSans-65\"/>\r\n       <use x=\"210.060547\" xlink:href=\"#DejaVuSans-5f\"/>\r\n       <use x=\"260.060547\" xlink:href=\"#DejaVuSans-32\"/>\r\n      </g>\r\n     </g>\r\n    </g>\r\n    <g id=\"ytick_29\">\r\n     <g id=\"line2d_75\">\r\n      <path clip-path=\"url(#pae1310b807)\" d=\"M 88.252813 12.227586 \r\nL 714.652812 12.227586 \r\n\" style=\"fill:none;stroke:#cbcbcb;\"/>\r\n     </g>\r\n     <g id=\"line2d_76\"/>\r\n     <g id=\"text_38\">\r\n      <!-- Age_2 -->\r\n      <g transform=\"translate(54.048125 15.938524)scale(0.1 -0.1)\">\r\n       <use xlink:href=\"#DejaVuSans-41\"/>\r\n       <use x=\"68.408203\" xlink:href=\"#DejaVuSans-67\"/>\r\n       <use x=\"131.884766\" xlink:href=\"#DejaVuSans-65\"/>\r\n       <use x=\"193.408203\" xlink:href=\"#DejaVuSans-5f\"/>\r\n       <use x=\"243.408203\" xlink:href=\"#DejaVuSans-32\"/>\r\n      </g>\r\n     </g>\r\n    </g>\r\n    <g id=\"text_39\">\r\n     <!-- feature -->\r\n     <g transform=\"translate(16.318125 174.659063)rotate(-90)scale(0.12 -0.12)\">\r\n      <defs>\r\n       <path d=\"M 2375 4863 \r\nL 2375 4384 \r\nL 1825 4384 \r\nQ 1516 4384 1395 4259 \r\nQ 1275 4134 1275 3809 \r\nL 1275 3500 \r\nL 2222 3500 \r\nL 2222 3053 \r\nL 1275 3053 \r\nL 1275 0 \r\nL 697 0 \r\nL 697 3053 \r\nL 147 3053 \r\nL 147 3500 \r\nL 697 3500 \r\nL 697 3744 \r\nQ 697 4328 969 4595 \r\nQ 1241 4863 1831 4863 \r\nL 2375 4863 \r\nz\r\n\" id=\"DejaVuSans-66\" transform=\"scale(0.015625)\"/>\r\n       <path d=\"M 544 1381 \r\nL 544 3500 \r\nL 1119 3500 \r\nL 1119 1403 \r\nQ 1119 906 1312 657 \r\nQ 1506 409 1894 409 \r\nQ 2359 409 2629 706 \r\nQ 2900 1003 2900 1516 \r\nL 2900 3500 \r\nL 3475 3500 \r\nL 3475 0 \r\nL 2900 0 \r\nL 2900 538 \r\nQ 2691 219 2414 64 \r\nQ 2138 -91 1772 -91 \r\nQ 1169 -91 856 284 \r\nQ 544 659 544 1381 \r\nz\r\nM 1991 3584 \r\nL 1991 3584 \r\nz\r\n\" id=\"DejaVuSans-75\" transform=\"scale(0.015625)\"/>\r\n      </defs>\r\n      <use xlink:href=\"#DejaVuSans-66\"/>\r\n      <use x=\"35.205078\" xlink:href=\"#DejaVuSans-65\"/>\r\n      <use x=\"96.728516\" xlink:href=\"#DejaVuSans-61\"/>\r\n      <use x=\"158.007812\" xlink:href=\"#DejaVuSans-74\"/>\r\n      <use x=\"197.216797\" xlink:href=\"#DejaVuSans-75\"/>\r\n      <use x=\"260.595703\" xlink:href=\"#DejaVuSans-72\"/>\r\n      <use x=\"299.458984\" xlink:href=\"#DejaVuSans-65\"/>\r\n     </g>\r\n    </g>\r\n   </g>\r\n   <g id=\"patch_3\">\r\n    <path clip-path=\"url(#pae1310b807)\" d=\"M 88.252813 296.286207 \r\nL 88.252813 296.286207 \r\nL 88.252813 291.258621 \r\nL 88.252813 291.258621 \r\nz\r\n\" style=\"fill:#008fd5;\"/>\r\n   </g>\r\n   <g id=\"patch_4\">\r\n    <path clip-path=\"url(#pae1310b807)\" d=\"M 88.252813 286.231034 \r\nL 88.252813 286.231034 \r\nL 88.252813 281.203448 \r\nL 88.252813 281.203448 \r\nz\r\n\" style=\"fill:#008fd5;\"/>\r\n   </g>\r\n   <g id=\"patch_5\">\r\n    <path clip-path=\"url(#pae1310b807)\" d=\"M 88.252813 276.175862 \r\nL 99.580118 276.175862 \r\nL 99.580118 271.148276 \r\nL 88.252813 271.148276 \r\nz\r\n\" style=\"fill:#008fd5;\"/>\r\n   </g>\r\n   <g id=\"patch_6\">\r\n    <path clip-path=\"url(#pae1310b807)\" d=\"M 88.252813 266.12069 \r\nL 118.458961 266.12069 \r\nL 118.458961 261.093103 \r\nL 88.252813 261.093103 \r\nz\r\n\" style=\"fill:#008fd5;\"/>\r\n   </g>\r\n   <g id=\"patch_7\">\r\n    <path clip-path=\"url(#pae1310b807)\" d=\"M 88.252813 256.065517 \r\nL 118.458961 256.065517 \r\nL 118.458961 251.037931 \r\nL 88.252813 251.037931 \r\nz\r\n\" style=\"fill:#008fd5;\"/>\r\n   </g>\r\n   <g id=\"patch_8\">\r\n    <path clip-path=\"url(#pae1310b807)\" d=\"M 88.252813 246.010345 \r\nL 137.337803 246.010345 \r\nL 137.337803 240.982759 \r\nL 88.252813 240.982759 \r\nz\r\n\" style=\"fill:#008fd5;\"/>\r\n   </g>\r\n   <g id=\"patch_9\">\r\n    <path clip-path=\"url(#pae1310b807)\" d=\"M 88.252813 235.955172 \r\nL 190.198563 235.955172 \r\nL 190.198563 230.927586 \r\nL 88.252813 230.927586 \r\nz\r\n\" style=\"fill:#008fd5;\"/>\r\n   </g>\r\n   <g id=\"patch_10\">\r\n    <path clip-path=\"url(#pae1310b807)\" d=\"M 88.252813 225.9 \r\nL 193.974331 225.9 \r\nL 193.974331 220.872414 \r\nL 88.252813 220.872414 \r\nz\r\n\" style=\"fill:#008fd5;\"/>\r\n   </g>\r\n   <g id=\"patch_11\">\r\n    <path clip-path=\"url(#pae1310b807)\" d=\"M 88.252813 215.844828 \r\nL 205.301637 215.844828 \r\nL 205.301637 210.817241 \r\nL 88.252813 210.817241 \r\nz\r\n\" style=\"fill:#008fd5;\"/>\r\n   </g>\r\n   <g id=\"patch_12\">\r\n    <path clip-path=\"url(#pae1310b807)\" d=\"M 88.252813 205.789655 \r\nL 231.732017 205.789655 \r\nL 231.732017 200.762069 \r\nL 88.252813 200.762069 \r\nz\r\n\" style=\"fill:#008fd5;\"/>\r\n   </g>\r\n   <g id=\"patch_13\">\r\n    <path clip-path=\"url(#pae1310b807)\" d=\"M 88.252813 195.734483 \r\nL 243.059322 195.734483 \r\nL 243.059322 190.706897 \r\nL 88.252813 190.706897 \r\nz\r\n\" style=\"fill:#008fd5;\"/>\r\n   </g>\r\n   <g id=\"patch_14\">\r\n    <path clip-path=\"url(#pae1310b807)\" d=\"M 88.252813 185.67931 \r\nL 246.835091 185.67931 \r\nL 246.835091 180.651724 \r\nL 88.252813 180.651724 \r\nz\r\n\" style=\"fill:#008fd5;\"/>\r\n   </g>\r\n   <g id=\"patch_15\">\r\n    <path clip-path=\"url(#pae1310b807)\" d=\"M 88.252813 175.624138 \r\nL 258.162397 175.624138 \r\nL 258.162397 170.596552 \r\nL 88.252813 170.596552 \r\nz\r\n\" style=\"fill:#008fd5;\"/>\r\n   </g>\r\n   <g id=\"patch_16\">\r\n    <path clip-path=\"url(#pae1310b807)\" d=\"M 88.252813 165.568966 \r\nL 273.265471 165.568966 \r\nL 273.265471 160.541379 \r\nL 88.252813 160.541379 \r\nz\r\n\" style=\"fill:#008fd5;\"/>\r\n   </g>\r\n   <g id=\"patch_17\">\r\n    <path clip-path=\"url(#pae1310b807)\" d=\"M 88.252813 155.513793 \r\nL 303.471619 155.513793 \r\nL 303.471619 150.486207 \r\nL 88.252813 150.486207 \r\nz\r\n\" style=\"fill:#008fd5;\"/>\r\n   </g>\r\n   <g id=\"patch_18\">\r\n    <path clip-path=\"url(#pae1310b807)\" d=\"M 88.252813 145.458621 \r\nL 326.12623 145.458621 \r\nL 326.12623 140.431034 \r\nL 88.252813 140.431034 \r\nz\r\n\" style=\"fill:#008fd5;\"/>\r\n   </g>\r\n   <g id=\"patch_19\">\r\n    <path clip-path=\"url(#pae1310b807)\" d=\"M 88.252813 135.403448 \r\nL 329.901999 135.403448 \r\nL 329.901999 130.375862 \r\nL 88.252813 130.375862 \r\nz\r\n\" style=\"fill:#008fd5;\"/>\r\n   </g>\r\n   <g id=\"patch_20\">\r\n    <path clip-path=\"url(#pae1310b807)\" d=\"M 88.252813 125.348276 \r\nL 333.677767 125.348276 \r\nL 333.677767 120.32069 \r\nL 88.252813 120.32069 \r\nz\r\n\" style=\"fill:#008fd5;\"/>\r\n   </g>\r\n   <g id=\"patch_21\">\r\n    <path clip-path=\"url(#pae1310b807)\" d=\"M 88.252813 115.293103 \r\nL 337.453536 115.293103 \r\nL 337.453536 110.265517 \r\nL 88.252813 110.265517 \r\nz\r\n\" style=\"fill:#008fd5;\"/>\r\n   </g>\r\n   <g id=\"patch_22\">\r\n    <path clip-path=\"url(#pae1310b807)\" d=\"M 88.252813 105.237931 \r\nL 345.005073 105.237931 \r\nL 345.005073 100.210345 \r\nL 88.252813 100.210345 \r\nz\r\n\" style=\"fill:#008fd5;\"/>\r\n   </g>\r\n   <g id=\"patch_23\">\r\n    <path clip-path=\"url(#pae1310b807)\" d=\"M 88.252813 95.182759 \r\nL 345.005073 95.182759 \r\nL 345.005073 90.155172 \r\nL 88.252813 90.155172 \r\nz\r\n\" style=\"fill:#008fd5;\"/>\r\n   </g>\r\n   <g id=\"patch_24\">\r\n    <path clip-path=\"url(#pae1310b807)\" d=\"M 88.252813 85.127586 \r\nL 371.435453 85.127586 \r\nL 371.435453 80.1 \r\nL 88.252813 80.1 \r\nz\r\n\" style=\"fill:#008fd5;\"/>\r\n   </g>\r\n   <g id=\"patch_25\">\r\n    <path clip-path=\"url(#pae1310b807)\" d=\"M 88.252813 75.072414 \r\nL 375.211221 75.072414 \r\nL 375.211221 70.044828 \r\nL 88.252813 70.044828 \r\nz\r\n\" style=\"fill:#008fd5;\"/>\r\n   </g>\r\n   <g id=\"patch_26\">\r\n    <path clip-path=\"url(#pae1310b807)\" d=\"M 88.252813 65.017241 \r\nL 462.053897 65.017241 \r\nL 462.053897 59.989655 \r\nL 88.252813 59.989655 \r\nz\r\n\" style=\"fill:#008fd5;\"/>\r\n   </g>\r\n   <g id=\"patch_27\">\r\n    <path clip-path=\"url(#pae1310b807)\" d=\"M 88.252813 54.962069 \r\nL 488.484277 54.962069 \r\nL 488.484277 49.934483 \r\nL 88.252813 49.934483 \r\nz\r\n\" style=\"fill:#008fd5;\"/>\r\n   </g>\r\n   <g id=\"patch_28\">\r\n    <path clip-path=\"url(#pae1310b807)\" d=\"M 88.252813 44.906897 \r\nL 488.484277 44.906897 \r\nL 488.484277 39.87931 \r\nL 88.252813 39.87931 \r\nz\r\n\" style=\"fill:#008fd5;\"/>\r\n   </g>\r\n   <g id=\"patch_29\">\r\n    <path clip-path=\"url(#pae1310b807)\" d=\"M 88.252813 34.851724 \r\nL 514.914657 34.851724 \r\nL 514.914657 29.824138 \r\nL 88.252813 29.824138 \r\nz\r\n\" style=\"fill:#008fd5;\"/>\r\n   </g>\r\n   <g id=\"patch_30\">\r\n    <path clip-path=\"url(#pae1310b807)\" d=\"M 88.252813 24.796552 \r\nL 526.241963 24.796552 \r\nL 526.241963 19.768966 \r\nL 88.252813 19.768966 \r\nz\r\n\" style=\"fill:#008fd5;\"/>\r\n   </g>\r\n   <g id=\"patch_31\">\r\n    <path clip-path=\"url(#pae1310b807)\" d=\"M 88.252813 14.741379 \r\nL 684.824241 14.741379 \r\nL 684.824241 9.713793 \r\nL 88.252813 9.713793 \r\nz\r\n\" style=\"fill:#008fd5;\"/>\r\n   </g>\r\n   <g id=\"patch_32\">\r\n    <path d=\"M 88.252813 298.8 \r\nL 88.252813 7.2 \r\n\" style=\"fill:none;stroke:#f0f0f0;stroke-linecap:square;stroke-linejoin:miter;stroke-width:3;\"/>\r\n   </g>\r\n   <g id=\"patch_33\">\r\n    <path d=\"M 714.652812 298.8 \r\nL 714.652812 7.2 \r\n\" style=\"fill:none;stroke:#f0f0f0;stroke-linecap:square;stroke-linejoin:miter;stroke-width:3;\"/>\r\n   </g>\r\n   <g id=\"patch_34\">\r\n    <path d=\"M 88.252813 298.8 \r\nL 714.652812 298.8 \r\n\" style=\"fill:none;stroke:#f0f0f0;stroke-linecap:square;stroke-linejoin:miter;stroke-width:3;\"/>\r\n   </g>\r\n   <g id=\"patch_35\">\r\n    <path d=\"M 88.252813 7.2 \r\nL 714.652812 7.2 \r\n\" style=\"fill:none;stroke:#f0f0f0;stroke-linecap:square;stroke-linejoin:miter;stroke-width:3;\"/>\r\n   </g>\r\n   <g id=\"legend_1\">\r\n    <g id=\"patch_36\">\r\n     <path d=\"M 618.518438 293.8 \r\nL 707.652812 293.8 \r\nQ 709.652812 293.8 709.652812 291.8 \r\nL 709.652812 278.121875 \r\nQ 709.652812 276.121875 707.652812 276.121875 \r\nL 618.518438 276.121875 \r\nQ 616.518438 276.121875 616.518438 278.121875 \r\nL 616.518438 291.8 \r\nQ 616.518438 293.8 618.518438 293.8 \r\nz\r\n\" style=\"fill:#f0f0f0;opacity:0.8;stroke:#cccccc;stroke-linejoin:miter;stroke-width:0.5;\"/>\r\n    </g>\r\n    <g id=\"patch_37\">\r\n     <path d=\"M 620.518438 287.720313 \r\nL 640.518438 287.720313 \r\nL 640.518438 280.720313 \r\nL 620.518438 280.720313 \r\nz\r\n\" style=\"fill:#008fd5;\"/>\r\n    </g>\r\n    <g id=\"text_40\">\r\n     <!-- importance -->\r\n     <g transform=\"translate(648.518438 287.720313)scale(0.1 -0.1)\">\r\n      <defs>\r\n       <path d=\"M 1159 525 \r\nL 1159 -1331 \r\nL 581 -1331 \r\nL 581 3500 \r\nL 1159 3500 \r\nL 1159 2969 \r\nQ 1341 3281 1617 3432 \r\nQ 1894 3584 2278 3584 \r\nQ 2916 3584 3314 3078 \r\nQ 3713 2572 3713 1747 \r\nQ 3713 922 3314 415 \r\nQ 2916 -91 2278 -91 \r\nQ 1894 -91 1617 61 \r\nQ 1341 213 1159 525 \r\nz\r\nM 3116 1747 \r\nQ 3116 2381 2855 2742 \r\nQ 2594 3103 2138 3103 \r\nQ 1681 3103 1420 2742 \r\nQ 1159 2381 1159 1747 \r\nQ 1159 1113 1420 752 \r\nQ 1681 391 2138 391 \r\nQ 2594 391 2855 752 \r\nQ 3116 1113 3116 1747 \r\nz\r\n\" id=\"DejaVuSans-70\" transform=\"scale(0.015625)\"/>\r\n       <path d=\"M 1959 3097 \r\nQ 1497 3097 1228 2736 \r\nQ 959 2375 959 1747 \r\nQ 959 1119 1226 758 \r\nQ 1494 397 1959 397 \r\nQ 2419 397 2687 759 \r\nQ 2956 1122 2956 1747 \r\nQ 2956 2369 2687 2733 \r\nQ 2419 3097 1959 3097 \r\nz\r\nM 1959 3584 \r\nQ 2709 3584 3137 3096 \r\nQ 3566 2609 3566 1747 \r\nQ 3566 888 3137 398 \r\nQ 2709 -91 1959 -91 \r\nQ 1206 -91 779 398 \r\nQ 353 888 353 1747 \r\nQ 353 2609 779 3096 \r\nQ 1206 3584 1959 3584 \r\nz\r\n\" id=\"DejaVuSans-6f\" transform=\"scale(0.015625)\"/>\r\n       <path d=\"M 3513 2113 \r\nL 3513 0 \r\nL 2938 0 \r\nL 2938 2094 \r\nQ 2938 2591 2744 2837 \r\nQ 2550 3084 2163 3084 \r\nQ 1697 3084 1428 2787 \r\nQ 1159 2491 1159 1978 \r\nL 1159 0 \r\nL 581 0 \r\nL 581 3500 \r\nL 1159 3500 \r\nL 1159 2956 \r\nQ 1366 3272 1645 3428 \r\nQ 1925 3584 2291 3584 \r\nQ 2894 3584 3203 3211 \r\nQ 3513 2838 3513 2113 \r\nz\r\n\" id=\"DejaVuSans-6e\" transform=\"scale(0.015625)\"/>\r\n      </defs>\r\n      <use xlink:href=\"#DejaVuSans-69\"/>\r\n      <use x=\"27.783203\" xlink:href=\"#DejaVuSans-6d\"/>\r\n      <use x=\"125.195312\" xlink:href=\"#DejaVuSans-70\"/>\r\n      <use x=\"188.671875\" xlink:href=\"#DejaVuSans-6f\"/>\r\n      <use x=\"249.853516\" xlink:href=\"#DejaVuSans-72\"/>\r\n      <use x=\"290.966797\" xlink:href=\"#DejaVuSans-74\"/>\r\n      <use x=\"330.175781\" xlink:href=\"#DejaVuSans-61\"/>\r\n      <use x=\"391.455078\" xlink:href=\"#DejaVuSans-6e\"/>\r\n      <use x=\"454.833984\" xlink:href=\"#DejaVuSans-63\"/>\r\n      <use x=\"509.814453\" xlink:href=\"#DejaVuSans-65\"/>\r\n     </g>\r\n    </g>\r\n   </g>\r\n  </g>\r\n </g>\r\n <defs>\r\n  <clipPath id=\"pae1310b807\">\r\n   <rect height=\"291.6\" width=\"626.4\" x=\"88.252813\" y=\"7.2\"/>\r\n  </clipPath>\r\n </defs>\r\n</svg>\r\n",
      "image/png": "[encoded data removed]"
     },
     "metadata": {}
    }
   ],
   "metadata": {}
  },
  {
   "cell_type": "markdown",
   "source": [
    "## Compare the prediction with the ground-truth"
   ],
   "metadata": {}
  },
  {
   "cell_type": "code",
   "execution_count": 107,
   "source": [
    "sub = pd.read_csv(sample_file, index_col=0)\r\n",
    "print(sub.shape)\r\n",
    "sub.head()"
   ],
   "outputs": [
    {
     "output_type": "stream",
     "name": "stdout",
     "text": [
      "(418, 1)\n"
     ]
    },
    {
     "output_type": "execute_result",
     "data": {
      "text/plain": [
       "             Survived\n",
       "PassengerId          \n",
       "892                 0\n",
       "893                 1\n",
       "894                 0\n",
       "895                 0\n",
       "896                 1"
      ],
      "text/html": [
       "<div>\n",
       "<style scoped>\n",
       "    .dataframe tbody tr th:only-of-type {\n",
       "        vertical-align: middle;\n",
       "    }\n",
       "\n",
       "    .dataframe tbody tr th {\n",
       "        vertical-align: top;\n",
       "    }\n",
       "\n",
       "    .dataframe thead th {\n",
       "        text-align: right;\n",
       "    }\n",
       "</style>\n",
       "<table border=\"1\" class=\"dataframe\">\n",
       "  <thead>\n",
       "    <tr style=\"text-align: right;\">\n",
       "      <th></th>\n",
       "      <th>Survived</th>\n",
       "    </tr>\n",
       "    <tr>\n",
       "      <th>PassengerId</th>\n",
       "      <th></th>\n",
       "    </tr>\n",
       "  </thead>\n",
       "  <tbody>\n",
       "    <tr>\n",
       "      <th>892</th>\n",
       "      <td>0</td>\n",
       "    </tr>\n",
       "    <tr>\n",
       "      <th>893</th>\n",
       "      <td>1</td>\n",
       "    </tr>\n",
       "    <tr>\n",
       "      <th>894</th>\n",
       "      <td>0</td>\n",
       "    </tr>\n",
       "    <tr>\n",
       "      <th>895</th>\n",
       "      <td>0</td>\n",
       "    </tr>\n",
       "    <tr>\n",
       "      <th>896</th>\n",
       "      <td>1</td>\n",
       "    </tr>\n",
       "  </tbody>\n",
       "</table>\n",
       "</div>"
      ]
     },
     "metadata": {},
     "execution_count": 107
    }
   ],
   "metadata": {}
  },
  {
   "cell_type": "code",
   "execution_count": 108,
   "source": [
    "y_tst = sub['Survived']"
   ],
   "outputs": [],
   "metadata": {}
  },
  {
   "cell_type": "code",
   "execution_count": 109,
   "source": [
    "print('accuracy_score:', f'{accuracy_score(y_tst, p_tst):.4f}')\r\n",
    "print('log_loss:', f'{log_loss(y_tst, p_tst):.4f}')\r\n",
    "print('f1_score:', f'{f1_score(y_tst, p_tst):.4f}')"
   ],
   "outputs": [
    {
     "output_type": "stream",
     "name": "stdout",
     "text": [
      "accuracy_score: 0.8804\n",
      "log_loss: 4.1315\n",
      "f1_score: 0.8311\n"
     ]
    }
   ],
   "metadata": {}
  },
  {
   "cell_type": "code",
   "execution_count": 110,
   "source": [
    "sub[target_col] = p_tst\r\n",
    "sub.to_csv(sub_file)"
   ],
   "outputs": [],
   "metadata": {}
  }
 ],
 "metadata": {
  "orig_nbformat": 4,
  "language_info": {
   "name": "python",
   "version": "3.7.11",
   "mimetype": "text/x-python",
   "codemirror_mode": {
    "name": "ipython",
    "version": 3
   },
   "pygments_lexer": "ipython3",
   "nbconvert_exporter": "python",
   "file_extension": ".py"
  },
  "kernelspec": {
   "name": "python3",
   "display_name": "Python 3.7.11 64-bit ('dacon': conda)"
  },
  "interpreter": {
   "hash": "78d07d58a14bcb13980c2f3aa062960b1d4e06e2354041fd6bf8412d72593f0f"
  }
 },
 "nbformat": 4,
 "nbformat_minor": 2
}