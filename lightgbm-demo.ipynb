{
 "cells": [
  {
   "cell_type": "markdown",
   "source": [
    "# Lightgbm-demo"
   ],
   "metadata": {}
  },
  {
   "cell_type": "markdown",
   "source": [
    "## 라이브러리 import 및 설정"
   ],
   "metadata": {}
  },
  {
   "cell_type": "code",
   "execution_count": 1,
   "source": [
    "%reload_ext autoreload\r\n",
    "%autoreload 2\r\n",
    "%matplotlib inline"
   ],
   "outputs": [],
   "metadata": {}
  },
  {
   "cell_type": "code",
   "execution_count": 14,
   "source": [
    "import lightgbm as lgb\r\n",
    "from matplotlib import pyplot as plt\r\n",
    "from matplotlib import rcParams\r\n",
    "import numpy as np\r\n",
    "from pathlib import Path\r\n",
    "import pandas as pd\r\n",
    "from sklearn.metrics import r2_score, mean_squared_error # accuracy_score\r\n",
    "from sklearn.model_selection import train_test_split\r\n",
    "import seaborn as sns\r\n",
    "import warnings"
   ],
   "outputs": [],
   "metadata": {}
  },
  {
   "cell_type": "code",
   "execution_count": 3,
   "source": [
    "rcParams['figure.figsize'] = (16, 8)\r\n",
    "plt.style.use('fivethirtyeight')\r\n",
    "pd.set_option('max_columns', 100)\r\n",
    "pd.set_option(\"display.precision\", 4)\r\n",
    "warnings.simplefilter('ignore')"
   ],
   "outputs": [],
   "metadata": {}
  },
  {
   "cell_type": "markdown",
   "source": [
    "## 학습데이터 로드"
   ],
   "metadata": {}
  },
  {
   "cell_type": "code",
   "execution_count": 4,
   "source": [
    "data_dir = Path('C:\\DACON\\dataset')\r\n",
    "sub_dir = Path('C:\\DACON\\/build')\r\n",
    "\r\n",
    "trn_file = data_dir / 'train.csv'\r\n",
    "tst_file = data_dir / 'test.csv'\r\n",
    "sample_file = data_dir / 'submission.csv'\r\n",
    "\r\n",
    "target_col = 'count'\r\n",
    "seed = 12"
   ],
   "outputs": [],
   "metadata": {}
  },
  {
   "cell_type": "code",
   "execution_count": 5,
   "source": [
    "algo_name = 'lgb'\r\n",
    "feature_name = 'feature'\r\n",
    "model_name = f'{algo_name}_{feature_name}'\r\n",
    "\r\n",
    "# feature_file = feature_dir / f'{feature_name}.csv'\r\n",
    "sub_file = sub_dir / f'{model_name}.csv'\r\n",
    "print(sub_file)"
   ],
   "outputs": [
    {
     "output_type": "stream",
     "name": "stdout",
     "text": [
      "C:\\DACON\\build\\lgb_feature.csv\n"
     ]
    }
   ],
   "metadata": {}
  },
  {
   "cell_type": "code",
   "execution_count": 6,
   "source": [
    "trn = pd.read_csv(trn_file, index_col=0)\r\n",
    "tst = pd.read_csv(tst_file, index_col=0)\r\n",
    "\r\n",
    "# 앞의 값으로 결측치 채우기\r\n",
    "trn = trn.fillna(method='ffill')\r\n",
    "tst = tst.fillna(method='ffill')\r\n",
    "\r\n",
    "print(trn.shape, tst.shape)\r\n",
    "trn.head()"
   ],
   "outputs": [
    {
     "output_type": "stream",
     "name": "stdout",
     "text": [
      "(1459, 10) (715, 9)\n"
     ]
    },
    {
     "output_type": "execute_result",
     "data": {
      "text/plain": [
       "    hour  hour_bef_temperature  hour_bef_precipitation  hour_bef_windspeed  \\\n",
       "id                                                                           \n",
       "3     20                  16.3                     1.0                 1.5   \n",
       "6     13                  20.1                     0.0                 1.4   \n",
       "7      6                  13.9                     0.0                 0.7   \n",
       "8     23                   8.1                     0.0                 2.7   \n",
       "9     18                  29.5                     0.0                 4.8   \n",
       "\n",
       "    hour_bef_humidity  hour_bef_visibility  hour_bef_ozone  hour_bef_pm10  \\\n",
       "id                                                                          \n",
       "3                89.0                576.0           0.027           76.0   \n",
       "6                48.0                916.0           0.042           73.0   \n",
       "7                79.0               1382.0           0.033           32.0   \n",
       "8                54.0                946.0           0.040           75.0   \n",
       "9                 7.0               2000.0           0.057           27.0   \n",
       "\n",
       "    hour_bef_pm2.5  count  \n",
       "id                         \n",
       "3             33.0   49.0  \n",
       "6             40.0  159.0  \n",
       "7             19.0   26.0  \n",
       "8             64.0   57.0  \n",
       "9             11.0  431.0  "
      ],
      "text/html": [
       "<div>\n",
       "<style scoped>\n",
       "    .dataframe tbody tr th:only-of-type {\n",
       "        vertical-align: middle;\n",
       "    }\n",
       "\n",
       "    .dataframe tbody tr th {\n",
       "        vertical-align: top;\n",
       "    }\n",
       "\n",
       "    .dataframe thead th {\n",
       "        text-align: right;\n",
       "    }\n",
       "</style>\n",
       "<table border=\"1\" class=\"dataframe\">\n",
       "  <thead>\n",
       "    <tr style=\"text-align: right;\">\n",
       "      <th></th>\n",
       "      <th>hour</th>\n",
       "      <th>hour_bef_temperature</th>\n",
       "      <th>hour_bef_precipitation</th>\n",
       "      <th>hour_bef_windspeed</th>\n",
       "      <th>hour_bef_humidity</th>\n",
       "      <th>hour_bef_visibility</th>\n",
       "      <th>hour_bef_ozone</th>\n",
       "      <th>hour_bef_pm10</th>\n",
       "      <th>hour_bef_pm2.5</th>\n",
       "      <th>count</th>\n",
       "    </tr>\n",
       "    <tr>\n",
       "      <th>id</th>\n",
       "      <th></th>\n",
       "      <th></th>\n",
       "      <th></th>\n",
       "      <th></th>\n",
       "      <th></th>\n",
       "      <th></th>\n",
       "      <th></th>\n",
       "      <th></th>\n",
       "      <th></th>\n",
       "      <th></th>\n",
       "    </tr>\n",
       "  </thead>\n",
       "  <tbody>\n",
       "    <tr>\n",
       "      <th>3</th>\n",
       "      <td>20</td>\n",
       "      <td>16.3</td>\n",
       "      <td>1.0</td>\n",
       "      <td>1.5</td>\n",
       "      <td>89.0</td>\n",
       "      <td>576.0</td>\n",
       "      <td>0.027</td>\n",
       "      <td>76.0</td>\n",
       "      <td>33.0</td>\n",
       "      <td>49.0</td>\n",
       "    </tr>\n",
       "    <tr>\n",
       "      <th>6</th>\n",
       "      <td>13</td>\n",
       "      <td>20.1</td>\n",
       "      <td>0.0</td>\n",
       "      <td>1.4</td>\n",
       "      <td>48.0</td>\n",
       "      <td>916.0</td>\n",
       "      <td>0.042</td>\n",
       "      <td>73.0</td>\n",
       "      <td>40.0</td>\n",
       "      <td>159.0</td>\n",
       "    </tr>\n",
       "    <tr>\n",
       "      <th>7</th>\n",
       "      <td>6</td>\n",
       "      <td>13.9</td>\n",
       "      <td>0.0</td>\n",
       "      <td>0.7</td>\n",
       "      <td>79.0</td>\n",
       "      <td>1382.0</td>\n",
       "      <td>0.033</td>\n",
       "      <td>32.0</td>\n",
       "      <td>19.0</td>\n",
       "      <td>26.0</td>\n",
       "    </tr>\n",
       "    <tr>\n",
       "      <th>8</th>\n",
       "      <td>23</td>\n",
       "      <td>8.1</td>\n",
       "      <td>0.0</td>\n",
       "      <td>2.7</td>\n",
       "      <td>54.0</td>\n",
       "      <td>946.0</td>\n",
       "      <td>0.040</td>\n",
       "      <td>75.0</td>\n",
       "      <td>64.0</td>\n",
       "      <td>57.0</td>\n",
       "    </tr>\n",
       "    <tr>\n",
       "      <th>9</th>\n",
       "      <td>18</td>\n",
       "      <td>29.5</td>\n",
       "      <td>0.0</td>\n",
       "      <td>4.8</td>\n",
       "      <td>7.0</td>\n",
       "      <td>2000.0</td>\n",
       "      <td>0.057</td>\n",
       "      <td>27.0</td>\n",
       "      <td>11.0</td>\n",
       "      <td>431.0</td>\n",
       "    </tr>\n",
       "  </tbody>\n",
       "</table>\n",
       "</div>"
      ]
     },
     "metadata": {},
     "execution_count": 6
    }
   ],
   "metadata": {}
  },
  {
   "cell_type": "code",
   "execution_count": 8,
   "source": [
    "y = trn[target_col]\r\n",
    "trn.drop(target_col, axis=1, inplace=True)\r\n",
    "feature_name = trn.columns.tolist()\r\n",
    "print(y.shape, trn.shape, tst.shape)"
   ],
   "outputs": [
    {
     "output_type": "stream",
     "name": "stdout",
     "text": [
      "(1459,) (1459, 9) (715, 9)\n"
     ]
    }
   ],
   "metadata": {}
  },
  {
   "cell_type": "markdown",
   "source": [
    "## 학습/검증 데이터 구분"
   ],
   "metadata": {}
  },
  {
   "cell_type": "code",
   "execution_count": 9,
   "source": [
    "X_trn, X_val, y_trn, y_val = train_test_split(trn, y, test_size=.2, random_state=seed)\r\n",
    "print(X_trn.shape, X_val.shape, y_trn.shape, y_val.shape)"
   ],
   "outputs": [
    {
     "output_type": "stream",
     "name": "stdout",
     "text": [
      "(1167, 9) (292, 9) (1167,) (292,)\n"
     ]
    }
   ],
   "metadata": {}
  },
  {
   "cell_type": "markdown",
   "source": [
    "## LightGBM 모델 학습"
   ],
   "metadata": {}
  },
  {
   "cell_type": "code",
   "execution_count": 12,
   "source": [
    "clf = lgb.LGBMRegressor(n_estimators=1000,\r\n",
    "                         num_leaves=64,\r\n",
    "                         learning_rate=0.1,\r\n",
    "                         min_child_samples=10,\r\n",
    "                         subsample=.5,\r\n",
    "                         subsample_freq=1,\r\n",
    "                         colsample_bytree=.8,\r\n",
    "                         random_state=seed,\r\n",
    "                         n_jobs=-1)\r\n",
    "clf.fit(X_trn, y_trn,\r\n",
    "        eval_set=[(X_val, y_val)],\r\n",
    "        eval_metric='rmse',\r\n",
    "        early_stopping_rounds=10)\r\n",
    "p_val = clf.predict(X_val)\r\n",
    "p_tst = clf.predict(tst)"
   ],
   "outputs": [
    {
     "output_type": "stream",
     "name": "stdout",
     "text": [
      "[1]\tvalid_0's rmse: 74.4371\tvalid_0's l2: 5540.88\n",
      "Training until validation scores don't improve for 10 rounds\n",
      "[2]\tvalid_0's rmse: 69.2978\tvalid_0's l2: 4802.19\n",
      "[3]\tvalid_0's rmse: 64.9505\tvalid_0's l2: 4218.57\n",
      "[4]\tvalid_0's rmse: 60.7455\tvalid_0's l2: 3690.01\n",
      "[5]\tvalid_0's rmse: 58.2548\tvalid_0's l2: 3393.62\n",
      "[6]\tvalid_0's rmse: 55.1732\tvalid_0's l2: 3044.08\n",
      "[7]\tvalid_0's rmse: 53.5576\tvalid_0's l2: 2868.42\n",
      "[8]\tvalid_0's rmse: 50.913\tvalid_0's l2: 2592.14\n",
      "[9]\tvalid_0's rmse: 48.7334\tvalid_0's l2: 2374.95\n",
      "[10]\tvalid_0's rmse: 47.1247\tvalid_0's l2: 2220.74\n",
      "[11]\tvalid_0's rmse: 45.8004\tvalid_0's l2: 2097.67\n",
      "[12]\tvalid_0's rmse: 44.9162\tvalid_0's l2: 2017.47\n",
      "[13]\tvalid_0's rmse: 44.1923\tvalid_0's l2: 1952.96\n",
      "[14]\tvalid_0's rmse: 43.0943\tvalid_0's l2: 1857.11\n",
      "[15]\tvalid_0's rmse: 42.1529\tvalid_0's l2: 1776.87\n",
      "[16]\tvalid_0's rmse: 41.5708\tvalid_0's l2: 1728.13\n",
      "[17]\tvalid_0's rmse: 40.9296\tvalid_0's l2: 1675.23\n",
      "[18]\tvalid_0's rmse: 40.3142\tvalid_0's l2: 1625.23\n",
      "[19]\tvalid_0's rmse: 39.9654\tvalid_0's l2: 1597.23\n",
      "[20]\tvalid_0's rmse: 39.6476\tvalid_0's l2: 1571.93\n",
      "[21]\tvalid_0's rmse: 39.5173\tvalid_0's l2: 1561.62\n",
      "[22]\tvalid_0's rmse: 39.3989\tvalid_0's l2: 1552.27\n",
      "[23]\tvalid_0's rmse: 38.9694\tvalid_0's l2: 1518.61\n",
      "[24]\tvalid_0's rmse: 38.7167\tvalid_0's l2: 1498.99\n",
      "[25]\tvalid_0's rmse: 38.4112\tvalid_0's l2: 1475.42\n",
      "[26]\tvalid_0's rmse: 38.2276\tvalid_0's l2: 1461.35\n",
      "[27]\tvalid_0's rmse: 38.0495\tvalid_0's l2: 1447.76\n",
      "[28]\tvalid_0's rmse: 37.7429\tvalid_0's l2: 1424.53\n",
      "[29]\tvalid_0's rmse: 37.7302\tvalid_0's l2: 1423.57\n",
      "[30]\tvalid_0's rmse: 37.7132\tvalid_0's l2: 1422.29\n",
      "[31]\tvalid_0's rmse: 37.6285\tvalid_0's l2: 1415.9\n",
      "[32]\tvalid_0's rmse: 37.585\tvalid_0's l2: 1412.63\n",
      "[33]\tvalid_0's rmse: 37.624\tvalid_0's l2: 1415.57\n",
      "[34]\tvalid_0's rmse: 37.5422\tvalid_0's l2: 1409.41\n",
      "[35]\tvalid_0's rmse: 37.4969\tvalid_0's l2: 1406.01\n",
      "[36]\tvalid_0's rmse: 37.4198\tvalid_0's l2: 1400.24\n",
      "[37]\tvalid_0's rmse: 37.1771\tvalid_0's l2: 1382.14\n",
      "[38]\tvalid_0's rmse: 37.2461\tvalid_0's l2: 1387.27\n",
      "[39]\tvalid_0's rmse: 37.305\tvalid_0's l2: 1391.66\n",
      "[40]\tvalid_0's rmse: 37.0542\tvalid_0's l2: 1373.02\n",
      "[41]\tvalid_0's rmse: 37.0995\tvalid_0's l2: 1376.38\n",
      "[42]\tvalid_0's rmse: 37.0932\tvalid_0's l2: 1375.91\n",
      "[43]\tvalid_0's rmse: 37.1772\tvalid_0's l2: 1382.14\n",
      "[44]\tvalid_0's rmse: 37.129\tvalid_0's l2: 1378.56\n",
      "[45]\tvalid_0's rmse: 37.1329\tvalid_0's l2: 1378.85\n",
      "[46]\tvalid_0's rmse: 37.0767\tvalid_0's l2: 1374.68\n",
      "[47]\tvalid_0's rmse: 37.217\tvalid_0's l2: 1385.11\n",
      "[48]\tvalid_0's rmse: 37.2478\tvalid_0's l2: 1387.4\n",
      "[49]\tvalid_0's rmse: 37.2323\tvalid_0's l2: 1386.25\n",
      "[50]\tvalid_0's rmse: 37.2833\tvalid_0's l2: 1390.04\n",
      "Early stopping, best iteration is:\n",
      "[40]\tvalid_0's rmse: 37.0542\tvalid_0's l2: 1373.02\n"
     ]
    }
   ],
   "metadata": {}
  },
  {
   "cell_type": "code",
   "execution_count": 15,
   "source": [
    "print('r2:', f'{r2_score(y_val, p_val):.4f}')\r\n",
    "print('mse:', f'{mean_squared_error(y_val, p_val):.4f}')"
   ],
   "outputs": [
    {
     "output_type": "stream",
     "name": "stdout",
     "text": [
      "r2: 0.7820\n",
      "mse: 1373.0157\n"
     ]
    }
   ],
   "metadata": {}
  },
  {
   "cell_type": "markdown",
   "source": [
    "## 피처 중요도 시각화"
   ],
   "metadata": {}
  },
  {
   "cell_type": "code",
   "execution_count": 16,
   "source": [
    "imp = pd.DataFrame({'feature': trn.columns, 'importance': clf.feature_importances_})\r\n",
    "imp = imp.sort_values('importance').set_index('feature')\r\n",
    "imp.plot(kind='barh')"
   ],
   "outputs": [
    {
     "output_type": "execute_result",
     "data": {
      "text/plain": [
       "<AxesSubplot:ylabel='feature'>"
      ]
     },
     "metadata": {},
     "execution_count": 16
    },
    {
     "output_type": "display_data",
     "data": {
      "text/plain": [
       "<Figure size 1152x576 with 1 Axes>"
      ],
      "image/svg+xml": "<?xml version=\"1.0\" encoding=\"utf-8\" standalone=\"no\"?>\r\n<!DOCTYPE svg PUBLIC \"-//W3C//DTD SVG 1.1//EN\"\r\n  \"http://www.w3.org/Graphics/SVG/1.1/DTD/svg11.dtd\">\r\n<svg height=\"498.009375pt\" version=\"1.1\" viewBox=\"0 0 1197.087687 498.009375\" width=\"1197.087687pt\" xmlns=\"http://www.w3.org/2000/svg\" xmlns:xlink=\"http://www.w3.org/1999/xlink\">\r\n <metadata>\r\n  <rdf:RDF xmlns:cc=\"http://creativecommons.org/ns#\" xmlns:dc=\"http://purl.org/dc/elements/1.1/\" xmlns:rdf=\"http://www.w3.org/1999/02/22-rdf-syntax-ns#\">\r\n   <cc:Work>\r\n    <dc:type rdf:resource=\"http://purl.org/dc/dcmitype/StillImage\"/>\r\n    <dc:date>2021-08-07T12:29:29.898619</dc:date>\r\n    <dc:format>image/svg+xml</dc:format>\r\n    <dc:creator>\r\n     <cc:Agent>\r\n      <dc:title>Matplotlib v3.4.2, https://matplotlib.org/</dc:title>\r\n     </cc:Agent>\r\n    </dc:creator>\r\n   </cc:Work>\r\n  </rdf:RDF>\r\n </metadata>\r\n <defs>\r\n  <style type=\"text/css\">*{stroke-linecap:butt;stroke-linejoin:round;}</style>\r\n </defs>\r\n <g id=\"figure_1\">\r\n  <g id=\"patch_1\">\r\n   <path d=\"M 0 498.009375 \r\nL 1197.087687 498.009375 \r\nL 1197.087687 0 \r\nL 0 0 \r\nz\r\n\" style=\"fill:#f0f0f0;\"/>\r\n  </g>\r\n  <g id=\"axes_1\">\r\n   <g id=\"patch_2\">\r\n    <path d=\"M 187.647688 473.76 \r\nL 1189.887687 473.76 \r\nL 1189.887687 7.2 \r\nL 187.647688 7.2 \r\nz\r\n\" style=\"fill:#f0f0f0;\"/>\r\n   </g>\r\n   <g id=\"matplotlib.axis_1\">\r\n    <g id=\"xtick_1\">\r\n     <g id=\"line2d_1\">\r\n      <path clip-path=\"url(#p6d6dd3fb54)\" d=\"M 187.647688 473.76 \r\nL 187.647688 7.2 \r\n\" style=\"fill:none;stroke:#cbcbcb;\"/>\r\n     </g>\r\n     <g id=\"line2d_2\"/>\r\n     <g id=\"text_1\">\r\n      <!-- 0 -->\r\n      <g transform=\"translate(183.193938 487.897812)scale(0.14 -0.14)\">\r\n       <defs>\r\n        <path d=\"M 2034 4250 \r\nQ 1547 4250 1301 3770 \r\nQ 1056 3291 1056 2328 \r\nQ 1056 1369 1301 889 \r\nQ 1547 409 2034 409 \r\nQ 2525 409 2770 889 \r\nQ 3016 1369 3016 2328 \r\nQ 3016 3291 2770 3770 \r\nQ 2525 4250 2034 4250 \r\nz\r\nM 2034 4750 \r\nQ 2819 4750 3233 4129 \r\nQ 3647 3509 3647 2328 \r\nQ 3647 1150 3233 529 \r\nQ 2819 -91 2034 -91 \r\nQ 1250 -91 836 529 \r\nQ 422 1150 422 2328 \r\nQ 422 3509 836 4129 \r\nQ 1250 4750 2034 4750 \r\nz\r\n\" id=\"DejaVuSans-30\" transform=\"scale(0.015625)\"/>\r\n       </defs>\r\n       <use xlink:href=\"#DejaVuSans-30\"/>\r\n      </g>\r\n     </g>\r\n    </g>\r\n    <g id=\"xtick_2\">\r\n     <g id=\"line2d_3\">\r\n      <path clip-path=\"url(#p6d6dd3fb54)\" d=\"M 326.789712 473.76 \r\nL 326.789712 7.2 \r\n\" style=\"fill:none;stroke:#cbcbcb;\"/>\r\n     </g>\r\n     <g id=\"line2d_4\"/>\r\n     <g id=\"text_2\">\r\n      <!-- 50 -->\r\n      <g transform=\"translate(317.882212 487.897812)scale(0.14 -0.14)\">\r\n       <defs>\r\n        <path d=\"M 691 4666 \r\nL 3169 4666 \r\nL 3169 4134 \r\nL 1269 4134 \r\nL 1269 2991 \r\nQ 1406 3038 1543 3061 \r\nQ 1681 3084 1819 3084 \r\nQ 2600 3084 3056 2656 \r\nQ 3513 2228 3513 1497 \r\nQ 3513 744 3044 326 \r\nQ 2575 -91 1722 -91 \r\nQ 1428 -91 1123 -41 \r\nQ 819 9 494 109 \r\nL 494 744 \r\nQ 775 591 1075 516 \r\nQ 1375 441 1709 441 \r\nQ 2250 441 2565 725 \r\nQ 2881 1009 2881 1497 \r\nQ 2881 1984 2565 2268 \r\nQ 2250 2553 1709 2553 \r\nQ 1456 2553 1204 2497 \r\nQ 953 2441 691 2322 \r\nL 691 4666 \r\nz\r\n\" id=\"DejaVuSans-35\" transform=\"scale(0.015625)\"/>\r\n       </defs>\r\n       <use xlink:href=\"#DejaVuSans-35\"/>\r\n       <use x=\"63.623047\" xlink:href=\"#DejaVuSans-30\"/>\r\n      </g>\r\n     </g>\r\n    </g>\r\n    <g id=\"xtick_3\">\r\n     <g id=\"line2d_5\">\r\n      <path clip-path=\"url(#p6d6dd3fb54)\" d=\"M 465.931736 473.76 \r\nL 465.931736 7.2 \r\n\" style=\"fill:none;stroke:#cbcbcb;\"/>\r\n     </g>\r\n     <g id=\"line2d_6\"/>\r\n     <g id=\"text_3\">\r\n      <!-- 100 -->\r\n      <g transform=\"translate(452.570486 487.897812)scale(0.14 -0.14)\">\r\n       <defs>\r\n        <path d=\"M 794 531 \r\nL 1825 531 \r\nL 1825 4091 \r\nL 703 3866 \r\nL 703 4441 \r\nL 1819 4666 \r\nL 2450 4666 \r\nL 2450 531 \r\nL 3481 531 \r\nL 3481 0 \r\nL 794 0 \r\nL 794 531 \r\nz\r\n\" id=\"DejaVuSans-31\" transform=\"scale(0.015625)\"/>\r\n       </defs>\r\n       <use xlink:href=\"#DejaVuSans-31\"/>\r\n       <use x=\"63.623047\" xlink:href=\"#DejaVuSans-30\"/>\r\n       <use x=\"127.246094\" xlink:href=\"#DejaVuSans-30\"/>\r\n      </g>\r\n     </g>\r\n    </g>\r\n    <g id=\"xtick_4\">\r\n     <g id=\"line2d_7\">\r\n      <path clip-path=\"url(#p6d6dd3fb54)\" d=\"M 605.07376 473.76 \r\nL 605.07376 7.2 \r\n\" style=\"fill:none;stroke:#cbcbcb;\"/>\r\n     </g>\r\n     <g id=\"line2d_8\"/>\r\n     <g id=\"text_4\">\r\n      <!-- 150 -->\r\n      <g transform=\"translate(591.71251 487.897812)scale(0.14 -0.14)\">\r\n       <use xlink:href=\"#DejaVuSans-31\"/>\r\n       <use x=\"63.623047\" xlink:href=\"#DejaVuSans-35\"/>\r\n       <use x=\"127.246094\" xlink:href=\"#DejaVuSans-30\"/>\r\n      </g>\r\n     </g>\r\n    </g>\r\n    <g id=\"xtick_5\">\r\n     <g id=\"line2d_9\">\r\n      <path clip-path=\"url(#p6d6dd3fb54)\" d=\"M 744.215784 473.76 \r\nL 744.215784 7.2 \r\n\" style=\"fill:none;stroke:#cbcbcb;\"/>\r\n     </g>\r\n     <g id=\"line2d_10\"/>\r\n     <g id=\"text_5\">\r\n      <!-- 200 -->\r\n      <g transform=\"translate(730.854534 487.897812)scale(0.14 -0.14)\">\r\n       <defs>\r\n        <path d=\"M 1228 531 \r\nL 3431 531 \r\nL 3431 0 \r\nL 469 0 \r\nL 469 531 \r\nQ 828 903 1448 1529 \r\nQ 2069 2156 2228 2338 \r\nQ 2531 2678 2651 2914 \r\nQ 2772 3150 2772 3378 \r\nQ 2772 3750 2511 3984 \r\nQ 2250 4219 1831 4219 \r\nQ 1534 4219 1204 4116 \r\nQ 875 4013 500 3803 \r\nL 500 4441 \r\nQ 881 4594 1212 4672 \r\nQ 1544 4750 1819 4750 \r\nQ 2544 4750 2975 4387 \r\nQ 3406 4025 3406 3419 \r\nQ 3406 3131 3298 2873 \r\nQ 3191 2616 2906 2266 \r\nQ 2828 2175 2409 1742 \r\nQ 1991 1309 1228 531 \r\nz\r\n\" id=\"DejaVuSans-32\" transform=\"scale(0.015625)\"/>\r\n       </defs>\r\n       <use xlink:href=\"#DejaVuSans-32\"/>\r\n       <use x=\"63.623047\" xlink:href=\"#DejaVuSans-30\"/>\r\n       <use x=\"127.246094\" xlink:href=\"#DejaVuSans-30\"/>\r\n      </g>\r\n     </g>\r\n    </g>\r\n    <g id=\"xtick_6\">\r\n     <g id=\"line2d_11\">\r\n      <path clip-path=\"url(#p6d6dd3fb54)\" d=\"M 883.357808 473.76 \r\nL 883.357808 7.2 \r\n\" style=\"fill:none;stroke:#cbcbcb;\"/>\r\n     </g>\r\n     <g id=\"line2d_12\"/>\r\n     <g id=\"text_6\">\r\n      <!-- 250 -->\r\n      <g transform=\"translate(869.996558 487.897812)scale(0.14 -0.14)\">\r\n       <use xlink:href=\"#DejaVuSans-32\"/>\r\n       <use x=\"63.623047\" xlink:href=\"#DejaVuSans-35\"/>\r\n       <use x=\"127.246094\" xlink:href=\"#DejaVuSans-30\"/>\r\n      </g>\r\n     </g>\r\n    </g>\r\n    <g id=\"xtick_7\">\r\n     <g id=\"line2d_13\">\r\n      <path clip-path=\"url(#p6d6dd3fb54)\" d=\"M 1022.499832 473.76 \r\nL 1022.499832 7.2 \r\n\" style=\"fill:none;stroke:#cbcbcb;\"/>\r\n     </g>\r\n     <g id=\"line2d_14\"/>\r\n     <g id=\"text_7\">\r\n      <!-- 300 -->\r\n      <g transform=\"translate(1009.138582 487.897812)scale(0.14 -0.14)\">\r\n       <defs>\r\n        <path d=\"M 2597 2516 \r\nQ 3050 2419 3304 2112 \r\nQ 3559 1806 3559 1356 \r\nQ 3559 666 3084 287 \r\nQ 2609 -91 1734 -91 \r\nQ 1441 -91 1130 -33 \r\nQ 819 25 488 141 \r\nL 488 750 \r\nQ 750 597 1062 519 \r\nQ 1375 441 1716 441 \r\nQ 2309 441 2620 675 \r\nQ 2931 909 2931 1356 \r\nQ 2931 1769 2642 2001 \r\nQ 2353 2234 1838 2234 \r\nL 1294 2234 \r\nL 1294 2753 \r\nL 1863 2753 \r\nQ 2328 2753 2575 2939 \r\nQ 2822 3125 2822 3475 \r\nQ 2822 3834 2567 4026 \r\nQ 2313 4219 1838 4219 \r\nQ 1578 4219 1281 4162 \r\nQ 984 4106 628 3988 \r\nL 628 4550 \r\nQ 988 4650 1302 4700 \r\nQ 1616 4750 1894 4750 \r\nQ 2613 4750 3031 4423 \r\nQ 3450 4097 3450 3541 \r\nQ 3450 3153 3228 2886 \r\nQ 3006 2619 2597 2516 \r\nz\r\n\" id=\"DejaVuSans-33\" transform=\"scale(0.015625)\"/>\r\n       </defs>\r\n       <use xlink:href=\"#DejaVuSans-33\"/>\r\n       <use x=\"63.623047\" xlink:href=\"#DejaVuSans-30\"/>\r\n       <use x=\"127.246094\" xlink:href=\"#DejaVuSans-30\"/>\r\n      </g>\r\n     </g>\r\n    </g>\r\n    <g id=\"xtick_8\">\r\n     <g id=\"line2d_15\">\r\n      <path clip-path=\"url(#p6d6dd3fb54)\" d=\"M 1161.641857 473.76 \r\nL 1161.641857 7.2 \r\n\" style=\"fill:none;stroke:#cbcbcb;\"/>\r\n     </g>\r\n     <g id=\"line2d_16\"/>\r\n     <g id=\"text_8\">\r\n      <!-- 350 -->\r\n      <g transform=\"translate(1148.280607 487.897812)scale(0.14 -0.14)\">\r\n       <use xlink:href=\"#DejaVuSans-33\"/>\r\n       <use x=\"63.623047\" xlink:href=\"#DejaVuSans-35\"/>\r\n       <use x=\"127.246094\" xlink:href=\"#DejaVuSans-30\"/>\r\n      </g>\r\n     </g>\r\n    </g>\r\n   </g>\r\n   <g id=\"matplotlib.axis_2\">\r\n    <g id=\"ytick_1\">\r\n     <g id=\"line2d_17\">\r\n      <path clip-path=\"url(#p6d6dd3fb54)\" d=\"M 187.647688 447.84 \r\nL 1189.887687 447.84 \r\n\" style=\"fill:none;stroke:#cbcbcb;\"/>\r\n     </g>\r\n     <g id=\"line2d_18\"/>\r\n     <g id=\"text_9\">\r\n      <!-- hour_bef_precipitation -->\r\n      <g transform=\"translate(27.45925 453.158906)scale(0.14 -0.14)\">\r\n       <defs>\r\n        <path d=\"M 3513 2113 \r\nL 3513 0 \r\nL 2938 0 \r\nL 2938 2094 \r\nQ 2938 2591 2744 2837 \r\nQ 2550 3084 2163 3084 \r\nQ 1697 3084 1428 2787 \r\nQ 1159 2491 1159 1978 \r\nL 1159 0 \r\nL 581 0 \r\nL 581 4863 \r\nL 1159 4863 \r\nL 1159 2956 \r\nQ 1366 3272 1645 3428 \r\nQ 1925 3584 2291 3584 \r\nQ 2894 3584 3203 3211 \r\nQ 3513 2838 3513 2113 \r\nz\r\n\" id=\"DejaVuSans-68\" transform=\"scale(0.015625)\"/>\r\n        <path d=\"M 1959 3097 \r\nQ 1497 3097 1228 2736 \r\nQ 959 2375 959 1747 \r\nQ 959 1119 1226 758 \r\nQ 1494 397 1959 397 \r\nQ 2419 397 2687 759 \r\nQ 2956 1122 2956 1747 \r\nQ 2956 2369 2687 2733 \r\nQ 2419 3097 1959 3097 \r\nz\r\nM 1959 3584 \r\nQ 2709 3584 3137 3096 \r\nQ 3566 2609 3566 1747 \r\nQ 3566 888 3137 398 \r\nQ 2709 -91 1959 -91 \r\nQ 1206 -91 779 398 \r\nQ 353 888 353 1747 \r\nQ 353 2609 779 3096 \r\nQ 1206 3584 1959 3584 \r\nz\r\n\" id=\"DejaVuSans-6f\" transform=\"scale(0.015625)\"/>\r\n        <path d=\"M 544 1381 \r\nL 544 3500 \r\nL 1119 3500 \r\nL 1119 1403 \r\nQ 1119 906 1312 657 \r\nQ 1506 409 1894 409 \r\nQ 2359 409 2629 706 \r\nQ 2900 1003 2900 1516 \r\nL 2900 3500 \r\nL 3475 3500 \r\nL 3475 0 \r\nL 2900 0 \r\nL 2900 538 \r\nQ 2691 219 2414 64 \r\nQ 2138 -91 1772 -91 \r\nQ 1169 -91 856 284 \r\nQ 544 659 544 1381 \r\nz\r\nM 1991 3584 \r\nL 1991 3584 \r\nz\r\n\" id=\"DejaVuSans-75\" transform=\"scale(0.015625)\"/>\r\n        <path d=\"M 2631 2963 \r\nQ 2534 3019 2420 3045 \r\nQ 2306 3072 2169 3072 \r\nQ 1681 3072 1420 2755 \r\nQ 1159 2438 1159 1844 \r\nL 1159 0 \r\nL 581 0 \r\nL 581 3500 \r\nL 1159 3500 \r\nL 1159 2956 \r\nQ 1341 3275 1631 3429 \r\nQ 1922 3584 2338 3584 \r\nQ 2397 3584 2469 3576 \r\nQ 2541 3569 2628 3553 \r\nL 2631 2963 \r\nz\r\n\" id=\"DejaVuSans-72\" transform=\"scale(0.015625)\"/>\r\n        <path d=\"M 3263 -1063 \r\nL 3263 -1509 \r\nL -63 -1509 \r\nL -63 -1063 \r\nL 3263 -1063 \r\nz\r\n\" id=\"DejaVuSans-5f\" transform=\"scale(0.015625)\"/>\r\n        <path d=\"M 3116 1747 \r\nQ 3116 2381 2855 2742 \r\nQ 2594 3103 2138 3103 \r\nQ 1681 3103 1420 2742 \r\nQ 1159 2381 1159 1747 \r\nQ 1159 1113 1420 752 \r\nQ 1681 391 2138 391 \r\nQ 2594 391 2855 752 \r\nQ 3116 1113 3116 1747 \r\nz\r\nM 1159 2969 \r\nQ 1341 3281 1617 3432 \r\nQ 1894 3584 2278 3584 \r\nQ 2916 3584 3314 3078 \r\nQ 3713 2572 3713 1747 \r\nQ 3713 922 3314 415 \r\nQ 2916 -91 2278 -91 \r\nQ 1894 -91 1617 61 \r\nQ 1341 213 1159 525 \r\nL 1159 0 \r\nL 581 0 \r\nL 581 4863 \r\nL 1159 4863 \r\nL 1159 2969 \r\nz\r\n\" id=\"DejaVuSans-62\" transform=\"scale(0.015625)\"/>\r\n        <path d=\"M 3597 1894 \r\nL 3597 1613 \r\nL 953 1613 \r\nQ 991 1019 1311 708 \r\nQ 1631 397 2203 397 \r\nQ 2534 397 2845 478 \r\nQ 3156 559 3463 722 \r\nL 3463 178 \r\nQ 3153 47 2828 -22 \r\nQ 2503 -91 2169 -91 \r\nQ 1331 -91 842 396 \r\nQ 353 884 353 1716 \r\nQ 353 2575 817 3079 \r\nQ 1281 3584 2069 3584 \r\nQ 2775 3584 3186 3129 \r\nQ 3597 2675 3597 1894 \r\nz\r\nM 3022 2063 \r\nQ 3016 2534 2758 2815 \r\nQ 2500 3097 2075 3097 \r\nQ 1594 3097 1305 2825 \r\nQ 1016 2553 972 2059 \r\nL 3022 2063 \r\nz\r\n\" id=\"DejaVuSans-65\" transform=\"scale(0.015625)\"/>\r\n        <path d=\"M 2375 4863 \r\nL 2375 4384 \r\nL 1825 4384 \r\nQ 1516 4384 1395 4259 \r\nQ 1275 4134 1275 3809 \r\nL 1275 3500 \r\nL 2222 3500 \r\nL 2222 3053 \r\nL 1275 3053 \r\nL 1275 0 \r\nL 697 0 \r\nL 697 3053 \r\nL 147 3053 \r\nL 147 3500 \r\nL 697 3500 \r\nL 697 3744 \r\nQ 697 4328 969 4595 \r\nQ 1241 4863 1831 4863 \r\nL 2375 4863 \r\nz\r\n\" id=\"DejaVuSans-66\" transform=\"scale(0.015625)\"/>\r\n        <path d=\"M 1159 525 \r\nL 1159 -1331 \r\nL 581 -1331 \r\nL 581 3500 \r\nL 1159 3500 \r\nL 1159 2969 \r\nQ 1341 3281 1617 3432 \r\nQ 1894 3584 2278 3584 \r\nQ 2916 3584 3314 3078 \r\nQ 3713 2572 3713 1747 \r\nQ 3713 922 3314 415 \r\nQ 2916 -91 2278 -91 \r\nQ 1894 -91 1617 61 \r\nQ 1341 213 1159 525 \r\nz\r\nM 3116 1747 \r\nQ 3116 2381 2855 2742 \r\nQ 2594 3103 2138 3103 \r\nQ 1681 3103 1420 2742 \r\nQ 1159 2381 1159 1747 \r\nQ 1159 1113 1420 752 \r\nQ 1681 391 2138 391 \r\nQ 2594 391 2855 752 \r\nQ 3116 1113 3116 1747 \r\nz\r\n\" id=\"DejaVuSans-70\" transform=\"scale(0.015625)\"/>\r\n        <path d=\"M 3122 3366 \r\nL 3122 2828 \r\nQ 2878 2963 2633 3030 \r\nQ 2388 3097 2138 3097 \r\nQ 1578 3097 1268 2742 \r\nQ 959 2388 959 1747 \r\nQ 959 1106 1268 751 \r\nQ 1578 397 2138 397 \r\nQ 2388 397 2633 464 \r\nQ 2878 531 3122 666 \r\nL 3122 134 \r\nQ 2881 22 2623 -34 \r\nQ 2366 -91 2075 -91 \r\nQ 1284 -91 818 406 \r\nQ 353 903 353 1747 \r\nQ 353 2603 823 3093 \r\nQ 1294 3584 2113 3584 \r\nQ 2378 3584 2631 3529 \r\nQ 2884 3475 3122 3366 \r\nz\r\n\" id=\"DejaVuSans-63\" transform=\"scale(0.015625)\"/>\r\n        <path d=\"M 603 3500 \r\nL 1178 3500 \r\nL 1178 0 \r\nL 603 0 \r\nL 603 3500 \r\nz\r\nM 603 4863 \r\nL 1178 4863 \r\nL 1178 4134 \r\nL 603 4134 \r\nL 603 4863 \r\nz\r\n\" id=\"DejaVuSans-69\" transform=\"scale(0.015625)\"/>\r\n        <path d=\"M 1172 4494 \r\nL 1172 3500 \r\nL 2356 3500 \r\nL 2356 3053 \r\nL 1172 3053 \r\nL 1172 1153 \r\nQ 1172 725 1289 603 \r\nQ 1406 481 1766 481 \r\nL 2356 481 \r\nL 2356 0 \r\nL 1766 0 \r\nQ 1100 0 847 248 \r\nQ 594 497 594 1153 \r\nL 594 3053 \r\nL 172 3053 \r\nL 172 3500 \r\nL 594 3500 \r\nL 594 4494 \r\nL 1172 4494 \r\nz\r\n\" id=\"DejaVuSans-74\" transform=\"scale(0.015625)\"/>\r\n        <path d=\"M 2194 1759 \r\nQ 1497 1759 1228 1600 \r\nQ 959 1441 959 1056 \r\nQ 959 750 1161 570 \r\nQ 1363 391 1709 391 \r\nQ 2188 391 2477 730 \r\nQ 2766 1069 2766 1631 \r\nL 2766 1759 \r\nL 2194 1759 \r\nz\r\nM 3341 1997 \r\nL 3341 0 \r\nL 2766 0 \r\nL 2766 531 \r\nQ 2569 213 2275 61 \r\nQ 1981 -91 1556 -91 \r\nQ 1019 -91 701 211 \r\nQ 384 513 384 1019 \r\nQ 384 1609 779 1909 \r\nQ 1175 2209 1959 2209 \r\nL 2766 2209 \r\nL 2766 2266 \r\nQ 2766 2663 2505 2880 \r\nQ 2244 3097 1772 3097 \r\nQ 1472 3097 1187 3025 \r\nQ 903 2953 641 2809 \r\nL 641 3341 \r\nQ 956 3463 1253 3523 \r\nQ 1550 3584 1831 3584 \r\nQ 2591 3584 2966 3190 \r\nQ 3341 2797 3341 1997 \r\nz\r\n\" id=\"DejaVuSans-61\" transform=\"scale(0.015625)\"/>\r\n        <path d=\"M 3513 2113 \r\nL 3513 0 \r\nL 2938 0 \r\nL 2938 2094 \r\nQ 2938 2591 2744 2837 \r\nQ 2550 3084 2163 3084 \r\nQ 1697 3084 1428 2787 \r\nQ 1159 2491 1159 1978 \r\nL 1159 0 \r\nL 581 0 \r\nL 581 3500 \r\nL 1159 3500 \r\nL 1159 2956 \r\nQ 1366 3272 1645 3428 \r\nQ 1925 3584 2291 3584 \r\nQ 2894 3584 3203 3211 \r\nQ 3513 2838 3513 2113 \r\nz\r\n\" id=\"DejaVuSans-6e\" transform=\"scale(0.015625)\"/>\r\n       </defs>\r\n       <use xlink:href=\"#DejaVuSans-68\"/>\r\n       <use x=\"63.378906\" xlink:href=\"#DejaVuSans-6f\"/>\r\n       <use x=\"124.560547\" xlink:href=\"#DejaVuSans-75\"/>\r\n       <use x=\"187.939453\" xlink:href=\"#DejaVuSans-72\"/>\r\n       <use x=\"229.052734\" xlink:href=\"#DejaVuSans-5f\"/>\r\n       <use x=\"279.052734\" xlink:href=\"#DejaVuSans-62\"/>\r\n       <use x=\"342.529297\" xlink:href=\"#DejaVuSans-65\"/>\r\n       <use x=\"404.052734\" xlink:href=\"#DejaVuSans-66\"/>\r\n       <use x=\"439.257812\" xlink:href=\"#DejaVuSans-5f\"/>\r\n       <use x=\"489.257812\" xlink:href=\"#DejaVuSans-70\"/>\r\n       <use x=\"552.734375\" xlink:href=\"#DejaVuSans-72\"/>\r\n       <use x=\"591.597656\" xlink:href=\"#DejaVuSans-65\"/>\r\n       <use x=\"653.121094\" xlink:href=\"#DejaVuSans-63\"/>\r\n       <use x=\"708.101562\" xlink:href=\"#DejaVuSans-69\"/>\r\n       <use x=\"735.884766\" xlink:href=\"#DejaVuSans-70\"/>\r\n       <use x=\"799.361328\" xlink:href=\"#DejaVuSans-69\"/>\r\n       <use x=\"827.144531\" xlink:href=\"#DejaVuSans-74\"/>\r\n       <use x=\"866.353516\" xlink:href=\"#DejaVuSans-61\"/>\r\n       <use x=\"927.632812\" xlink:href=\"#DejaVuSans-74\"/>\r\n       <use x=\"966.841797\" xlink:href=\"#DejaVuSans-69\"/>\r\n       <use x=\"994.625\" xlink:href=\"#DejaVuSans-6f\"/>\r\n       <use x=\"1055.806641\" xlink:href=\"#DejaVuSans-6e\"/>\r\n      </g>\r\n     </g>\r\n    </g>\r\n    <g id=\"ytick_2\">\r\n     <g id=\"line2d_19\">\r\n      <path clip-path=\"url(#p6d6dd3fb54)\" d=\"M 187.647688 396 \r\nL 1189.887687 396 \r\n\" style=\"fill:none;stroke:#cbcbcb;\"/>\r\n     </g>\r\n     <g id=\"line2d_20\"/>\r\n     <g id=\"text_10\">\r\n      <!-- hour_bef_visibility -->\r\n      <g transform=\"translate(57.96175 401.318906)scale(0.14 -0.14)\">\r\n       <defs>\r\n        <path d=\"M 191 3500 \r\nL 800 3500 \r\nL 1894 563 \r\nL 2988 3500 \r\nL 3597 3500 \r\nL 2284 0 \r\nL 1503 0 \r\nL 191 3500 \r\nz\r\n\" id=\"DejaVuSans-76\" transform=\"scale(0.015625)\"/>\r\n        <path d=\"M 2834 3397 \r\nL 2834 2853 \r\nQ 2591 2978 2328 3040 \r\nQ 2066 3103 1784 3103 \r\nQ 1356 3103 1142 2972 \r\nQ 928 2841 928 2578 \r\nQ 928 2378 1081 2264 \r\nQ 1234 2150 1697 2047 \r\nL 1894 2003 \r\nQ 2506 1872 2764 1633 \r\nQ 3022 1394 3022 966 \r\nQ 3022 478 2636 193 \r\nQ 2250 -91 1575 -91 \r\nQ 1294 -91 989 -36 \r\nQ 684 19 347 128 \r\nL 347 722 \r\nQ 666 556 975 473 \r\nQ 1284 391 1588 391 \r\nQ 1994 391 2212 530 \r\nQ 2431 669 2431 922 \r\nQ 2431 1156 2273 1281 \r\nQ 2116 1406 1581 1522 \r\nL 1381 1569 \r\nQ 847 1681 609 1914 \r\nQ 372 2147 372 2553 \r\nQ 372 3047 722 3315 \r\nQ 1072 3584 1716 3584 \r\nQ 2034 3584 2315 3537 \r\nQ 2597 3491 2834 3397 \r\nz\r\n\" id=\"DejaVuSans-73\" transform=\"scale(0.015625)\"/>\r\n        <path d=\"M 603 4863 \r\nL 1178 4863 \r\nL 1178 0 \r\nL 603 0 \r\nL 603 4863 \r\nz\r\n\" id=\"DejaVuSans-6c\" transform=\"scale(0.015625)\"/>\r\n        <path d=\"M 2059 -325 \r\nQ 1816 -950 1584 -1140 \r\nQ 1353 -1331 966 -1331 \r\nL 506 -1331 \r\nL 506 -850 \r\nL 844 -850 \r\nQ 1081 -850 1212 -737 \r\nQ 1344 -625 1503 -206 \r\nL 1606 56 \r\nL 191 3500 \r\nL 800 3500 \r\nL 1894 763 \r\nL 2988 3500 \r\nL 3597 3500 \r\nL 2059 -325 \r\nz\r\n\" id=\"DejaVuSans-79\" transform=\"scale(0.015625)\"/>\r\n       </defs>\r\n       <use xlink:href=\"#DejaVuSans-68\"/>\r\n       <use x=\"63.378906\" xlink:href=\"#DejaVuSans-6f\"/>\r\n       <use x=\"124.560547\" xlink:href=\"#DejaVuSans-75\"/>\r\n       <use x=\"187.939453\" xlink:href=\"#DejaVuSans-72\"/>\r\n       <use x=\"229.052734\" xlink:href=\"#DejaVuSans-5f\"/>\r\n       <use x=\"279.052734\" xlink:href=\"#DejaVuSans-62\"/>\r\n       <use x=\"342.529297\" xlink:href=\"#DejaVuSans-65\"/>\r\n       <use x=\"404.052734\" xlink:href=\"#DejaVuSans-66\"/>\r\n       <use x=\"439.257812\" xlink:href=\"#DejaVuSans-5f\"/>\r\n       <use x=\"489.257812\" xlink:href=\"#DejaVuSans-76\"/>\r\n       <use x=\"548.4375\" xlink:href=\"#DejaVuSans-69\"/>\r\n       <use x=\"576.220703\" xlink:href=\"#DejaVuSans-73\"/>\r\n       <use x=\"628.320312\" xlink:href=\"#DejaVuSans-69\"/>\r\n       <use x=\"656.103516\" xlink:href=\"#DejaVuSans-62\"/>\r\n       <use x=\"719.580078\" xlink:href=\"#DejaVuSans-69\"/>\r\n       <use x=\"747.363281\" xlink:href=\"#DejaVuSans-6c\"/>\r\n       <use x=\"775.146484\" xlink:href=\"#DejaVuSans-69\"/>\r\n       <use x=\"802.929688\" xlink:href=\"#DejaVuSans-74\"/>\r\n       <use x=\"842.138672\" xlink:href=\"#DejaVuSans-79\"/>\r\n      </g>\r\n     </g>\r\n    </g>\r\n    <g id=\"ytick_3\">\r\n     <g id=\"line2d_21\">\r\n      <path clip-path=\"url(#p6d6dd3fb54)\" d=\"M 187.647688 344.16 \r\nL 1189.887687 344.16 \r\n\" style=\"fill:none;stroke:#cbcbcb;\"/>\r\n     </g>\r\n     <g id=\"line2d_22\"/>\r\n     <g id=\"text_11\">\r\n      <!-- hour_bef_windspeed -->\r\n      <g transform=\"translate(40.253938 349.478906)scale(0.14 -0.14)\">\r\n       <defs>\r\n        <path d=\"M 269 3500 \r\nL 844 3500 \r\nL 1563 769 \r\nL 2278 3500 \r\nL 2956 3500 \r\nL 3675 769 \r\nL 4391 3500 \r\nL 4966 3500 \r\nL 4050 0 \r\nL 3372 0 \r\nL 2619 2869 \r\nL 1863 0 \r\nL 1184 0 \r\nL 269 3500 \r\nz\r\n\" id=\"DejaVuSans-77\" transform=\"scale(0.015625)\"/>\r\n        <path d=\"M 2906 2969 \r\nL 2906 4863 \r\nL 3481 4863 \r\nL 3481 0 \r\nL 2906 0 \r\nL 2906 525 \r\nQ 2725 213 2448 61 \r\nQ 2172 -91 1784 -91 \r\nQ 1150 -91 751 415 \r\nQ 353 922 353 1747 \r\nQ 353 2572 751 3078 \r\nQ 1150 3584 1784 3584 \r\nQ 2172 3584 2448 3432 \r\nQ 2725 3281 2906 2969 \r\nz\r\nM 947 1747 \r\nQ 947 1113 1208 752 \r\nQ 1469 391 1925 391 \r\nQ 2381 391 2643 752 \r\nQ 2906 1113 2906 1747 \r\nQ 2906 2381 2643 2742 \r\nQ 2381 3103 1925 3103 \r\nQ 1469 3103 1208 2742 \r\nQ 947 2381 947 1747 \r\nz\r\n\" id=\"DejaVuSans-64\" transform=\"scale(0.015625)\"/>\r\n       </defs>\r\n       <use xlink:href=\"#DejaVuSans-68\"/>\r\n       <use x=\"63.378906\" xlink:href=\"#DejaVuSans-6f\"/>\r\n       <use x=\"124.560547\" xlink:href=\"#DejaVuSans-75\"/>\r\n       <use x=\"187.939453\" xlink:href=\"#DejaVuSans-72\"/>\r\n       <use x=\"229.052734\" xlink:href=\"#DejaVuSans-5f\"/>\r\n       <use x=\"279.052734\" xlink:href=\"#DejaVuSans-62\"/>\r\n       <use x=\"342.529297\" xlink:href=\"#DejaVuSans-65\"/>\r\n       <use x=\"404.052734\" xlink:href=\"#DejaVuSans-66\"/>\r\n       <use x=\"439.257812\" xlink:href=\"#DejaVuSans-5f\"/>\r\n       <use x=\"489.257812\" xlink:href=\"#DejaVuSans-77\"/>\r\n       <use x=\"571.044922\" xlink:href=\"#DejaVuSans-69\"/>\r\n       <use x=\"598.828125\" xlink:href=\"#DejaVuSans-6e\"/>\r\n       <use x=\"662.207031\" xlink:href=\"#DejaVuSans-64\"/>\r\n       <use x=\"725.683594\" xlink:href=\"#DejaVuSans-73\"/>\r\n       <use x=\"777.783203\" xlink:href=\"#DejaVuSans-70\"/>\r\n       <use x=\"841.259766\" xlink:href=\"#DejaVuSans-65\"/>\r\n       <use x=\"902.783203\" xlink:href=\"#DejaVuSans-65\"/>\r\n       <use x=\"964.306641\" xlink:href=\"#DejaVuSans-64\"/>\r\n      </g>\r\n     </g>\r\n    </g>\r\n    <g id=\"ytick_4\">\r\n     <g id=\"line2d_23\">\r\n      <path clip-path=\"url(#p6d6dd3fb54)\" d=\"M 187.647688 292.32 \r\nL 1189.887687 292.32 \r\n\" style=\"fill:none;stroke:#cbcbcb;\"/>\r\n     </g>\r\n     <g id=\"line2d_24\"/>\r\n     <g id=\"text_12\">\r\n      <!-- hour_bef_pm2.5 -->\r\n      <g transform=\"translate(70.861438 297.638906)scale(0.14 -0.14)\">\r\n       <defs>\r\n        <path d=\"M 3328 2828 \r\nQ 3544 3216 3844 3400 \r\nQ 4144 3584 4550 3584 \r\nQ 5097 3584 5394 3201 \r\nQ 5691 2819 5691 2113 \r\nL 5691 0 \r\nL 5113 0 \r\nL 5113 2094 \r\nQ 5113 2597 4934 2840 \r\nQ 4756 3084 4391 3084 \r\nQ 3944 3084 3684 2787 \r\nQ 3425 2491 3425 1978 \r\nL 3425 0 \r\nL 2847 0 \r\nL 2847 2094 \r\nQ 2847 2600 2669 2842 \r\nQ 2491 3084 2119 3084 \r\nQ 1678 3084 1418 2786 \r\nQ 1159 2488 1159 1978 \r\nL 1159 0 \r\nL 581 0 \r\nL 581 3500 \r\nL 1159 3500 \r\nL 1159 2956 \r\nQ 1356 3278 1631 3431 \r\nQ 1906 3584 2284 3584 \r\nQ 2666 3584 2933 3390 \r\nQ 3200 3197 3328 2828 \r\nz\r\n\" id=\"DejaVuSans-6d\" transform=\"scale(0.015625)\"/>\r\n        <path d=\"M 684 794 \r\nL 1344 794 \r\nL 1344 0 \r\nL 684 0 \r\nL 684 794 \r\nz\r\n\" id=\"DejaVuSans-2e\" transform=\"scale(0.015625)\"/>\r\n       </defs>\r\n       <use xlink:href=\"#DejaVuSans-68\"/>\r\n       <use x=\"63.378906\" xlink:href=\"#DejaVuSans-6f\"/>\r\n       <use x=\"124.560547\" xlink:href=\"#DejaVuSans-75\"/>\r\n       <use x=\"187.939453\" xlink:href=\"#DejaVuSans-72\"/>\r\n       <use x=\"229.052734\" xlink:href=\"#DejaVuSans-5f\"/>\r\n       <use x=\"279.052734\" xlink:href=\"#DejaVuSans-62\"/>\r\n       <use x=\"342.529297\" xlink:href=\"#DejaVuSans-65\"/>\r\n       <use x=\"404.052734\" xlink:href=\"#DejaVuSans-66\"/>\r\n       <use x=\"439.257812\" xlink:href=\"#DejaVuSans-5f\"/>\r\n       <use x=\"489.257812\" xlink:href=\"#DejaVuSans-70\"/>\r\n       <use x=\"552.734375\" xlink:href=\"#DejaVuSans-6d\"/>\r\n       <use x=\"650.146484\" xlink:href=\"#DejaVuSans-32\"/>\r\n       <use x=\"713.769531\" xlink:href=\"#DejaVuSans-2e\"/>\r\n       <use x=\"745.556641\" xlink:href=\"#DejaVuSans-35\"/>\r\n      </g>\r\n     </g>\r\n    </g>\r\n    <g id=\"ytick_5\">\r\n     <g id=\"line2d_25\">\r\n      <path clip-path=\"url(#p6d6dd3fb54)\" d=\"M 187.647688 240.48 \r\nL 1189.887687 240.48 \r\n\" style=\"fill:none;stroke:#cbcbcb;\"/>\r\n     </g>\r\n     <g id=\"line2d_26\"/>\r\n     <g id=\"text_13\">\r\n      <!-- hour_bef_humidity -->\r\n      <g transform=\"translate(53.827375 245.798906)scale(0.14 -0.14)\">\r\n       <use xlink:href=\"#DejaVuSans-68\"/>\r\n       <use x=\"63.378906\" xlink:href=\"#DejaVuSans-6f\"/>\r\n       <use x=\"124.560547\" xlink:href=\"#DejaVuSans-75\"/>\r\n       <use x=\"187.939453\" xlink:href=\"#DejaVuSans-72\"/>\r\n       <use x=\"229.052734\" xlink:href=\"#DejaVuSans-5f\"/>\r\n       <use x=\"279.052734\" xlink:href=\"#DejaVuSans-62\"/>\r\n       <use x=\"342.529297\" xlink:href=\"#DejaVuSans-65\"/>\r\n       <use x=\"404.052734\" xlink:href=\"#DejaVuSans-66\"/>\r\n       <use x=\"439.257812\" xlink:href=\"#DejaVuSans-5f\"/>\r\n       <use x=\"489.257812\" xlink:href=\"#DejaVuSans-68\"/>\r\n       <use x=\"552.636719\" xlink:href=\"#DejaVuSans-75\"/>\r\n       <use x=\"616.015625\" xlink:href=\"#DejaVuSans-6d\"/>\r\n       <use x=\"713.427734\" xlink:href=\"#DejaVuSans-69\"/>\r\n       <use x=\"741.210938\" xlink:href=\"#DejaVuSans-64\"/>\r\n       <use x=\"804.6875\" xlink:href=\"#DejaVuSans-69\"/>\r\n       <use x=\"832.470703\" xlink:href=\"#DejaVuSans-74\"/>\r\n       <use x=\"871.679688\" xlink:href=\"#DejaVuSans-79\"/>\r\n      </g>\r\n     </g>\r\n    </g>\r\n    <g id=\"ytick_6\">\r\n     <g id=\"line2d_27\">\r\n      <path clip-path=\"url(#p6d6dd3fb54)\" d=\"M 187.647688 188.64 \r\nL 1189.887687 188.64 \r\n\" style=\"fill:none;stroke:#cbcbcb;\"/>\r\n     </g>\r\n     <g id=\"line2d_28\"/>\r\n     <g id=\"text_14\">\r\n      <!-- hour_bef_pm10 -->\r\n      <g transform=\"translate(75.310813 193.958906)scale(0.14 -0.14)\">\r\n       <use xlink:href=\"#DejaVuSans-68\"/>\r\n       <use x=\"63.378906\" xlink:href=\"#DejaVuSans-6f\"/>\r\n       <use x=\"124.560547\" xlink:href=\"#DejaVuSans-75\"/>\r\n       <use x=\"187.939453\" xlink:href=\"#DejaVuSans-72\"/>\r\n       <use x=\"229.052734\" xlink:href=\"#DejaVuSans-5f\"/>\r\n       <use x=\"279.052734\" xlink:href=\"#DejaVuSans-62\"/>\r\n       <use x=\"342.529297\" xlink:href=\"#DejaVuSans-65\"/>\r\n       <use x=\"404.052734\" xlink:href=\"#DejaVuSans-66\"/>\r\n       <use x=\"439.257812\" xlink:href=\"#DejaVuSans-5f\"/>\r\n       <use x=\"489.257812\" xlink:href=\"#DejaVuSans-70\"/>\r\n       <use x=\"552.734375\" xlink:href=\"#DejaVuSans-6d\"/>\r\n       <use x=\"650.146484\" xlink:href=\"#DejaVuSans-31\"/>\r\n       <use x=\"713.769531\" xlink:href=\"#DejaVuSans-30\"/>\r\n      </g>\r\n     </g>\r\n    </g>\r\n    <g id=\"ytick_7\">\r\n     <g id=\"line2d_29\">\r\n      <path clip-path=\"url(#p6d6dd3fb54)\" d=\"M 187.647688 136.8 \r\nL 1189.887687 136.8 \r\n\" style=\"fill:none;stroke:#cbcbcb;\"/>\r\n     </g>\r\n     <g id=\"line2d_30\"/>\r\n     <g id=\"text_15\">\r\n      <!-- hour_bef_ozone -->\r\n      <g transform=\"translate(73.683313 142.118906)scale(0.14 -0.14)\">\r\n       <defs>\r\n        <path d=\"M 353 3500 \r\nL 3084 3500 \r\nL 3084 2975 \r\nL 922 459 \r\nL 3084 459 \r\nL 3084 0 \r\nL 275 0 \r\nL 275 525 \r\nL 2438 3041 \r\nL 353 3041 \r\nL 353 3500 \r\nz\r\n\" id=\"DejaVuSans-7a\" transform=\"scale(0.015625)\"/>\r\n       </defs>\r\n       <use xlink:href=\"#DejaVuSans-68\"/>\r\n       <use x=\"63.378906\" xlink:href=\"#DejaVuSans-6f\"/>\r\n       <use x=\"124.560547\" xlink:href=\"#DejaVuSans-75\"/>\r\n       <use x=\"187.939453\" xlink:href=\"#DejaVuSans-72\"/>\r\n       <use x=\"229.052734\" xlink:href=\"#DejaVuSans-5f\"/>\r\n       <use x=\"279.052734\" xlink:href=\"#DejaVuSans-62\"/>\r\n       <use x=\"342.529297\" xlink:href=\"#DejaVuSans-65\"/>\r\n       <use x=\"404.052734\" xlink:href=\"#DejaVuSans-66\"/>\r\n       <use x=\"439.257812\" xlink:href=\"#DejaVuSans-5f\"/>\r\n       <use x=\"489.257812\" xlink:href=\"#DejaVuSans-6f\"/>\r\n       <use x=\"550.439453\" xlink:href=\"#DejaVuSans-7a\"/>\r\n       <use x=\"602.929688\" xlink:href=\"#DejaVuSans-6f\"/>\r\n       <use x=\"664.111328\" xlink:href=\"#DejaVuSans-6e\"/>\r\n       <use x=\"727.490234\" xlink:href=\"#DejaVuSans-65\"/>\r\n      </g>\r\n     </g>\r\n    </g>\r\n    <g id=\"ytick_8\">\r\n     <g id=\"line2d_31\">\r\n      <path clip-path=\"url(#p6d6dd3fb54)\" d=\"M 187.647688 84.96 \r\nL 1189.887687 84.96 \r\n\" style=\"fill:none;stroke:#cbcbcb;\"/>\r\n     </g>\r\n     <g id=\"line2d_32\"/>\r\n     <g id=\"text_16\">\r\n      <!-- hour_bef_temperature -->\r\n      <g transform=\"translate(27.658312 90.278906)scale(0.14 -0.14)\">\r\n       <use xlink:href=\"#DejaVuSans-68\"/>\r\n       <use x=\"63.378906\" xlink:href=\"#DejaVuSans-6f\"/>\r\n       <use x=\"124.560547\" xlink:href=\"#DejaVuSans-75\"/>\r\n       <use x=\"187.939453\" xlink:href=\"#DejaVuSans-72\"/>\r\n       <use x=\"229.052734\" xlink:href=\"#DejaVuSans-5f\"/>\r\n       <use x=\"279.052734\" xlink:href=\"#DejaVuSans-62\"/>\r\n       <use x=\"342.529297\" xlink:href=\"#DejaVuSans-65\"/>\r\n       <use x=\"404.052734\" xlink:href=\"#DejaVuSans-66\"/>\r\n       <use x=\"439.257812\" xlink:href=\"#DejaVuSans-5f\"/>\r\n       <use x=\"489.257812\" xlink:href=\"#DejaVuSans-74\"/>\r\n       <use x=\"528.466797\" xlink:href=\"#DejaVuSans-65\"/>\r\n       <use x=\"589.990234\" xlink:href=\"#DejaVuSans-6d\"/>\r\n       <use x=\"687.402344\" xlink:href=\"#DejaVuSans-70\"/>\r\n       <use x=\"750.878906\" xlink:href=\"#DejaVuSans-65\"/>\r\n       <use x=\"812.402344\" xlink:href=\"#DejaVuSans-72\"/>\r\n       <use x=\"853.515625\" xlink:href=\"#DejaVuSans-61\"/>\r\n       <use x=\"914.794922\" xlink:href=\"#DejaVuSans-74\"/>\r\n       <use x=\"954.003906\" xlink:href=\"#DejaVuSans-75\"/>\r\n       <use x=\"1017.382812\" xlink:href=\"#DejaVuSans-72\"/>\r\n       <use x=\"1056.246094\" xlink:href=\"#DejaVuSans-65\"/>\r\n      </g>\r\n     </g>\r\n    </g>\r\n    <g id=\"ytick_9\">\r\n     <g id=\"line2d_33\">\r\n      <path clip-path=\"url(#p6d6dd3fb54)\" d=\"M 187.647688 33.12 \r\nL 1189.887687 33.12 \r\n\" style=\"fill:none;stroke:#cbcbcb;\"/>\r\n     </g>\r\n     <g id=\"line2d_34\"/>\r\n     <g id=\"text_17\">\r\n      <!-- hour -->\r\n      <g transform=\"translate(152.081125 38.438906)scale(0.14 -0.14)\">\r\n       <use xlink:href=\"#DejaVuSans-68\"/>\r\n       <use x=\"63.378906\" xlink:href=\"#DejaVuSans-6f\"/>\r\n       <use x=\"124.560547\" xlink:href=\"#DejaVuSans-75\"/>\r\n       <use x=\"187.939453\" xlink:href=\"#DejaVuSans-72\"/>\r\n      </g>\r\n     </g>\r\n    </g>\r\n    <g id=\"text_18\">\r\n     <!-- feature -->\r\n     <g transform=\"translate(19.965375 270.802687)rotate(-90)scale(0.168 -0.168)\">\r\n      <use xlink:href=\"#DejaVuSans-66\"/>\r\n      <use x=\"35.205078\" xlink:href=\"#DejaVuSans-65\"/>\r\n      <use x=\"96.728516\" xlink:href=\"#DejaVuSans-61\"/>\r\n      <use x=\"158.007812\" xlink:href=\"#DejaVuSans-74\"/>\r\n      <use x=\"197.216797\" xlink:href=\"#DejaVuSans-75\"/>\r\n      <use x=\"260.595703\" xlink:href=\"#DejaVuSans-72\"/>\r\n      <use x=\"299.458984\" xlink:href=\"#DejaVuSans-65\"/>\r\n     </g>\r\n    </g>\r\n   </g>\r\n   <g id=\"patch_3\">\r\n    <path clip-path=\"url(#p6d6dd3fb54)\" d=\"M 187.647688 460.8 \r\nL 221.041773 460.8 \r\nL 221.041773 434.88 \r\nL 187.647688 434.88 \r\nz\r\n\" style=\"fill:#008fd5;\"/>\r\n   </g>\r\n   <g id=\"patch_4\">\r\n    <path clip-path=\"url(#p6d6dd3fb54)\" d=\"M 187.647688 408.96 \r\nL 702.473177 408.96 \r\nL 702.473177 383.04 \r\nL 187.647688 383.04 \r\nz\r\n\" style=\"fill:#008fd5;\"/>\r\n   </g>\r\n   <g id=\"patch_5\">\r\n    <path clip-path=\"url(#p6d6dd3fb54)\" d=\"M 187.647688 357.12 \r\nL 705.256017 357.12 \r\nL 705.256017 331.2 \r\nL 187.647688 331.2 \r\nz\r\n\" style=\"fill:#008fd5;\"/>\r\n   </g>\r\n   <g id=\"patch_6\">\r\n    <path clip-path=\"url(#p6d6dd3fb54)\" d=\"M 187.647688 305.28 \r\nL 719.17022 305.28 \r\nL 719.17022 279.36 \r\nL 187.647688 279.36 \r\nz\r\n\" style=\"fill:#008fd5;\"/>\r\n   </g>\r\n   <g id=\"patch_7\">\r\n    <path clip-path=\"url(#p6d6dd3fb54)\" d=\"M 187.647688 253.44 \r\nL 727.518741 253.44 \r\nL 727.518741 227.52 \r\nL 187.647688 227.52 \r\nz\r\n\" style=\"fill:#008fd5;\"/>\r\n   </g>\r\n   <g id=\"patch_8\">\r\n    <path clip-path=\"url(#p6d6dd3fb54)\" d=\"M 187.647688 201.6 \r\nL 738.650103 201.6 \r\nL 738.650103 175.68 \r\nL 187.647688 175.68 \r\nz\r\n\" style=\"fill:#008fd5;\"/>\r\n   </g>\r\n   <g id=\"patch_9\">\r\n    <path clip-path=\"url(#p6d6dd3fb54)\" d=\"M 187.647688 149.76 \r\nL 852.746563 149.76 \r\nL 852.746563 123.84 \r\nL 187.647688 123.84 \r\nz\r\n\" style=\"fill:#008fd5;\"/>\r\n   </g>\r\n   <g id=\"patch_10\">\r\n    <path clip-path=\"url(#p6d6dd3fb54)\" d=\"M 187.647688 97.92 \r\nL 891.70633 97.92 \r\nL 891.70633 72 \r\nL 187.647688 72 \r\nz\r\n\" style=\"fill:#008fd5;\"/>\r\n   </g>\r\n   <g id=\"patch_11\">\r\n    <path clip-path=\"url(#p6d6dd3fb54)\" d=\"M 187.647688 46.08 \r\nL 1142.161973 46.08 \r\nL 1142.161973 20.16 \r\nL 187.647688 20.16 \r\nz\r\n\" style=\"fill:#008fd5;\"/>\r\n   </g>\r\n   <g id=\"patch_12\">\r\n    <path d=\"M 187.647688 473.76 \r\nL 187.647688 7.2 \r\n\" style=\"fill:none;stroke:#f0f0f0;stroke-linecap:square;stroke-linejoin:miter;stroke-width:3;\"/>\r\n   </g>\r\n   <g id=\"patch_13\">\r\n    <path d=\"M 1189.887687 473.76 \r\nL 1189.887687 7.2 \r\n\" style=\"fill:none;stroke:#f0f0f0;stroke-linecap:square;stroke-linejoin:miter;stroke-width:3;\"/>\r\n   </g>\r\n   <g id=\"patch_14\">\r\n    <path d=\"M 187.647688 473.76 \r\nL 1189.887687 473.76 \r\n\" style=\"fill:none;stroke:#f0f0f0;stroke-linecap:square;stroke-linejoin:miter;stroke-width:3;\"/>\r\n   </g>\r\n   <g id=\"patch_15\">\r\n    <path d=\"M 187.647688 7.2 \r\nL 1189.887687 7.2 \r\n\" style=\"fill:none;stroke:#f0f0f0;stroke-linecap:square;stroke-linejoin:miter;stroke-width:3;\"/>\r\n   </g>\r\n   <g id=\"legend_1\">\r\n    <g id=\"patch_16\">\r\n     <path d=\"M 1055.299562 466.76 \r\nL 1180.087687 466.76 \r\nQ 1182.887687 466.76 1182.887687 463.96 \r\nL 1182.887687 444.810625 \r\nQ 1182.887687 442.010625 1180.087687 442.010625 \r\nL 1055.299562 442.010625 \r\nQ 1052.499562 442.010625 1052.499562 444.810625 \r\nL 1052.499562 463.96 \r\nQ 1052.499562 466.76 1055.299562 466.76 \r\nz\r\n\" style=\"fill:#f0f0f0;opacity:0.8;stroke:#cccccc;stroke-linejoin:miter;stroke-width:0.5;\"/>\r\n    </g>\r\n    <g id=\"patch_17\">\r\n     <path d=\"M 1058.099562 458.248437 \r\nL 1086.099562 458.248437 \r\nL 1086.099562 448.448437 \r\nL 1058.099562 448.448437 \r\nz\r\n\" style=\"fill:#008fd5;\"/>\r\n    </g>\r\n    <g id=\"text_19\">\r\n     <!-- importance -->\r\n     <g transform=\"translate(1097.299562 458.248437)scale(0.14 -0.14)\">\r\n      <use xlink:href=\"#DejaVuSans-69\"/>\r\n      <use x=\"27.783203\" xlink:href=\"#DejaVuSans-6d\"/>\r\n      <use x=\"125.195312\" xlink:href=\"#DejaVuSans-70\"/>\r\n      <use x=\"188.671875\" xlink:href=\"#DejaVuSans-6f\"/>\r\n      <use x=\"249.853516\" xlink:href=\"#DejaVuSans-72\"/>\r\n      <use x=\"290.966797\" xlink:href=\"#DejaVuSans-74\"/>\r\n      <use x=\"330.175781\" xlink:href=\"#DejaVuSans-61\"/>\r\n      <use x=\"391.455078\" xlink:href=\"#DejaVuSans-6e\"/>\r\n      <use x=\"454.833984\" xlink:href=\"#DejaVuSans-63\"/>\r\n      <use x=\"509.814453\" xlink:href=\"#DejaVuSans-65\"/>\r\n     </g>\r\n    </g>\r\n   </g>\r\n  </g>\r\n </g>\r\n <defs>\r\n  <clipPath id=\"p6d6dd3fb54\">\r\n   <rect height=\"466.56\" width=\"1002.24\" x=\"187.647688\" y=\"7.2\"/>\r\n  </clipPath>\r\n </defs>\r\n</svg>\r\n",
      "image/png": "[encoded data removed]"
     },
     "metadata": {}
    }
   ],
   "metadata": {}
  },
  {
   "cell_type": "markdown",
   "source": [
    "## 제출 파일 생성"
   ],
   "metadata": {}
  },
  {
   "cell_type": "code",
   "execution_count": 17,
   "source": [
    "sub = pd.read_csv(sample_file, index_col=0)\r\n",
    "print(sub.shape)\r\n",
    "sub.head()"
   ],
   "outputs": [
    {
     "output_type": "stream",
     "name": "stdout",
     "text": [
      "(715, 1)\n"
     ]
    },
    {
     "output_type": "execute_result",
     "data": {
      "text/plain": [
       "    count\n",
       "id       \n",
       "0     NaN\n",
       "1     NaN\n",
       "2     NaN\n",
       "4     NaN\n",
       "5     NaN"
      ],
      "text/html": [
       "<div>\n",
       "<style scoped>\n",
       "    .dataframe tbody tr th:only-of-type {\n",
       "        vertical-align: middle;\n",
       "    }\n",
       "\n",
       "    .dataframe tbody tr th {\n",
       "        vertical-align: top;\n",
       "    }\n",
       "\n",
       "    .dataframe thead th {\n",
       "        text-align: right;\n",
       "    }\n",
       "</style>\n",
       "<table border=\"1\" class=\"dataframe\">\n",
       "  <thead>\n",
       "    <tr style=\"text-align: right;\">\n",
       "      <th></th>\n",
       "      <th>count</th>\n",
       "    </tr>\n",
       "    <tr>\n",
       "      <th>id</th>\n",
       "      <th></th>\n",
       "    </tr>\n",
       "  </thead>\n",
       "  <tbody>\n",
       "    <tr>\n",
       "      <th>0</th>\n",
       "      <td>NaN</td>\n",
       "    </tr>\n",
       "    <tr>\n",
       "      <th>1</th>\n",
       "      <td>NaN</td>\n",
       "    </tr>\n",
       "    <tr>\n",
       "      <th>2</th>\n",
       "      <td>NaN</td>\n",
       "    </tr>\n",
       "    <tr>\n",
       "      <th>4</th>\n",
       "      <td>NaN</td>\n",
       "    </tr>\n",
       "    <tr>\n",
       "      <th>5</th>\n",
       "      <td>NaN</td>\n",
       "    </tr>\n",
       "  </tbody>\n",
       "</table>\n",
       "</div>"
      ]
     },
     "metadata": {},
     "execution_count": 17
    }
   ],
   "metadata": {}
  },
  {
   "cell_type": "code",
   "execution_count": 18,
   "source": [
    "sub[target_col] = p_tst.round().astype(int) # count는 int형\r\n",
    "sub.head()"
   ],
   "outputs": [
    {
     "output_type": "execute_result",
     "data": {
      "text/plain": [
       "    count\n",
       "id       \n",
       "0     112\n",
       "1     209\n",
       "2      69\n",
       "4      42\n",
       "5      39"
      ],
      "text/html": [
       "<div>\n",
       "<style scoped>\n",
       "    .dataframe tbody tr th:only-of-type {\n",
       "        vertical-align: middle;\n",
       "    }\n",
       "\n",
       "    .dataframe tbody tr th {\n",
       "        vertical-align: top;\n",
       "    }\n",
       "\n",
       "    .dataframe thead th {\n",
       "        text-align: right;\n",
       "    }\n",
       "</style>\n",
       "<table border=\"1\" class=\"dataframe\">\n",
       "  <thead>\n",
       "    <tr style=\"text-align: right;\">\n",
       "      <th></th>\n",
       "      <th>count</th>\n",
       "    </tr>\n",
       "    <tr>\n",
       "      <th>id</th>\n",
       "      <th></th>\n",
       "    </tr>\n",
       "  </thead>\n",
       "  <tbody>\n",
       "    <tr>\n",
       "      <th>0</th>\n",
       "      <td>112</td>\n",
       "    </tr>\n",
       "    <tr>\n",
       "      <th>1</th>\n",
       "      <td>209</td>\n",
       "    </tr>\n",
       "    <tr>\n",
       "      <th>2</th>\n",
       "      <td>69</td>\n",
       "    </tr>\n",
       "    <tr>\n",
       "      <th>4</th>\n",
       "      <td>42</td>\n",
       "    </tr>\n",
       "    <tr>\n",
       "      <th>5</th>\n",
       "      <td>39</td>\n",
       "    </tr>\n",
       "  </tbody>\n",
       "</table>\n",
       "</div>"
      ]
     },
     "metadata": {},
     "execution_count": 18
    }
   ],
   "metadata": {}
  },
  {
   "cell_type": "code",
   "execution_count": 19,
   "source": [
    "sub[target_col].value_counts()"
   ],
   "outputs": [
    {
     "output_type": "execute_result",
     "data": {
      "text/plain": [
       "36     12\n",
       "33      9\n",
       "32      8\n",
       "103     8\n",
       "45      8\n",
       "       ..\n",
       "143     1\n",
       "172     1\n",
       "333     1\n",
       "67      1\n",
       "151     1\n",
       "Name: count, Length: 259, dtype: int64"
      ]
     },
     "metadata": {},
     "execution_count": 19
    }
   ],
   "metadata": {}
  },
  {
   "cell_type": "code",
   "execution_count": 20,
   "source": [
    "sub.to_csv(sub_file)"
   ],
   "outputs": [],
   "metadata": {}
  }
 ],
 "metadata": {
  "orig_nbformat": 4,
  "language_info": {
   "name": "python",
   "version": "3.7.11",
   "mimetype": "text/x-python",
   "codemirror_mode": {
    "name": "ipython",
    "version": 3
   },
   "pygments_lexer": "ipython3",
   "nbconvert_exporter": "python",
   "file_extension": ".py"
  },
  "kernelspec": {
   "name": "python3",
   "display_name": "Python 3.7.11 64-bit ('seoul-bicycle': conda)"
  },
  "interpreter": {
   "hash": "e231da603b7213731b9dee798e7d675905489d3f19c1b15172bbe5beeffe4f49"
  }
 },
 "nbformat": 4,
 "nbformat_minor": 2
}