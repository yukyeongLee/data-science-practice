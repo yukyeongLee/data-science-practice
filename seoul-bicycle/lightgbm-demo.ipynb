{
 "cells": [
  {
   "cell_type": "markdown",
   "source": [
    "# Lightgbm-demo"
   ],
   "metadata": {}
  },
  {
   "cell_type": "markdown",
   "source": [
    "## 라이브러리 import 및 설정"
   ],
   "metadata": {}
  },
  {
   "cell_type": "code",
   "execution_count": 73,
   "source": [
    "%reload_ext autoreload\r\n",
    "%autoreload 2\r\n",
    "%matplotlib inline"
   ],
   "outputs": [],
   "metadata": {}
  },
  {
   "cell_type": "code",
   "execution_count": 74,
   "source": [
    "import lightgbm as lgb\r\n",
    "from matplotlib import pyplot as plt\r\n",
    "from matplotlib import rcParams\r\n",
    "import numpy as np\r\n",
    "from pathlib import Path\r\n",
    "import pandas as pd\r\n",
    "from sklearn.metrics import r2_score, mean_squared_error # accuracy_score\r\n",
    "from sklearn.model_selection import StratifiedKFold\r\n",
    "from sklearn.model_selection import train_test_split\r\n",
    "import seaborn as sns\r\n",
    "import warnings"
   ],
   "outputs": [],
   "metadata": {}
  },
  {
   "cell_type": "code",
   "execution_count": 75,
   "source": [
    "rcParams['figure.figsize'] = (12, 6)\r\n",
    "plt.style.use('fivethirtyeight')\r\n",
    "pd.set_option('max_columns', 100)\r\n",
    "pd.set_option(\"display.precision\", 4)\r\n",
    "warnings.simplefilter('ignore')"
   ],
   "outputs": [],
   "metadata": {}
  },
  {
   "cell_type": "markdown",
   "source": [
    "## 학습데이터 로드"
   ],
   "metadata": {}
  },
  {
   "cell_type": "code",
   "execution_count": 76,
   "source": [
    "data_dir = Path('C:\\DACON\\seoul-bicycle\\dataset')\r\n",
    "sub_dir = Path('C:\\DACON\\seoul-bicycle\\/build')\r\n",
    "\r\n",
    "trn_file = data_dir / 'train.csv'\r\n",
    "tst_file = data_dir / 'test.csv'\r\n",
    "sample_file = data_dir / 'submission.csv'\r\n",
    "\r\n",
    "target_col = 'count'\r\n",
    "seed = 12"
   ],
   "outputs": [],
   "metadata": {}
  },
  {
   "cell_type": "code",
   "execution_count": 77,
   "source": [
    "algo_name = 'lgbcv'\r\n",
    "feature_name = 'feature'\r\n",
    "model_name = f'{algo_name}_{feature_name}'\r\n",
    "\r\n",
    "# feature_file = feature_dir / f'{feature_name}.csv'\r\n",
    "sub_file = sub_dir / f'{model_name}.csv'\r\n",
    "print(sub_file)"
   ],
   "outputs": [
    {
     "output_type": "stream",
     "name": "stdout",
     "text": [
      "C:\\DACON\\seoul-bicycle\\build\\lgbcv_feature.csv\n"
     ]
    }
   ],
   "metadata": {}
  },
  {
   "cell_type": "code",
   "execution_count": 78,
   "source": [
    "trn = pd.read_csv(trn_file, index_col=0)\r\n",
    "tst = pd.read_csv(tst_file, index_col=0)\r\n",
    "\r\n",
    "# 앞의 값으로 결측치 채우기\r\n",
    "trn = trn.fillna(method='ffill')\r\n",
    "tst = tst.fillna(method='ffill')\r\n",
    "\r\n",
    "print(trn.shape, tst.shape)\r\n",
    "trn.head()"
   ],
   "outputs": [
    {
     "output_type": "stream",
     "name": "stdout",
     "text": [
      "(1459, 10) (715, 9)\n"
     ]
    },
    {
     "output_type": "execute_result",
     "data": {
      "text/plain": [
       "    hour  hour_bef_temperature  hour_bef_precipitation  hour_bef_windspeed  \\\n",
       "id                                                                           \n",
       "3     20                  16.3                     1.0                 1.5   \n",
       "6     13                  20.1                     0.0                 1.4   \n",
       "7      6                  13.9                     0.0                 0.7   \n",
       "8     23                   8.1                     0.0                 2.7   \n",
       "9     18                  29.5                     0.0                 4.8   \n",
       "\n",
       "    hour_bef_humidity  hour_bef_visibility  hour_bef_ozone  hour_bef_pm10  \\\n",
       "id                                                                          \n",
       "3                89.0                576.0           0.027           76.0   \n",
       "6                48.0                916.0           0.042           73.0   \n",
       "7                79.0               1382.0           0.033           32.0   \n",
       "8                54.0                946.0           0.040           75.0   \n",
       "9                 7.0               2000.0           0.057           27.0   \n",
       "\n",
       "    hour_bef_pm2.5  count  \n",
       "id                         \n",
       "3             33.0   49.0  \n",
       "6             40.0  159.0  \n",
       "7             19.0   26.0  \n",
       "8             64.0   57.0  \n",
       "9             11.0  431.0  "
      ],
      "text/html": [
       "<div>\n",
       "<style scoped>\n",
       "    .dataframe tbody tr th:only-of-type {\n",
       "        vertical-align: middle;\n",
       "    }\n",
       "\n",
       "    .dataframe tbody tr th {\n",
       "        vertical-align: top;\n",
       "    }\n",
       "\n",
       "    .dataframe thead th {\n",
       "        text-align: right;\n",
       "    }\n",
       "</style>\n",
       "<table border=\"1\" class=\"dataframe\">\n",
       "  <thead>\n",
       "    <tr style=\"text-align: right;\">\n",
       "      <th></th>\n",
       "      <th>hour</th>\n",
       "      <th>hour_bef_temperature</th>\n",
       "      <th>hour_bef_precipitation</th>\n",
       "      <th>hour_bef_windspeed</th>\n",
       "      <th>hour_bef_humidity</th>\n",
       "      <th>hour_bef_visibility</th>\n",
       "      <th>hour_bef_ozone</th>\n",
       "      <th>hour_bef_pm10</th>\n",
       "      <th>hour_bef_pm2.5</th>\n",
       "      <th>count</th>\n",
       "    </tr>\n",
       "    <tr>\n",
       "      <th>id</th>\n",
       "      <th></th>\n",
       "      <th></th>\n",
       "      <th></th>\n",
       "      <th></th>\n",
       "      <th></th>\n",
       "      <th></th>\n",
       "      <th></th>\n",
       "      <th></th>\n",
       "      <th></th>\n",
       "      <th></th>\n",
       "    </tr>\n",
       "  </thead>\n",
       "  <tbody>\n",
       "    <tr>\n",
       "      <th>3</th>\n",
       "      <td>20</td>\n",
       "      <td>16.3</td>\n",
       "      <td>1.0</td>\n",
       "      <td>1.5</td>\n",
       "      <td>89.0</td>\n",
       "      <td>576.0</td>\n",
       "      <td>0.027</td>\n",
       "      <td>76.0</td>\n",
       "      <td>33.0</td>\n",
       "      <td>49.0</td>\n",
       "    </tr>\n",
       "    <tr>\n",
       "      <th>6</th>\n",
       "      <td>13</td>\n",
       "      <td>20.1</td>\n",
       "      <td>0.0</td>\n",
       "      <td>1.4</td>\n",
       "      <td>48.0</td>\n",
       "      <td>916.0</td>\n",
       "      <td>0.042</td>\n",
       "      <td>73.0</td>\n",
       "      <td>40.0</td>\n",
       "      <td>159.0</td>\n",
       "    </tr>\n",
       "    <tr>\n",
       "      <th>7</th>\n",
       "      <td>6</td>\n",
       "      <td>13.9</td>\n",
       "      <td>0.0</td>\n",
       "      <td>0.7</td>\n",
       "      <td>79.0</td>\n",
       "      <td>1382.0</td>\n",
       "      <td>0.033</td>\n",
       "      <td>32.0</td>\n",
       "      <td>19.0</td>\n",
       "      <td>26.0</td>\n",
       "    </tr>\n",
       "    <tr>\n",
       "      <th>8</th>\n",
       "      <td>23</td>\n",
       "      <td>8.1</td>\n",
       "      <td>0.0</td>\n",
       "      <td>2.7</td>\n",
       "      <td>54.0</td>\n",
       "      <td>946.0</td>\n",
       "      <td>0.040</td>\n",
       "      <td>75.0</td>\n",
       "      <td>64.0</td>\n",
       "      <td>57.0</td>\n",
       "    </tr>\n",
       "    <tr>\n",
       "      <th>9</th>\n",
       "      <td>18</td>\n",
       "      <td>29.5</td>\n",
       "      <td>0.0</td>\n",
       "      <td>4.8</td>\n",
       "      <td>7.0</td>\n",
       "      <td>2000.0</td>\n",
       "      <td>0.057</td>\n",
       "      <td>27.0</td>\n",
       "      <td>11.0</td>\n",
       "      <td>431.0</td>\n",
       "    </tr>\n",
       "  </tbody>\n",
       "</table>\n",
       "</div>"
      ]
     },
     "metadata": {},
     "execution_count": 78
    }
   ],
   "metadata": {}
  },
  {
   "cell_type": "code",
   "execution_count": 79,
   "source": [
    "y = trn[target_col]\r\n",
    "trn.drop(target_col, axis=1, inplace=True)\r\n",
    "feature_name = trn.columns.tolist()\r\n",
    "print(y.shape, trn.shape, tst.shape)"
   ],
   "outputs": [
    {
     "output_type": "stream",
     "name": "stdout",
     "text": [
      "(1459,) (1459, 9) (715, 9)\n"
     ]
    }
   ],
   "metadata": {}
  },
  {
   "cell_type": "markdown",
   "source": [
    "## 학습/검증 데이터 구분 (skip)"
   ],
   "metadata": {}
  },
  {
   "cell_type": "code",
   "execution_count": 80,
   "source": [
    "# X_trn, X_val, y_trn, y_val = train_test_split(trn, y, test_size=.2, random_state=seed)\r\n",
    "# print(X_trn.shape, X_val.shape, y_trn.shape, y_val.shape)"
   ],
   "outputs": [],
   "metadata": {}
  },
  {
   "cell_type": "markdown",
   "source": [
    "## Stratified K-Fold Cross Validation"
   ],
   "metadata": {}
  },
  {
   "cell_type": "code",
   "execution_count": 81,
   "source": [
    "n_fold = 5\r\n",
    "cv = StratifiedKFold(n_splits=n_fold, shuffle=True, random_state=seed)"
   ],
   "outputs": [],
   "metadata": {}
  },
  {
   "cell_type": "code",
   "execution_count": 82,
   "source": [
    "cv"
   ],
   "outputs": [
    {
     "output_type": "execute_result",
     "data": {
      "text/plain": [
       "StratifiedKFold(n_splits=5, random_state=12, shuffle=True)"
      ]
     },
     "metadata": {},
     "execution_count": 82
    }
   ],
   "metadata": {}
  },
  {
   "cell_type": "markdown",
   "source": [
    "## LightGBM 모델 학습"
   ],
   "metadata": {}
  },
  {
   "cell_type": "code",
   "execution_count": 83,
   "source": [
    "trn.iloc[1, :]"
   ],
   "outputs": [
    {
     "output_type": "execute_result",
     "data": {
      "text/plain": [
       "hour                       13.000\n",
       "hour_bef_temperature       20.100\n",
       "hour_bef_precipitation      0.000\n",
       "hour_bef_windspeed          1.400\n",
       "hour_bef_humidity          48.000\n",
       "hour_bef_visibility       916.000\n",
       "hour_bef_ozone              0.042\n",
       "hour_bef_pm10              73.000\n",
       "hour_bef_pm2.5             40.000\n",
       "Name: 6, dtype: float64"
      ]
     },
     "metadata": {},
     "execution_count": 83
    }
   ],
   "metadata": {}
  },
  {
   "cell_type": "code",
   "execution_count": 84,
   "source": [
    "# clf = lgb.LGBMRegressor(n_estimators=1000,\r\n",
    "#                          num_leaves=64,\r\n",
    "#                          learning_rate=0.1,\r\n",
    "#                          min_child_samples=10,\r\n",
    "#                          subsample=.5,\r\n",
    "#                          subsample_freq=1,\r\n",
    "#                          colsample_bytree=.8,\r\n",
    "#                          random_state=seed,\r\n",
    "#                          n_jobs=-1)\r\n",
    "# clf.fit(X_trn, y_trn,\r\n",
    "#         eval_set=[(X_val, y_val)],\r\n",
    "#         eval_metric='rmse',\r\n",
    "#         early_stopping_rounds=10)\r\n",
    "# p_val = clf.predict(X_val)\r\n",
    "# p_tst = clf.predict(tst)"
   ],
   "outputs": [],
   "metadata": {}
  },
  {
   "cell_type": "code",
   "execution_count": 85,
   "source": [
    "p_val = np.zeros(trn.shape[0])\r\n",
    "p_tst = np.zeros((tst.shape[0], n_fold))\r\n",
    "\r\n",
    "for i, (i_trn, i_val) in enumerate(cv.split(trn, y), 1):\r\n",
    "    print(f'>> cv train #{i}')\r\n",
    "    clf = lgb.LGBMRegressor(n_estimators=1000,\r\n",
    "                         num_leaves=64,\r\n",
    "                         learning_rate=0.1,\r\n",
    "                         min_child_samples=10,\r\n",
    "                         subsample=.5,\r\n",
    "                         subsample_freq=1,\r\n",
    "                         colsample_bytree=.8,\r\n",
    "                         random_state=seed,\r\n",
    "                         n_jobs=-1)\r\n",
    "    clf.fit(trn.iloc[i_trn], y.iloc[i_trn],\r\n",
    "        eval_set=[(trn.iloc[i_val], y.iloc[i_val])],\r\n",
    "        eval_metric='rmse',\r\n",
    "        early_stopping_rounds=10)\r\n",
    "    \r\n",
    "    p_val[i_val] = clf.predict(trn.iloc[i_val])\r\n",
    "    p_tst[:, i-1] = clf.predict(tst)\r\n"
   ],
   "outputs": [
    {
     "output_type": "stream",
     "name": "stdout",
     "text": [
      ">> cv train #1\n",
      "[1]\tvalid_0's rmse: 79.3786\tvalid_0's l2: 6300.96\n",
      "Training until validation scores don't improve for 10 rounds\n",
      "[2]\tvalid_0's rmse: 73.9154\tvalid_0's l2: 5463.48\n",
      "[3]\tvalid_0's rmse: 69.1026\tvalid_0's l2: 4775.17\n",
      "[4]\tvalid_0's rmse: 64.7486\tvalid_0's l2: 4192.38\n",
      "[5]\tvalid_0's rmse: 61.9214\tvalid_0's l2: 3834.26\n",
      "[6]\tvalid_0's rmse: 58.365\tvalid_0's l2: 3406.48\n",
      "[7]\tvalid_0's rmse: 56.4958\tvalid_0's l2: 3191.78\n",
      "[8]\tvalid_0's rmse: 53.6953\tvalid_0's l2: 2883.19\n",
      "[9]\tvalid_0's rmse: 51.4657\tvalid_0's l2: 2648.72\n",
      "[10]\tvalid_0's rmse: 49.4414\tvalid_0's l2: 2444.46\n",
      "[11]\tvalid_0's rmse: 47.5897\tvalid_0's l2: 2264.78\n",
      "[12]\tvalid_0's rmse: 46.7775\tvalid_0's l2: 2188.14\n",
      "[13]\tvalid_0's rmse: 45.9096\tvalid_0's l2: 2107.69\n",
      "[14]\tvalid_0's rmse: 44.5908\tvalid_0's l2: 1988.34\n",
      "[15]\tvalid_0's rmse: 43.4381\tvalid_0's l2: 1886.87\n",
      "[16]\tvalid_0's rmse: 43.0992\tvalid_0's l2: 1857.54\n",
      "[17]\tvalid_0's rmse: 42.3095\tvalid_0's l2: 1790.09\n",
      "[18]\tvalid_0's rmse: 41.4845\tvalid_0's l2: 1720.96\n",
      "[19]\tvalid_0's rmse: 41.0688\tvalid_0's l2: 1686.65\n",
      "[20]\tvalid_0's rmse: 40.6083\tvalid_0's l2: 1649.03\n",
      "[21]\tvalid_0's rmse: 40.2115\tvalid_0's l2: 1616.96\n",
      "[22]\tvalid_0's rmse: 39.8896\tvalid_0's l2: 1591.18\n",
      "[23]\tvalid_0's rmse: 39.6247\tvalid_0's l2: 1570.12\n",
      "[24]\tvalid_0's rmse: 39.5552\tvalid_0's l2: 1564.61\n",
      "[25]\tvalid_0's rmse: 39.5065\tvalid_0's l2: 1560.76\n",
      "[26]\tvalid_0's rmse: 39.331\tvalid_0's l2: 1546.93\n",
      "[27]\tvalid_0's rmse: 39.2745\tvalid_0's l2: 1542.49\n",
      "[28]\tvalid_0's rmse: 39.1622\tvalid_0's l2: 1533.68\n",
      "[29]\tvalid_0's rmse: 39.3196\tvalid_0's l2: 1546.03\n",
      "[30]\tvalid_0's rmse: 39.3703\tvalid_0's l2: 1550.02\n",
      "[31]\tvalid_0's rmse: 39.2968\tvalid_0's l2: 1544.23\n",
      "[32]\tvalid_0's rmse: 39.3695\tvalid_0's l2: 1549.96\n",
      "[33]\tvalid_0's rmse: 39.3892\tvalid_0's l2: 1551.51\n",
      "[34]\tvalid_0's rmse: 39.3373\tvalid_0's l2: 1547.42\n",
      "[35]\tvalid_0's rmse: 39.262\tvalid_0's l2: 1541.51\n",
      "[36]\tvalid_0's rmse: 39.14\tvalid_0's l2: 1531.94\n",
      "[37]\tvalid_0's rmse: 39.2943\tvalid_0's l2: 1544.04\n",
      "[38]\tvalid_0's rmse: 39.2566\tvalid_0's l2: 1541.08\n",
      "[39]\tvalid_0's rmse: 39.0623\tvalid_0's l2: 1525.86\n",
      "[40]\tvalid_0's rmse: 39.1308\tvalid_0's l2: 1531.22\n",
      "[41]\tvalid_0's rmse: 39.159\tvalid_0's l2: 1533.43\n",
      "[42]\tvalid_0's rmse: 39.1931\tvalid_0's l2: 1536.1\n",
      "[43]\tvalid_0's rmse: 39.2598\tvalid_0's l2: 1541.33\n",
      "[44]\tvalid_0's rmse: 39.2091\tvalid_0's l2: 1537.35\n",
      "[45]\tvalid_0's rmse: 39.2293\tvalid_0's l2: 1538.93\n",
      "[46]\tvalid_0's rmse: 39.1073\tvalid_0's l2: 1529.38\n",
      "[47]\tvalid_0's rmse: 39.1929\tvalid_0's l2: 1536.08\n",
      "[48]\tvalid_0's rmse: 39.2583\tvalid_0's l2: 1541.22\n",
      "[49]\tvalid_0's rmse: 39.1793\tvalid_0's l2: 1535.02\n",
      "Early stopping, best iteration is:\n",
      "[39]\tvalid_0's rmse: 39.0623\tvalid_0's l2: 1525.86\n",
      ">> cv train #2\n",
      "[1]\tvalid_0's rmse: 76.3316\tvalid_0's l2: 5826.52\n",
      "Training until validation scores don't improve for 10 rounds\n",
      "[2]\tvalid_0's rmse: 71.8274\tvalid_0's l2: 5159.18\n",
      "[3]\tvalid_0's rmse: 67.7297\tvalid_0's l2: 4587.31\n",
      "[4]\tvalid_0's rmse: 63.9108\tvalid_0's l2: 4084.59\n",
      "[5]\tvalid_0's rmse: 61.6112\tvalid_0's l2: 3795.94\n",
      "[6]\tvalid_0's rmse: 58.6526\tvalid_0's l2: 3440.12\n",
      "[7]\tvalid_0's rmse: 56.4109\tvalid_0's l2: 3182.19\n",
      "[8]\tvalid_0's rmse: 54.2929\tvalid_0's l2: 2947.72\n",
      "[9]\tvalid_0's rmse: 52.3678\tvalid_0's l2: 2742.39\n",
      "[10]\tvalid_0's rmse: 50.7732\tvalid_0's l2: 2577.92\n",
      "[11]\tvalid_0's rmse: 49.4763\tvalid_0's l2: 2447.91\n",
      "[12]\tvalid_0's rmse: 48.6864\tvalid_0's l2: 2370.37\n",
      "[13]\tvalid_0's rmse: 48.1215\tvalid_0's l2: 2315.68\n",
      "[14]\tvalid_0's rmse: 47.1163\tvalid_0's l2: 2219.94\n",
      "[15]\tvalid_0's rmse: 46.2252\tvalid_0's l2: 2136.77\n",
      "[16]\tvalid_0's rmse: 45.9184\tvalid_0's l2: 2108.5\n",
      "[17]\tvalid_0's rmse: 45.4172\tvalid_0's l2: 2062.72\n",
      "[18]\tvalid_0's rmse: 45.1323\tvalid_0's l2: 2036.92\n",
      "[19]\tvalid_0's rmse: 44.8121\tvalid_0's l2: 2008.12\n",
      "[20]\tvalid_0's rmse: 44.0683\tvalid_0's l2: 1942.02\n",
      "[21]\tvalid_0's rmse: 43.5681\tvalid_0's l2: 1898.18\n",
      "[22]\tvalid_0's rmse: 43.332\tvalid_0's l2: 1877.66\n",
      "[23]\tvalid_0's rmse: 42.9813\tvalid_0's l2: 1847.39\n",
      "[24]\tvalid_0's rmse: 42.548\tvalid_0's l2: 1810.33\n",
      "[25]\tvalid_0's rmse: 42.34\tvalid_0's l2: 1792.68\n",
      "[26]\tvalid_0's rmse: 41.9475\tvalid_0's l2: 1759.59\n",
      "[27]\tvalid_0's rmse: 41.8325\tvalid_0's l2: 1749.96\n",
      "[28]\tvalid_0's rmse: 41.7739\tvalid_0's l2: 1745.06\n",
      "[29]\tvalid_0's rmse: 41.7012\tvalid_0's l2: 1738.99\n",
      "[30]\tvalid_0's rmse: 41.7176\tvalid_0's l2: 1740.36\n",
      "[31]\tvalid_0's rmse: 41.6801\tvalid_0's l2: 1737.23\n",
      "[32]\tvalid_0's rmse: 41.7014\tvalid_0's l2: 1739.01\n",
      "[33]\tvalid_0's rmse: 41.6388\tvalid_0's l2: 1733.79\n",
      "[34]\tvalid_0's rmse: 41.5122\tvalid_0's l2: 1723.26\n",
      "[35]\tvalid_0's rmse: 41.2778\tvalid_0's l2: 1703.86\n",
      "[36]\tvalid_0's rmse: 41.311\tvalid_0's l2: 1706.6\n",
      "[37]\tvalid_0's rmse: 41.2132\tvalid_0's l2: 1698.52\n",
      "[38]\tvalid_0's rmse: 41.1944\tvalid_0's l2: 1696.98\n",
      "[39]\tvalid_0's rmse: 41.32\tvalid_0's l2: 1707.35\n",
      "[40]\tvalid_0's rmse: 41.4101\tvalid_0's l2: 1714.79\n",
      "[41]\tvalid_0's rmse: 41.2993\tvalid_0's l2: 1705.63\n",
      "[42]\tvalid_0's rmse: 41.2768\tvalid_0's l2: 1703.78\n",
      "[43]\tvalid_0's rmse: 41.2823\tvalid_0's l2: 1704.23\n",
      "[44]\tvalid_0's rmse: 41.2157\tvalid_0's l2: 1698.73\n",
      "[45]\tvalid_0's rmse: 41.1305\tvalid_0's l2: 1691.72\n",
      "[46]\tvalid_0's rmse: 41.0795\tvalid_0's l2: 1687.52\n",
      "[47]\tvalid_0's rmse: 41.0845\tvalid_0's l2: 1687.94\n",
      "[48]\tvalid_0's rmse: 41.1165\tvalid_0's l2: 1690.57\n",
      "[49]\tvalid_0's rmse: 41.0425\tvalid_0's l2: 1684.48\n",
      "[50]\tvalid_0's rmse: 41.0206\tvalid_0's l2: 1682.69\n",
      "[51]\tvalid_0's rmse: 41.1295\tvalid_0's l2: 1691.63\n",
      "[52]\tvalid_0's rmse: 41.2122\tvalid_0's l2: 1698.45\n",
      "[53]\tvalid_0's rmse: 41.1628\tvalid_0's l2: 1694.37\n",
      "[54]\tvalid_0's rmse: 41.1908\tvalid_0's l2: 1696.68\n",
      "[55]\tvalid_0's rmse: 41.1991\tvalid_0's l2: 1697.37\n",
      "[56]\tvalid_0's rmse: 41.2723\tvalid_0's l2: 1703.41\n",
      "[57]\tvalid_0's rmse: 41.2288\tvalid_0's l2: 1699.81\n",
      "[58]\tvalid_0's rmse: 41.314\tvalid_0's l2: 1706.85\n",
      "[59]\tvalid_0's rmse: 41.424\tvalid_0's l2: 1715.95\n",
      "[60]\tvalid_0's rmse: 41.5646\tvalid_0's l2: 1727.61\n",
      "Early stopping, best iteration is:\n",
      "[50]\tvalid_0's rmse: 41.0206\tvalid_0's l2: 1682.69\n",
      ">> cv train #3\n",
      "[1]\tvalid_0's rmse: 75.7079\tvalid_0's l2: 5731.68\n",
      "Training until validation scores don't improve for 10 rounds\n",
      "[2]\tvalid_0's rmse: 70.1666\tvalid_0's l2: 4923.36\n",
      "[3]\tvalid_0's rmse: 65.4742\tvalid_0's l2: 4286.88\n",
      "[4]\tvalid_0's rmse: 61.2118\tvalid_0's l2: 3746.88\n",
      "[5]\tvalid_0's rmse: 58.7354\tvalid_0's l2: 3449.85\n",
      "[6]\tvalid_0's rmse: 55.768\tvalid_0's l2: 3110.07\n",
      "[7]\tvalid_0's rmse: 53.8438\tvalid_0's l2: 2899.15\n",
      "[8]\tvalid_0's rmse: 51.3458\tvalid_0's l2: 2636.39\n",
      "[9]\tvalid_0's rmse: 49.3425\tvalid_0's l2: 2434.69\n",
      "[10]\tvalid_0's rmse: 47.5111\tvalid_0's l2: 2257.31\n",
      "[11]\tvalid_0's rmse: 45.8951\tvalid_0's l2: 2106.36\n",
      "[12]\tvalid_0's rmse: 45.2558\tvalid_0's l2: 2048.09\n",
      "[13]\tvalid_0's rmse: 44.6395\tvalid_0's l2: 1992.68\n",
      "[14]\tvalid_0's rmse: 43.4088\tvalid_0's l2: 1884.32\n",
      "[15]\tvalid_0's rmse: 42.6373\tvalid_0's l2: 1817.94\n",
      "[16]\tvalid_0's rmse: 42.355\tvalid_0's l2: 1793.95\n",
      "[17]\tvalid_0's rmse: 41.3701\tvalid_0's l2: 1711.49\n",
      "[18]\tvalid_0's rmse: 40.5635\tvalid_0's l2: 1645.4\n",
      "[19]\tvalid_0's rmse: 39.9901\tvalid_0's l2: 1599.21\n",
      "[20]\tvalid_0's rmse: 39.5724\tvalid_0's l2: 1565.98\n",
      "[21]\tvalid_0's rmse: 39.1499\tvalid_0's l2: 1532.72\n",
      "[22]\tvalid_0's rmse: 38.8623\tvalid_0's l2: 1510.28\n",
      "[23]\tvalid_0's rmse: 38.5297\tvalid_0's l2: 1484.54\n",
      "[24]\tvalid_0's rmse: 38.3598\tvalid_0's l2: 1471.48\n",
      "[25]\tvalid_0's rmse: 38.1985\tvalid_0's l2: 1459.13\n",
      "[26]\tvalid_0's rmse: 37.9343\tvalid_0's l2: 1439.01\n",
      "[27]\tvalid_0's rmse: 37.9179\tvalid_0's l2: 1437.76\n",
      "[28]\tvalid_0's rmse: 37.825\tvalid_0's l2: 1430.73\n",
      "[29]\tvalid_0's rmse: 37.7324\tvalid_0's l2: 1423.74\n",
      "[30]\tvalid_0's rmse: 37.7414\tvalid_0's l2: 1424.41\n",
      "[31]\tvalid_0's rmse: 37.67\tvalid_0's l2: 1419.03\n",
      "[32]\tvalid_0's rmse: 37.5901\tvalid_0's l2: 1413.01\n",
      "[33]\tvalid_0's rmse: 37.6583\tvalid_0's l2: 1418.15\n",
      "[34]\tvalid_0's rmse: 37.6621\tvalid_0's l2: 1418.43\n",
      "[35]\tvalid_0's rmse: 37.6425\tvalid_0's l2: 1416.96\n",
      "[36]\tvalid_0's rmse: 37.5136\tvalid_0's l2: 1407.27\n",
      "[37]\tvalid_0's rmse: 37.4343\tvalid_0's l2: 1401.33\n",
      "[38]\tvalid_0's rmse: 37.5565\tvalid_0's l2: 1410.49\n",
      "[39]\tvalid_0's rmse: 37.5\tvalid_0's l2: 1406.25\n",
      "[40]\tvalid_0's rmse: 37.5467\tvalid_0's l2: 1409.75\n",
      "[41]\tvalid_0's rmse: 37.4396\tvalid_0's l2: 1401.73\n",
      "[42]\tvalid_0's rmse: 37.4302\tvalid_0's l2: 1401.02\n",
      "[43]\tvalid_0's rmse: 37.2447\tvalid_0's l2: 1387.17\n",
      "[44]\tvalid_0's rmse: 37.3509\tvalid_0's l2: 1395.09\n",
      "[45]\tvalid_0's rmse: 37.4031\tvalid_0's l2: 1398.99\n",
      "[46]\tvalid_0's rmse: 37.4356\tvalid_0's l2: 1401.42\n",
      "[47]\tvalid_0's rmse: 37.3569\tvalid_0's l2: 1395.54\n",
      "[48]\tvalid_0's rmse: 37.2761\tvalid_0's l2: 1389.51\n",
      "[49]\tvalid_0's rmse: 37.3465\tvalid_0's l2: 1394.76\n",
      "[50]\tvalid_0's rmse: 37.389\tvalid_0's l2: 1397.93\n",
      "[51]\tvalid_0's rmse: 37.3965\tvalid_0's l2: 1398.5\n",
      "[52]\tvalid_0's rmse: 37.3906\tvalid_0's l2: 1398.06\n",
      "[53]\tvalid_0's rmse: 37.4604\tvalid_0's l2: 1403.28\n",
      "Early stopping, best iteration is:\n",
      "[43]\tvalid_0's rmse: 37.2447\tvalid_0's l2: 1387.17\n",
      ">> cv train #4\n",
      "[1]\tvalid_0's rmse: 77.8317\tvalid_0's l2: 6057.78\n",
      "Training until validation scores don't improve for 10 rounds\n",
      "[2]\tvalid_0's rmse: 72.9095\tvalid_0's l2: 5315.79\n",
      "[3]\tvalid_0's rmse: 68.516\tvalid_0's l2: 4694.44\n",
      "[4]\tvalid_0's rmse: 64.8298\tvalid_0's l2: 4202.9\n",
      "[5]\tvalid_0's rmse: 62.4675\tvalid_0's l2: 3902.19\n",
      "[6]\tvalid_0's rmse: 59.4126\tvalid_0's l2: 3529.86\n",
      "[7]\tvalid_0's rmse: 57.3004\tvalid_0's l2: 3283.33\n",
      "[8]\tvalid_0's rmse: 55.1567\tvalid_0's l2: 3042.26\n",
      "[9]\tvalid_0's rmse: 53.0306\tvalid_0's l2: 2812.24\n",
      "[10]\tvalid_0's rmse: 51.4967\tvalid_0's l2: 2651.91\n",
      "[11]\tvalid_0's rmse: 49.9253\tvalid_0's l2: 2492.54\n",
      "[12]\tvalid_0's rmse: 48.8722\tvalid_0's l2: 2388.5\n",
      "[13]\tvalid_0's rmse: 48.3939\tvalid_0's l2: 2341.97\n",
      "[14]\tvalid_0's rmse: 47.4057\tvalid_0's l2: 2247.3\n",
      "[15]\tvalid_0's rmse: 46.3996\tvalid_0's l2: 2152.93\n",
      "[16]\tvalid_0's rmse: 45.9531\tvalid_0's l2: 2111.69\n",
      "[17]\tvalid_0's rmse: 45.2579\tvalid_0's l2: 2048.28\n",
      "[18]\tvalid_0's rmse: 44.392\tvalid_0's l2: 1970.65\n",
      "[19]\tvalid_0's rmse: 43.9534\tvalid_0's l2: 1931.9\n",
      "[20]\tvalid_0's rmse: 43.2827\tvalid_0's l2: 1873.4\n",
      "[21]\tvalid_0's rmse: 42.8283\tvalid_0's l2: 1834.27\n",
      "[22]\tvalid_0's rmse: 42.4297\tvalid_0's l2: 1800.28\n",
      "[23]\tvalid_0's rmse: 41.9916\tvalid_0's l2: 1763.3\n",
      "[24]\tvalid_0's rmse: 42.0125\tvalid_0's l2: 1765.05\n",
      "[25]\tvalid_0's rmse: 41.9897\tvalid_0's l2: 1763.13\n",
      "[26]\tvalid_0's rmse: 41.9719\tvalid_0's l2: 1761.64\n",
      "[27]\tvalid_0's rmse: 41.9358\tvalid_0's l2: 1758.61\n",
      "[28]\tvalid_0's rmse: 41.7332\tvalid_0's l2: 1741.66\n",
      "[29]\tvalid_0's rmse: 41.6336\tvalid_0's l2: 1733.35\n",
      "[30]\tvalid_0's rmse: 41.6017\tvalid_0's l2: 1730.71\n",
      "[31]\tvalid_0's rmse: 41.3022\tvalid_0's l2: 1705.87\n",
      "[32]\tvalid_0's rmse: 41.3695\tvalid_0's l2: 1711.44\n",
      "[33]\tvalid_0's rmse: 41.3981\tvalid_0's l2: 1713.8\n",
      "[34]\tvalid_0's rmse: 41.4105\tvalid_0's l2: 1714.83\n",
      "[35]\tvalid_0's rmse: 41.1386\tvalid_0's l2: 1692.39\n",
      "[36]\tvalid_0's rmse: 41.2807\tvalid_0's l2: 1704.1\n",
      "[37]\tvalid_0's rmse: 41.2946\tvalid_0's l2: 1705.24\n",
      "[38]\tvalid_0's rmse: 41.2676\tvalid_0's l2: 1703.02\n",
      "[39]\tvalid_0's rmse: 41.2215\tvalid_0's l2: 1699.21\n",
      "[40]\tvalid_0's rmse: 41.1652\tvalid_0's l2: 1694.58\n",
      "[41]\tvalid_0's rmse: 41.2006\tvalid_0's l2: 1697.49\n",
      "[42]\tvalid_0's rmse: 41.1738\tvalid_0's l2: 1695.28\n",
      "[43]\tvalid_0's rmse: 41.3217\tvalid_0's l2: 1707.48\n",
      "[44]\tvalid_0's rmse: 41.0952\tvalid_0's l2: 1688.81\n",
      "[45]\tvalid_0's rmse: 41.2246\tvalid_0's l2: 1699.47\n",
      "[46]\tvalid_0's rmse: 41.2444\tvalid_0's l2: 1701.1\n",
      "[47]\tvalid_0's rmse: 41.3063\tvalid_0's l2: 1706.21\n",
      "[48]\tvalid_0's rmse: 41.2488\tvalid_0's l2: 1701.46\n",
      "[49]\tvalid_0's rmse: 41.339\tvalid_0's l2: 1708.91\n",
      "[50]\tvalid_0's rmse: 41.3385\tvalid_0's l2: 1708.87\n",
      "[51]\tvalid_0's rmse: 41.3148\tvalid_0's l2: 1706.91\n",
      "[52]\tvalid_0's rmse: 41.5171\tvalid_0's l2: 1723.67\n",
      "[53]\tvalid_0's rmse: 41.4573\tvalid_0's l2: 1718.71\n",
      "[54]\tvalid_0's rmse: 41.5291\tvalid_0's l2: 1724.67\n",
      "Early stopping, best iteration is:\n",
      "[44]\tvalid_0's rmse: 41.0952\tvalid_0's l2: 1688.81\n",
      ">> cv train #5\n",
      "[1]\tvalid_0's rmse: 74.2876\tvalid_0's l2: 5518.65\n",
      "Training until validation scores don't improve for 10 rounds\n",
      "[2]\tvalid_0's rmse: 68.8521\tvalid_0's l2: 4740.61\n",
      "[3]\tvalid_0's rmse: 64.459\tvalid_0's l2: 4154.97\n",
      "[4]\tvalid_0's rmse: 60.6233\tvalid_0's l2: 3675.18\n",
      "[5]\tvalid_0's rmse: 58.3065\tvalid_0's l2: 3399.64\n",
      "[6]\tvalid_0's rmse: 55.1308\tvalid_0's l2: 3039.4\n",
      "[7]\tvalid_0's rmse: 53.1824\tvalid_0's l2: 2828.37\n",
      "[8]\tvalid_0's rmse: 50.8653\tvalid_0's l2: 2587.28\n",
      "[9]\tvalid_0's rmse: 48.5164\tvalid_0's l2: 2353.84\n",
      "[10]\tvalid_0's rmse: 46.7219\tvalid_0's l2: 2182.94\n",
      "[11]\tvalid_0's rmse: 44.995\tvalid_0's l2: 2024.55\n",
      "[12]\tvalid_0's rmse: 44.6165\tvalid_0's l2: 1990.63\n",
      "[13]\tvalid_0's rmse: 44.043\tvalid_0's l2: 1939.79\n",
      "[14]\tvalid_0's rmse: 43.2134\tvalid_0's l2: 1867.4\n",
      "[15]\tvalid_0's rmse: 42.6748\tvalid_0's l2: 1821.14\n",
      "[16]\tvalid_0's rmse: 42.4525\tvalid_0's l2: 1802.22\n",
      "[17]\tvalid_0's rmse: 41.5646\tvalid_0's l2: 1727.61\n",
      "[18]\tvalid_0's rmse: 41.1658\tvalid_0's l2: 1694.63\n",
      "[19]\tvalid_0's rmse: 40.1941\tvalid_0's l2: 1615.57\n",
      "[20]\tvalid_0's rmse: 39.8173\tvalid_0's l2: 1585.42\n",
      "[21]\tvalid_0's rmse: 39.219\tvalid_0's l2: 1538.13\n",
      "[22]\tvalid_0's rmse: 38.8054\tvalid_0's l2: 1505.86\n",
      "[23]\tvalid_0's rmse: 38.3765\tvalid_0's l2: 1472.75\n",
      "[24]\tvalid_0's rmse: 38.241\tvalid_0's l2: 1462.38\n",
      "[25]\tvalid_0's rmse: 37.9798\tvalid_0's l2: 1442.47\n",
      "[26]\tvalid_0's rmse: 37.6827\tvalid_0's l2: 1419.98\n",
      "[27]\tvalid_0's rmse: 37.6964\tvalid_0's l2: 1421.02\n",
      "[28]\tvalid_0's rmse: 37.4913\tvalid_0's l2: 1405.6\n",
      "[29]\tvalid_0's rmse: 37.347\tvalid_0's l2: 1394.8\n",
      "[30]\tvalid_0's rmse: 37.2453\tvalid_0's l2: 1387.21\n",
      "[31]\tvalid_0's rmse: 37.247\tvalid_0's l2: 1387.34\n",
      "[32]\tvalid_0's rmse: 37.0261\tvalid_0's l2: 1370.93\n",
      "[33]\tvalid_0's rmse: 37.0057\tvalid_0's l2: 1369.42\n",
      "[34]\tvalid_0's rmse: 36.913\tvalid_0's l2: 1362.57\n",
      "[35]\tvalid_0's rmse: 36.7416\tvalid_0's l2: 1349.94\n",
      "[36]\tvalid_0's rmse: 36.7048\tvalid_0's l2: 1347.24\n",
      "[37]\tvalid_0's rmse: 36.7037\tvalid_0's l2: 1347.16\n",
      "[38]\tvalid_0's rmse: 36.8245\tvalid_0's l2: 1356.04\n",
      "[39]\tvalid_0's rmse: 36.7598\tvalid_0's l2: 1351.28\n",
      "[40]\tvalid_0's rmse: 36.8684\tvalid_0's l2: 1359.28\n",
      "[41]\tvalid_0's rmse: 36.8764\tvalid_0's l2: 1359.87\n",
      "[42]\tvalid_0's rmse: 36.9826\tvalid_0's l2: 1367.72\n",
      "[43]\tvalid_0's rmse: 37.0172\tvalid_0's l2: 1370.27\n",
      "[44]\tvalid_0's rmse: 36.8791\tvalid_0's l2: 1360.06\n",
      "[45]\tvalid_0's rmse: 36.7918\tvalid_0's l2: 1353.64\n",
      "[46]\tvalid_0's rmse: 36.6724\tvalid_0's l2: 1344.87\n",
      "[47]\tvalid_0's rmse: 36.6492\tvalid_0's l2: 1343.16\n",
      "[48]\tvalid_0's rmse: 36.4483\tvalid_0's l2: 1328.48\n",
      "[49]\tvalid_0's rmse: 36.5917\tvalid_0's l2: 1338.95\n",
      "[50]\tvalid_0's rmse: 36.5431\tvalid_0's l2: 1335.4\n",
      "[51]\tvalid_0's rmse: 36.4828\tvalid_0's l2: 1331\n",
      "[52]\tvalid_0's rmse: 36.5403\tvalid_0's l2: 1335.19\n",
      "[53]\tvalid_0's rmse: 36.5948\tvalid_0's l2: 1339.18\n",
      "[54]\tvalid_0's rmse: 36.5975\tvalid_0's l2: 1339.38\n",
      "[55]\tvalid_0's rmse: 36.6959\tvalid_0's l2: 1346.59\n",
      "[56]\tvalid_0's rmse: 36.7369\tvalid_0's l2: 1349.6\n",
      "[57]\tvalid_0's rmse: 36.6991\tvalid_0's l2: 1346.82\n",
      "[58]\tvalid_0's rmse: 36.7314\tvalid_0's l2: 1349.2\n",
      "Early stopping, best iteration is:\n",
      "[48]\tvalid_0's rmse: 36.4483\tvalid_0's l2: 1328.48\n"
     ]
    }
   ],
   "metadata": {}
  },
  {
   "cell_type": "code",
   "execution_count": 86,
   "source": [
    "for i in range(10):\r\n",
    "    print(\"p:\", round(p_val[i]), \"\\ty:\", y.iloc[i])\r\n",
    "\r\n",
    "# plt.scatter(range(200), p_val[:200].astype(int), label='pred')\r\n",
    "# plt.scatter(range(200), y.iloc[:200], label='truth')\r\n",
    "# plt.scatter(range(200), y.iloc[:200]-p_val[:200].astype(int), label='diff')\r\n",
    "plt.legend(loc='upper left')\r\n",
    "\r\n",
    "plt.hist(y.iloc[:200]-p_val[:200].astype(int), bins=50)"
   ],
   "outputs": [
    {
     "output_type": "stream",
     "name": "stderr",
     "text": [
      "No handles with labels found to put in legend.\n"
     ]
    },
    {
     "output_type": "stream",
     "name": "stdout",
     "text": [
      "p: 63 \ty: 49.0\n",
      "p: 158 \ty: 159.0\n",
      "p: 25 \ty: 26.0\n",
      "p: 84 \ty: 57.0\n",
      "p: 320 \ty: 431.0\n",
      "p: 32 \ty: 39.0\n",
      "p: 22 \ty: 23.0\n",
      "p: 140 \ty: 146.0\n",
      "p: 74 \ty: 39.0\n",
      "p: 93 \ty: 83.0\n"
     ]
    },
    {
     "output_type": "execute_result",
     "data": {
      "text/plain": [
       "(array([ 1.,  0.,  0.,  0.,  0.,  1.,  0.,  0.,  0.,  0.,  1.,  0.,  1.,\n",
       "         1.,  1.,  1.,  2.,  2.,  2.,  4.,  4.,  2., 15.,  9., 11., 26.,\n",
       "        25., 26., 15.,  8.,  7.,  4.,  9.,  7.,  4.,  2.,  1.,  1.,  3.,\n",
       "         0.,  1.,  0.,  0.,  2.,  0.,  0.,  0.,  0.,  0.,  1.]),\n",
       " array([-170. , -163.6, -157.2, -150.8, -144.4, -138. , -131.6, -125.2,\n",
       "        -118.8, -112.4, -106. ,  -99.6,  -93.2,  -86.8,  -80.4,  -74. ,\n",
       "         -67.6,  -61.2,  -54.8,  -48.4,  -42. ,  -35.6,  -29.2,  -22.8,\n",
       "         -16.4,  -10. ,   -3.6,    2.8,    9.2,   15.6,   22. ,   28.4,\n",
       "          34.8,   41.2,   47.6,   54. ,   60.4,   66.8,   73.2,   79.6,\n",
       "          86. ,   92.4,   98.8,  105.2,  111.6,  118. ,  124.4,  130.8,\n",
       "         137.2,  143.6,  150. ]),\n",
       " <BarContainer object of 50 artists>)"
      ]
     },
     "metadata": {},
     "execution_count": 86
    },
    {
     "output_type": "display_data",
     "data": {
      "text/plain": [
       "<Figure size 864x432 with 1 Axes>"
      ],
      "image/svg+xml": "<?xml version=\"1.0\" encoding=\"utf-8\" standalone=\"no\"?>\r\n<!DOCTYPE svg PUBLIC \"-//W3C//DTD SVG 1.1//EN\"\r\n  \"http://www.w3.org/Graphics/SVG/1.1/DTD/svg11.dtd\">\r\n<svg height=\"381.369375pt\" version=\"1.1\" viewBox=\"0 0 787.395 381.369375\" width=\"787.395pt\" xmlns=\"http://www.w3.org/2000/svg\" xmlns:xlink=\"http://www.w3.org/1999/xlink\">\r\n <metadata>\r\n  <rdf:RDF xmlns:cc=\"http://creativecommons.org/ns#\" xmlns:dc=\"http://purl.org/dc/elements/1.1/\" xmlns:rdf=\"http://www.w3.org/1999/02/22-rdf-syntax-ns#\">\r\n   <cc:Work>\r\n    <dc:type rdf:resource=\"http://purl.org/dc/dcmitype/StillImage\"/>\r\n    <dc:date>2021-08-21T10:02:31.842387</dc:date>\r\n    <dc:format>image/svg+xml</dc:format>\r\n    <dc:creator>\r\n     <cc:Agent>\r\n      <dc:title>Matplotlib v3.4.2, https://matplotlib.org/</dc:title>\r\n     </cc:Agent>\r\n    </dc:creator>\r\n   </cc:Work>\r\n  </rdf:RDF>\r\n </metadata>\r\n <defs>\r\n  <style type=\"text/css\">*{stroke-linecap:butt;stroke-linejoin:round;}</style>\r\n </defs>\r\n <g id=\"figure_1\">\r\n  <g id=\"patch_1\">\r\n   <path d=\"M 0 381.369375 \r\nL 787.395 381.369375 \r\nL 787.395 0 \r\nL 0 0 \r\nz\r\n\" style=\"fill:#f0f0f0;\"/>\r\n  </g>\r\n  <g id=\"axes_1\">\r\n   <g id=\"patch_2\">\r\n    <path d=\"M 28.515 357.12 \r\nL 780.195 357.12 \r\nL 780.195 7.2 \r\nL 28.515 7.2 \r\nz\r\n\" style=\"fill:#f0f0f0;\"/>\r\n   </g>\r\n   <g id=\"matplotlib.axis_1\">\r\n    <g id=\"xtick_1\">\r\n     <g id=\"line2d_1\">\r\n      <path clip-path=\"url(#pfa2e923090)\" d=\"M 105.391364 357.12 \r\nL 105.391364 7.2 \r\n\" style=\"fill:none;stroke:#cbcbcb;\"/>\r\n     </g>\r\n     <g id=\"line2d_2\"/>\r\n     <g id=\"text_1\">\r\n      <!-- −150 -->\r\n      <g transform=\"translate(86.164332 371.257813)scale(0.14 -0.14)\">\r\n       <defs>\r\n        <path d=\"M 678 2272 \r\nL 4684 2272 \r\nL 4684 1741 \r\nL 678 1741 \r\nL 678 2272 \r\nz\r\n\" id=\"DejaVuSans-2212\" transform=\"scale(0.015625)\"/>\r\n        <path d=\"M 794 531 \r\nL 1825 531 \r\nL 1825 4091 \r\nL 703 3866 \r\nL 703 4441 \r\nL 1819 4666 \r\nL 2450 4666 \r\nL 2450 531 \r\nL 3481 531 \r\nL 3481 0 \r\nL 794 0 \r\nL 794 531 \r\nz\r\n\" id=\"DejaVuSans-31\" transform=\"scale(0.015625)\"/>\r\n        <path d=\"M 691 4666 \r\nL 3169 4666 \r\nL 3169 4134 \r\nL 1269 4134 \r\nL 1269 2991 \r\nQ 1406 3038 1543 3061 \r\nQ 1681 3084 1819 3084 \r\nQ 2600 3084 3056 2656 \r\nQ 3513 2228 3513 1497 \r\nQ 3513 744 3044 326 \r\nQ 2575 -91 1722 -91 \r\nQ 1428 -91 1123 -41 \r\nQ 819 9 494 109 \r\nL 494 744 \r\nQ 775 591 1075 516 \r\nQ 1375 441 1709 441 \r\nQ 2250 441 2565 725 \r\nQ 2881 1009 2881 1497 \r\nQ 2881 1984 2565 2268 \r\nQ 2250 2553 1709 2553 \r\nQ 1456 2553 1204 2497 \r\nQ 953 2441 691 2322 \r\nL 691 4666 \r\nz\r\n\" id=\"DejaVuSans-35\" transform=\"scale(0.015625)\"/>\r\n        <path d=\"M 2034 4250 \r\nQ 1547 4250 1301 3770 \r\nQ 1056 3291 1056 2328 \r\nQ 1056 1369 1301 889 \r\nQ 1547 409 2034 409 \r\nQ 2525 409 2770 889 \r\nQ 3016 1369 3016 2328 \r\nQ 3016 3291 2770 3770 \r\nQ 2525 4250 2034 4250 \r\nz\r\nM 2034 4750 \r\nQ 2819 4750 3233 4129 \r\nQ 3647 3509 3647 2328 \r\nQ 3647 1150 3233 529 \r\nQ 2819 -91 2034 -91 \r\nQ 1250 -91 836 529 \r\nQ 422 1150 422 2328 \r\nQ 422 3509 836 4129 \r\nQ 1250 4750 2034 4750 \r\nz\r\n\" id=\"DejaVuSans-30\" transform=\"scale(0.015625)\"/>\r\n       </defs>\r\n       <use xlink:href=\"#DejaVuSans-2212\"/>\r\n       <use x=\"83.789062\" xlink:href=\"#DejaVuSans-31\"/>\r\n       <use x=\"147.412109\" xlink:href=\"#DejaVuSans-35\"/>\r\n       <use x=\"211.035156\" xlink:href=\"#DejaVuSans-30\"/>\r\n      </g>\r\n     </g>\r\n    </g>\r\n    <g id=\"xtick_2\">\r\n     <g id=\"line2d_3\">\r\n      <path clip-path=\"url(#pfa2e923090)\" d=\"M 212.164091 357.12 \r\nL 212.164091 7.2 \r\n\" style=\"fill:none;stroke:#cbcbcb;\"/>\r\n     </g>\r\n     <g id=\"line2d_4\"/>\r\n     <g id=\"text_2\">\r\n      <!-- −100 -->\r\n      <g transform=\"translate(192.93706 371.257813)scale(0.14 -0.14)\">\r\n       <use xlink:href=\"#DejaVuSans-2212\"/>\r\n       <use x=\"83.789062\" xlink:href=\"#DejaVuSans-31\"/>\r\n       <use x=\"147.412109\" xlink:href=\"#DejaVuSans-30\"/>\r\n       <use x=\"211.035156\" xlink:href=\"#DejaVuSans-30\"/>\r\n      </g>\r\n     </g>\r\n    </g>\r\n    <g id=\"xtick_3\">\r\n     <g id=\"line2d_5\">\r\n      <path clip-path=\"url(#pfa2e923090)\" d=\"M 318.936818 357.12 \r\nL 318.936818 7.2 \r\n\" style=\"fill:none;stroke:#cbcbcb;\"/>\r\n     </g>\r\n     <g id=\"line2d_6\"/>\r\n     <g id=\"text_3\">\r\n      <!-- −50 -->\r\n      <g transform=\"translate(304.163537 371.257813)scale(0.14 -0.14)\">\r\n       <use xlink:href=\"#DejaVuSans-2212\"/>\r\n       <use x=\"83.789062\" xlink:href=\"#DejaVuSans-35\"/>\r\n       <use x=\"147.412109\" xlink:href=\"#DejaVuSans-30\"/>\r\n      </g>\r\n     </g>\r\n    </g>\r\n    <g id=\"xtick_4\">\r\n     <g id=\"line2d_7\">\r\n      <path clip-path=\"url(#pfa2e923090)\" d=\"M 425.709545 357.12 \r\nL 425.709545 7.2 \r\n\" style=\"fill:none;stroke:#cbcbcb;\"/>\r\n     </g>\r\n     <g id=\"line2d_8\"/>\r\n     <g id=\"text_4\">\r\n      <!-- 0 -->\r\n      <g transform=\"translate(421.255795 371.257813)scale(0.14 -0.14)\">\r\n       <use xlink:href=\"#DejaVuSans-30\"/>\r\n      </g>\r\n     </g>\r\n    </g>\r\n    <g id=\"xtick_5\">\r\n     <g id=\"line2d_9\">\r\n      <path clip-path=\"url(#pfa2e923090)\" d=\"M 532.482273 357.12 \r\nL 532.482273 7.2 \r\n\" style=\"fill:none;stroke:#cbcbcb;\"/>\r\n     </g>\r\n     <g id=\"line2d_10\"/>\r\n     <g id=\"text_5\">\r\n      <!-- 50 -->\r\n      <g transform=\"translate(523.574773 371.257813)scale(0.14 -0.14)\">\r\n       <use xlink:href=\"#DejaVuSans-35\"/>\r\n       <use x=\"63.623047\" xlink:href=\"#DejaVuSans-30\"/>\r\n      </g>\r\n     </g>\r\n    </g>\r\n    <g id=\"xtick_6\">\r\n     <g id=\"line2d_11\">\r\n      <path clip-path=\"url(#pfa2e923090)\" d=\"M 639.255 357.12 \r\nL 639.255 7.2 \r\n\" style=\"fill:none;stroke:#cbcbcb;\"/>\r\n     </g>\r\n     <g id=\"line2d_12\"/>\r\n     <g id=\"text_6\">\r\n      <!-- 100 -->\r\n      <g transform=\"translate(625.89375 371.257813)scale(0.14 -0.14)\">\r\n       <use xlink:href=\"#DejaVuSans-31\"/>\r\n       <use x=\"63.623047\" xlink:href=\"#DejaVuSans-30\"/>\r\n       <use x=\"127.246094\" xlink:href=\"#DejaVuSans-30\"/>\r\n      </g>\r\n     </g>\r\n    </g>\r\n    <g id=\"xtick_7\">\r\n     <g id=\"line2d_13\">\r\n      <path clip-path=\"url(#pfa2e923090)\" d=\"M 746.027727 357.12 \r\nL 746.027727 7.2 \r\n\" style=\"fill:none;stroke:#cbcbcb;\"/>\r\n     </g>\r\n     <g id=\"line2d_14\"/>\r\n     <g id=\"text_7\">\r\n      <!-- 150 -->\r\n      <g transform=\"translate(732.666477 371.257813)scale(0.14 -0.14)\">\r\n       <use xlink:href=\"#DejaVuSans-31\"/>\r\n       <use x=\"63.623047\" xlink:href=\"#DejaVuSans-35\"/>\r\n       <use x=\"127.246094\" xlink:href=\"#DejaVuSans-30\"/>\r\n      </g>\r\n     </g>\r\n    </g>\r\n   </g>\r\n   <g id=\"matplotlib.axis_2\">\r\n    <g id=\"ytick_1\">\r\n     <g id=\"line2d_15\">\r\n      <path clip-path=\"url(#pfa2e923090)\" d=\"M 28.515 357.12 \r\nL 780.195 357.12 \r\n\" style=\"fill:none;stroke:#cbcbcb;\"/>\r\n     </g>\r\n     <g id=\"line2d_16\"/>\r\n     <g id=\"text_8\">\r\n      <!-- 0 -->\r\n      <g transform=\"translate(16.1075 362.438906)scale(0.14 -0.14)\">\r\n       <use xlink:href=\"#DejaVuSans-30\"/>\r\n      </g>\r\n     </g>\r\n    </g>\r\n    <g id=\"ytick_2\">\r\n     <g id=\"line2d_17\">\r\n      <path clip-path=\"url(#pfa2e923090)\" d=\"M 28.515 293.032088 \r\nL 780.195 293.032088 \r\n\" style=\"fill:none;stroke:#cbcbcb;\"/>\r\n     </g>\r\n     <g id=\"line2d_18\"/>\r\n     <g id=\"text_9\">\r\n      <!-- 5 -->\r\n      <g transform=\"translate(16.1075 298.350994)scale(0.14 -0.14)\">\r\n       <use xlink:href=\"#DejaVuSans-35\"/>\r\n      </g>\r\n     </g>\r\n    </g>\r\n    <g id=\"ytick_3\">\r\n     <g id=\"line2d_19\">\r\n      <path clip-path=\"url(#pfa2e923090)\" d=\"M 28.515 228.944176 \r\nL 780.195 228.944176 \r\n\" style=\"fill:none;stroke:#cbcbcb;\"/>\r\n     </g>\r\n     <g id=\"line2d_20\"/>\r\n     <g id=\"text_10\">\r\n      <!-- 10 -->\r\n      <g transform=\"translate(7.2 234.263082)scale(0.14 -0.14)\">\r\n       <use xlink:href=\"#DejaVuSans-31\"/>\r\n       <use x=\"63.623047\" xlink:href=\"#DejaVuSans-30\"/>\r\n      </g>\r\n     </g>\r\n    </g>\r\n    <g id=\"ytick_4\">\r\n     <g id=\"line2d_21\">\r\n      <path clip-path=\"url(#pfa2e923090)\" d=\"M 28.515 164.856264 \r\nL 780.195 164.856264 \r\n\" style=\"fill:none;stroke:#cbcbcb;\"/>\r\n     </g>\r\n     <g id=\"line2d_22\"/>\r\n     <g id=\"text_11\">\r\n      <!-- 15 -->\r\n      <g transform=\"translate(7.2 170.17517)scale(0.14 -0.14)\">\r\n       <use xlink:href=\"#DejaVuSans-31\"/>\r\n       <use x=\"63.623047\" xlink:href=\"#DejaVuSans-35\"/>\r\n      </g>\r\n     </g>\r\n    </g>\r\n    <g id=\"ytick_5\">\r\n     <g id=\"line2d_23\">\r\n      <path clip-path=\"url(#pfa2e923090)\" d=\"M 28.515 100.768352 \r\nL 780.195 100.768352 \r\n\" style=\"fill:none;stroke:#cbcbcb;\"/>\r\n     </g>\r\n     <g id=\"line2d_24\"/>\r\n     <g id=\"text_12\">\r\n      <!-- 20 -->\r\n      <g transform=\"translate(7.2 106.087258)scale(0.14 -0.14)\">\r\n       <defs>\r\n        <path d=\"M 1228 531 \r\nL 3431 531 \r\nL 3431 0 \r\nL 469 0 \r\nL 469 531 \r\nQ 828 903 1448 1529 \r\nQ 2069 2156 2228 2338 \r\nQ 2531 2678 2651 2914 \r\nQ 2772 3150 2772 3378 \r\nQ 2772 3750 2511 3984 \r\nQ 2250 4219 1831 4219 \r\nQ 1534 4219 1204 4116 \r\nQ 875 4013 500 3803 \r\nL 500 4441 \r\nQ 881 4594 1212 4672 \r\nQ 1544 4750 1819 4750 \r\nQ 2544 4750 2975 4387 \r\nQ 3406 4025 3406 3419 \r\nQ 3406 3131 3298 2873 \r\nQ 3191 2616 2906 2266 \r\nQ 2828 2175 2409 1742 \r\nQ 1991 1309 1228 531 \r\nz\r\n\" id=\"DejaVuSans-32\" transform=\"scale(0.015625)\"/>\r\n       </defs>\r\n       <use xlink:href=\"#DejaVuSans-32\"/>\r\n       <use x=\"63.623047\" xlink:href=\"#DejaVuSans-30\"/>\r\n      </g>\r\n     </g>\r\n    </g>\r\n    <g id=\"ytick_6\">\r\n     <g id=\"line2d_25\">\r\n      <path clip-path=\"url(#pfa2e923090)\" d=\"M 28.515 36.68044 \r\nL 780.195 36.68044 \r\n\" style=\"fill:none;stroke:#cbcbcb;\"/>\r\n     </g>\r\n     <g id=\"line2d_26\"/>\r\n     <g id=\"text_13\">\r\n      <!-- 25 -->\r\n      <g transform=\"translate(7.2 41.999346)scale(0.14 -0.14)\">\r\n       <use xlink:href=\"#DejaVuSans-32\"/>\r\n       <use x=\"63.623047\" xlink:href=\"#DejaVuSans-35\"/>\r\n      </g>\r\n     </g>\r\n    </g>\r\n   </g>\r\n   <g id=\"patch_3\">\r\n    <path clip-path=\"url(#pfa2e923090)\" d=\"M 62.682273 357.12 \r\nL 76.349182 357.12 \r\nL 76.349182 344.302418 \r\nL 62.682273 344.302418 \r\nz\r\n\" style=\"fill:#008fd5;\"/>\r\n   </g>\r\n   <g id=\"patch_4\">\r\n    <path clip-path=\"url(#pfa2e923090)\" d=\"M 76.349182 357.12 \r\nL 90.016091 357.12 \r\nL 90.016091 357.12 \r\nL 76.349182 357.12 \r\nz\r\n\" style=\"fill:#008fd5;\"/>\r\n   </g>\r\n   <g id=\"patch_5\">\r\n    <path clip-path=\"url(#pfa2e923090)\" d=\"M 90.016091 357.12 \r\nL 103.683 357.12 \r\nL 103.683 357.12 \r\nL 90.016091 357.12 \r\nz\r\n\" style=\"fill:#008fd5;\"/>\r\n   </g>\r\n   <g id=\"patch_6\">\r\n    <path clip-path=\"url(#pfa2e923090)\" d=\"M 103.683 357.12 \r\nL 117.349909 357.12 \r\nL 117.349909 357.12 \r\nL 103.683 357.12 \r\nz\r\n\" style=\"fill:#008fd5;\"/>\r\n   </g>\r\n   <g id=\"patch_7\">\r\n    <path clip-path=\"url(#pfa2e923090)\" d=\"M 117.349909 357.12 \r\nL 131.016818 357.12 \r\nL 131.016818 357.12 \r\nL 117.349909 357.12 \r\nz\r\n\" style=\"fill:#008fd5;\"/>\r\n   </g>\r\n   <g id=\"patch_8\">\r\n    <path clip-path=\"url(#pfa2e923090)\" d=\"M 131.016818 357.12 \r\nL 144.683727 357.12 \r\nL 144.683727 344.302418 \r\nL 131.016818 344.302418 \r\nz\r\n\" style=\"fill:#008fd5;\"/>\r\n   </g>\r\n   <g id=\"patch_9\">\r\n    <path clip-path=\"url(#pfa2e923090)\" d=\"M 144.683727 357.12 \r\nL 158.350636 357.12 \r\nL 158.350636 357.12 \r\nL 144.683727 357.12 \r\nz\r\n\" style=\"fill:#008fd5;\"/>\r\n   </g>\r\n   <g id=\"patch_10\">\r\n    <path clip-path=\"url(#pfa2e923090)\" d=\"M 158.350636 357.12 \r\nL 172.017545 357.12 \r\nL 172.017545 357.12 \r\nL 158.350636 357.12 \r\nz\r\n\" style=\"fill:#008fd5;\"/>\r\n   </g>\r\n   <g id=\"patch_11\">\r\n    <path clip-path=\"url(#pfa2e923090)\" d=\"M 172.017545 357.12 \r\nL 185.684455 357.12 \r\nL 185.684455 357.12 \r\nL 172.017545 357.12 \r\nz\r\n\" style=\"fill:#008fd5;\"/>\r\n   </g>\r\n   <g id=\"patch_12\">\r\n    <path clip-path=\"url(#pfa2e923090)\" d=\"M 185.684455 357.12 \r\nL 199.351364 357.12 \r\nL 199.351364 357.12 \r\nL 185.684455 357.12 \r\nz\r\n\" style=\"fill:#008fd5;\"/>\r\n   </g>\r\n   <g id=\"patch_13\">\r\n    <path clip-path=\"url(#pfa2e923090)\" d=\"M 199.351364 357.12 \r\nL 213.018273 357.12 \r\nL 213.018273 344.302418 \r\nL 199.351364 344.302418 \r\nz\r\n\" style=\"fill:#008fd5;\"/>\r\n   </g>\r\n   <g id=\"patch_14\">\r\n    <path clip-path=\"url(#pfa2e923090)\" d=\"M 213.018273 357.12 \r\nL 226.685182 357.12 \r\nL 226.685182 357.12 \r\nL 213.018273 357.12 \r\nz\r\n\" style=\"fill:#008fd5;\"/>\r\n   </g>\r\n   <g id=\"patch_15\">\r\n    <path clip-path=\"url(#pfa2e923090)\" d=\"M 226.685182 357.12 \r\nL 240.352091 357.12 \r\nL 240.352091 344.302418 \r\nL 226.685182 344.302418 \r\nz\r\n\" style=\"fill:#008fd5;\"/>\r\n   </g>\r\n   <g id=\"patch_16\">\r\n    <path clip-path=\"url(#pfa2e923090)\" d=\"M 240.352091 357.12 \r\nL 254.019 357.12 \r\nL 254.019 344.302418 \r\nL 240.352091 344.302418 \r\nz\r\n\" style=\"fill:#008fd5;\"/>\r\n   </g>\r\n   <g id=\"patch_17\">\r\n    <path clip-path=\"url(#pfa2e923090)\" d=\"M 254.019 357.12 \r\nL 267.685909 357.12 \r\nL 267.685909 344.302418 \r\nL 254.019 344.302418 \r\nz\r\n\" style=\"fill:#008fd5;\"/>\r\n   </g>\r\n   <g id=\"patch_18\">\r\n    <path clip-path=\"url(#pfa2e923090)\" d=\"M 267.685909 357.12 \r\nL 281.352818 357.12 \r\nL 281.352818 344.302418 \r\nL 267.685909 344.302418 \r\nz\r\n\" style=\"fill:#008fd5;\"/>\r\n   </g>\r\n   <g id=\"patch_19\">\r\n    <path clip-path=\"url(#pfa2e923090)\" d=\"M 281.352818 357.12 \r\nL 295.019727 357.12 \r\nL 295.019727 331.484835 \r\nL 281.352818 331.484835 \r\nz\r\n\" style=\"fill:#008fd5;\"/>\r\n   </g>\r\n   <g id=\"patch_20\">\r\n    <path clip-path=\"url(#pfa2e923090)\" d=\"M 295.019727 357.12 \r\nL 308.686636 357.12 \r\nL 308.686636 331.484835 \r\nL 295.019727 331.484835 \r\nz\r\n\" style=\"fill:#008fd5;\"/>\r\n   </g>\r\n   <g id=\"patch_21\">\r\n    <path clip-path=\"url(#pfa2e923090)\" d=\"M 308.686636 357.12 \r\nL 322.353545 357.12 \r\nL 322.353545 331.484835 \r\nL 308.686636 331.484835 \r\nz\r\n\" style=\"fill:#008fd5;\"/>\r\n   </g>\r\n   <g id=\"patch_22\">\r\n    <path clip-path=\"url(#pfa2e923090)\" d=\"M 322.353545 357.12 \r\nL 336.020455 357.12 \r\nL 336.020455 305.84967 \r\nL 322.353545 305.84967 \r\nz\r\n\" style=\"fill:#008fd5;\"/>\r\n   </g>\r\n   <g id=\"patch_23\">\r\n    <path clip-path=\"url(#pfa2e923090)\" d=\"M 336.020455 357.12 \r\nL 349.687364 357.12 \r\nL 349.687364 305.84967 \r\nL 336.020455 305.84967 \r\nz\r\n\" style=\"fill:#008fd5;\"/>\r\n   </g>\r\n   <g id=\"patch_24\">\r\n    <path clip-path=\"url(#pfa2e923090)\" d=\"M 349.687364 357.12 \r\nL 363.354273 357.12 \r\nL 363.354273 331.484835 \r\nL 349.687364 331.484835 \r\nz\r\n\" style=\"fill:#008fd5;\"/>\r\n   </g>\r\n   <g id=\"patch_25\">\r\n    <path clip-path=\"url(#pfa2e923090)\" d=\"M 363.354273 357.12 \r\nL 377.021182 357.12 \r\nL 377.021182 164.856264 \r\nL 363.354273 164.856264 \r\nz\r\n\" style=\"fill:#008fd5;\"/>\r\n   </g>\r\n   <g id=\"patch_26\">\r\n    <path clip-path=\"url(#pfa2e923090)\" d=\"M 377.021182 357.12 \r\nL 390.688091 357.12 \r\nL 390.688091 241.761758 \r\nL 377.021182 241.761758 \r\nz\r\n\" style=\"fill:#008fd5;\"/>\r\n   </g>\r\n   <g id=\"patch_27\">\r\n    <path clip-path=\"url(#pfa2e923090)\" d=\"M 390.688091 357.12 \r\nL 404.355 357.12 \r\nL 404.355 216.126593 \r\nL 390.688091 216.126593 \r\nz\r\n\" style=\"fill:#008fd5;\"/>\r\n   </g>\r\n   <g id=\"patch_28\">\r\n    <path clip-path=\"url(#pfa2e923090)\" d=\"M 404.355 357.12 \r\nL 418.021909 357.12 \r\nL 418.021909 23.862857 \r\nL 404.355 23.862857 \r\nz\r\n\" style=\"fill:#008fd5;\"/>\r\n   </g>\r\n   <g id=\"patch_29\">\r\n    <path clip-path=\"url(#pfa2e923090)\" d=\"M 418.021909 357.12 \r\nL 431.688818 357.12 \r\nL 431.688818 36.68044 \r\nL 418.021909 36.68044 \r\nz\r\n\" style=\"fill:#008fd5;\"/>\r\n   </g>\r\n   <g id=\"patch_30\">\r\n    <path clip-path=\"url(#pfa2e923090)\" d=\"M 431.688818 357.12 \r\nL 445.355727 357.12 \r\nL 445.355727 23.862857 \r\nL 431.688818 23.862857 \r\nz\r\n\" style=\"fill:#008fd5;\"/>\r\n   </g>\r\n   <g id=\"patch_31\">\r\n    <path clip-path=\"url(#pfa2e923090)\" d=\"M 445.355727 357.12 \r\nL 459.022636 357.12 \r\nL 459.022636 164.856264 \r\nL 445.355727 164.856264 \r\nz\r\n\" style=\"fill:#008fd5;\"/>\r\n   </g>\r\n   <g id=\"patch_32\">\r\n    <path clip-path=\"url(#pfa2e923090)\" d=\"M 459.022636 357.12 \r\nL 472.689545 357.12 \r\nL 472.689545 254.579341 \r\nL 459.022636 254.579341 \r\nz\r\n\" style=\"fill:#008fd5;\"/>\r\n   </g>\r\n   <g id=\"patch_33\">\r\n    <path clip-path=\"url(#pfa2e923090)\" d=\"M 472.689545 357.12 \r\nL 486.356455 357.12 \r\nL 486.356455 267.396923 \r\nL 472.689545 267.396923 \r\nz\r\n\" style=\"fill:#008fd5;\"/>\r\n   </g>\r\n   <g id=\"patch_34\">\r\n    <path clip-path=\"url(#pfa2e923090)\" d=\"M 486.356455 357.12 \r\nL 500.023364 357.12 \r\nL 500.023364 305.84967 \r\nL 486.356455 305.84967 \r\nz\r\n\" style=\"fill:#008fd5;\"/>\r\n   </g>\r\n   <g id=\"patch_35\">\r\n    <path clip-path=\"url(#pfa2e923090)\" d=\"M 500.023364 357.12 \r\nL 513.690273 357.12 \r\nL 513.690273 241.761758 \r\nL 500.023364 241.761758 \r\nz\r\n\" style=\"fill:#008fd5;\"/>\r\n   </g>\r\n   <g id=\"patch_36\">\r\n    <path clip-path=\"url(#pfa2e923090)\" d=\"M 513.690273 357.12 \r\nL 527.357182 357.12 \r\nL 527.357182 267.396923 \r\nL 513.690273 267.396923 \r\nz\r\n\" style=\"fill:#008fd5;\"/>\r\n   </g>\r\n   <g id=\"patch_37\">\r\n    <path clip-path=\"url(#pfa2e923090)\" d=\"M 527.357182 357.12 \r\nL 541.024091 357.12 \r\nL 541.024091 305.84967 \r\nL 527.357182 305.84967 \r\nz\r\n\" style=\"fill:#008fd5;\"/>\r\n   </g>\r\n   <g id=\"patch_38\">\r\n    <path clip-path=\"url(#pfa2e923090)\" d=\"M 541.024091 357.12 \r\nL 554.691 357.12 \r\nL 554.691 331.484835 \r\nL 541.024091 331.484835 \r\nz\r\n\" style=\"fill:#008fd5;\"/>\r\n   </g>\r\n   <g id=\"patch_39\">\r\n    <path clip-path=\"url(#pfa2e923090)\" d=\"M 554.691 357.12 \r\nL 568.357909 357.12 \r\nL 568.357909 344.302418 \r\nL 554.691 344.302418 \r\nz\r\n\" style=\"fill:#008fd5;\"/>\r\n   </g>\r\n   <g id=\"patch_40\">\r\n    <path clip-path=\"url(#pfa2e923090)\" d=\"M 568.357909 357.12 \r\nL 582.024818 357.12 \r\nL 582.024818 344.302418 \r\nL 568.357909 344.302418 \r\nz\r\n\" style=\"fill:#008fd5;\"/>\r\n   </g>\r\n   <g id=\"patch_41\">\r\n    <path clip-path=\"url(#pfa2e923090)\" d=\"M 582.024818 357.12 \r\nL 595.691727 357.12 \r\nL 595.691727 318.667253 \r\nL 582.024818 318.667253 \r\nz\r\n\" style=\"fill:#008fd5;\"/>\r\n   </g>\r\n   <g id=\"patch_42\">\r\n    <path clip-path=\"url(#pfa2e923090)\" d=\"M 595.691727 357.12 \r\nL 609.358636 357.12 \r\nL 609.358636 357.12 \r\nL 595.691727 357.12 \r\nz\r\n\" style=\"fill:#008fd5;\"/>\r\n   </g>\r\n   <g id=\"patch_43\">\r\n    <path clip-path=\"url(#pfa2e923090)\" d=\"M 609.358636 357.12 \r\nL 623.025545 357.12 \r\nL 623.025545 344.302418 \r\nL 609.358636 344.302418 \r\nz\r\n\" style=\"fill:#008fd5;\"/>\r\n   </g>\r\n   <g id=\"patch_44\">\r\n    <path clip-path=\"url(#pfa2e923090)\" d=\"M 623.025545 357.12 \r\nL 636.692455 357.12 \r\nL 636.692455 357.12 \r\nL 623.025545 357.12 \r\nz\r\n\" style=\"fill:#008fd5;\"/>\r\n   </g>\r\n   <g id=\"patch_45\">\r\n    <path clip-path=\"url(#pfa2e923090)\" d=\"M 636.692455 357.12 \r\nL 650.359364 357.12 \r\nL 650.359364 357.12 \r\nL 636.692455 357.12 \r\nz\r\n\" style=\"fill:#008fd5;\"/>\r\n   </g>\r\n   <g id=\"patch_46\">\r\n    <path clip-path=\"url(#pfa2e923090)\" d=\"M 650.359364 357.12 \r\nL 664.026273 357.12 \r\nL 664.026273 331.484835 \r\nL 650.359364 331.484835 \r\nz\r\n\" style=\"fill:#008fd5;\"/>\r\n   </g>\r\n   <g id=\"patch_47\">\r\n    <path clip-path=\"url(#pfa2e923090)\" d=\"M 664.026273 357.12 \r\nL 677.693182 357.12 \r\nL 677.693182 357.12 \r\nL 664.026273 357.12 \r\nz\r\n\" style=\"fill:#008fd5;\"/>\r\n   </g>\r\n   <g id=\"patch_48\">\r\n    <path clip-path=\"url(#pfa2e923090)\" d=\"M 677.693182 357.12 \r\nL 691.360091 357.12 \r\nL 691.360091 357.12 \r\nL 677.693182 357.12 \r\nz\r\n\" style=\"fill:#008fd5;\"/>\r\n   </g>\r\n   <g id=\"patch_49\">\r\n    <path clip-path=\"url(#pfa2e923090)\" d=\"M 691.360091 357.12 \r\nL 705.027 357.12 \r\nL 705.027 357.12 \r\nL 691.360091 357.12 \r\nz\r\n\" style=\"fill:#008fd5;\"/>\r\n   </g>\r\n   <g id=\"patch_50\">\r\n    <path clip-path=\"url(#pfa2e923090)\" d=\"M 705.027 357.12 \r\nL 718.693909 357.12 \r\nL 718.693909 357.12 \r\nL 705.027 357.12 \r\nz\r\n\" style=\"fill:#008fd5;\"/>\r\n   </g>\r\n   <g id=\"patch_51\">\r\n    <path clip-path=\"url(#pfa2e923090)\" d=\"M 718.693909 357.12 \r\nL 732.360818 357.12 \r\nL 732.360818 357.12 \r\nL 718.693909 357.12 \r\nz\r\n\" style=\"fill:#008fd5;\"/>\r\n   </g>\r\n   <g id=\"patch_52\">\r\n    <path clip-path=\"url(#pfa2e923090)\" d=\"M 732.360818 357.12 \r\nL 746.027727 357.12 \r\nL 746.027727 344.302418 \r\nL 732.360818 344.302418 \r\nz\r\n\" style=\"fill:#008fd5;\"/>\r\n   </g>\r\n   <g id=\"patch_53\">\r\n    <path d=\"M 28.515 357.12 \r\nL 28.515 7.2 \r\n\" style=\"fill:none;stroke:#f0f0f0;stroke-linecap:square;stroke-linejoin:miter;stroke-width:3;\"/>\r\n   </g>\r\n   <g id=\"patch_54\">\r\n    <path d=\"M 780.195 357.12 \r\nL 780.195 7.2 \r\n\" style=\"fill:none;stroke:#f0f0f0;stroke-linecap:square;stroke-linejoin:miter;stroke-width:3;\"/>\r\n   </g>\r\n   <g id=\"patch_55\">\r\n    <path d=\"M 28.515 357.12 \r\nL 780.195 357.12 \r\n\" style=\"fill:none;stroke:#f0f0f0;stroke-linecap:square;stroke-linejoin:miter;stroke-width:3;\"/>\r\n   </g>\r\n   <g id=\"patch_56\">\r\n    <path d=\"M 28.515 7.2 \r\nL 780.195 7.2 \r\n\" style=\"fill:none;stroke:#f0f0f0;stroke-linecap:square;stroke-linejoin:miter;stroke-width:3;\"/>\r\n   </g>\r\n   <g id=\"legend_1\">\r\n    <g id=\"patch_57\">\r\n     <path d=\"M 38.315 25.4 \r\nL 43.915 25.4 \r\nQ 46.715 25.4 46.715 22.6 \r\nL 46.715 17 \r\nQ 46.715 14.2 43.915 14.2 \r\nL 38.315 14.2 \r\nQ 35.515 14.2 35.515 17 \r\nL 35.515 22.6 \r\nQ 35.515 25.4 38.315 25.4 \r\nz\r\n\" style=\"fill:#f0f0f0;opacity:0.8;stroke:#cccccc;stroke-linejoin:miter;stroke-width:0.5;\"/>\r\n    </g>\r\n   </g>\r\n  </g>\r\n </g>\r\n <defs>\r\n  <clipPath id=\"pfa2e923090\">\r\n   <rect height=\"349.92\" width=\"751.68\" x=\"28.515\" y=\"7.2\"/>\r\n  </clipPath>\r\n </defs>\r\n</svg>\r\n",
      "image/png": "[encoded data removed]"
     },
     "metadata": {}
    }
   ],
   "metadata": {}
  },
  {
   "cell_type": "code",
   "execution_count": 87,
   "source": [
    "print('mse:', f'{mean_squared_error(y, p_val):.4f}')"
   ],
   "outputs": [
    {
     "output_type": "stream",
     "name": "stdout",
     "text": [
      "mse: 1522.7359\n"
     ]
    }
   ],
   "metadata": {}
  },
  {
   "cell_type": "code",
   "execution_count": 88,
   "source": [
    "p_tst = np.median(p_tst, axis=1).astype(int)"
   ],
   "outputs": [],
   "metadata": {}
  },
  {
   "cell_type": "markdown",
   "source": [
    "## 피처 중요도 시각화"
   ],
   "metadata": {}
  },
  {
   "cell_type": "code",
   "execution_count": 89,
   "source": [
    "imp = pd.DataFrame({'feature': trn.columns, 'importance': clf.feature_importances_})\r\n",
    "imp = imp.sort_values('importance').set_index('feature')\r\n",
    "imp.plot(kind='barh')"
   ],
   "outputs": [
    {
     "output_type": "execute_result",
     "data": {
      "text/plain": [
       "<AxesSubplot:ylabel='feature'>"
      ]
     },
     "metadata": {},
     "execution_count": 89
    },
    {
     "output_type": "display_data",
     "data": {
      "text/plain": [
       "<Figure size 864x432 with 1 Axes>"
      ],
      "image/svg+xml": "<?xml version=\"1.0\" encoding=\"utf-8\" standalone=\"no\"?>\r\n<!DOCTYPE svg PUBLIC \"-//W3C//DTD SVG 1.1//EN\"\r\n  \"http://www.w3.org/Graphics/SVG/1.1/DTD/svg11.dtd\">\r\n<svg height=\"381.369375pt\" version=\"1.1\" viewBox=\"0 0 946.527687 381.369375\" width=\"946.527687pt\" xmlns=\"http://www.w3.org/2000/svg\" xmlns:xlink=\"http://www.w3.org/1999/xlink\">\r\n <metadata>\r\n  <rdf:RDF xmlns:cc=\"http://creativecommons.org/ns#\" xmlns:dc=\"http://purl.org/dc/elements/1.1/\" xmlns:rdf=\"http://www.w3.org/1999/02/22-rdf-syntax-ns#\">\r\n   <cc:Work>\r\n    <dc:type rdf:resource=\"http://purl.org/dc/dcmitype/StillImage\"/>\r\n    <dc:date>2021-08-21T10:02:34.093626</dc:date>\r\n    <dc:format>image/svg+xml</dc:format>\r\n    <dc:creator>\r\n     <cc:Agent>\r\n      <dc:title>Matplotlib v3.4.2, https://matplotlib.org/</dc:title>\r\n     </cc:Agent>\r\n    </dc:creator>\r\n   </cc:Work>\r\n  </rdf:RDF>\r\n </metadata>\r\n <defs>\r\n  <style type=\"text/css\">*{stroke-linecap:butt;stroke-linejoin:round;}</style>\r\n </defs>\r\n <g id=\"figure_1\">\r\n  <g id=\"patch_1\">\r\n   <path d=\"M 0 381.369375 \r\nL 946.527687 381.369375 \r\nL 946.527687 0 \r\nL 0 0 \r\nz\r\n\" style=\"fill:#f0f0f0;\"/>\r\n  </g>\r\n  <g id=\"axes_1\">\r\n   <g id=\"patch_2\">\r\n    <path d=\"M 187.647688 357.12 \r\nL 939.327688 357.12 \r\nL 939.327688 7.2 \r\nL 187.647688 7.2 \r\nz\r\n\" style=\"fill:#f0f0f0;\"/>\r\n   </g>\r\n   <g id=\"matplotlib.axis_1\">\r\n    <g id=\"xtick_1\">\r\n     <g id=\"line2d_1\">\r\n      <path clip-path=\"url(#p82a15056d6)\" d=\"M 187.647688 357.12 \r\nL 187.647688 7.2 \r\n\" style=\"fill:none;stroke:#cbcbcb;\"/>\r\n     </g>\r\n     <g id=\"line2d_2\"/>\r\n     <g id=\"text_1\">\r\n      <!-- 0 -->\r\n      <g transform=\"translate(183.193938 371.257813)scale(0.14 -0.14)\">\r\n       <defs>\r\n        <path d=\"M 2034 4250 \r\nQ 1547 4250 1301 3770 \r\nQ 1056 3291 1056 2328 \r\nQ 1056 1369 1301 889 \r\nQ 1547 409 2034 409 \r\nQ 2525 409 2770 889 \r\nQ 3016 1369 3016 2328 \r\nQ 3016 3291 2770 3770 \r\nQ 2525 4250 2034 4250 \r\nz\r\nM 2034 4750 \r\nQ 2819 4750 3233 4129 \r\nQ 3647 3509 3647 2328 \r\nQ 3647 1150 3233 529 \r\nQ 2819 -91 2034 -91 \r\nQ 1250 -91 836 529 \r\nQ 422 1150 422 2328 \r\nQ 422 3509 836 4129 \r\nQ 1250 4750 2034 4750 \r\nz\r\n\" id=\"DejaVuSans-30\" transform=\"scale(0.015625)\"/>\r\n       </defs>\r\n       <use xlink:href=\"#DejaVuSans-30\"/>\r\n      </g>\r\n     </g>\r\n    </g>\r\n    <g id=\"xtick_2\">\r\n     <g id=\"line2d_3\">\r\n      <path clip-path=\"url(#p82a15056d6)\" d=\"M 284.651172 357.12 \r\nL 284.651172 7.2 \r\n\" style=\"fill:none;stroke:#cbcbcb;\"/>\r\n     </g>\r\n     <g id=\"line2d_4\"/>\r\n     <g id=\"text_2\">\r\n      <!-- 50 -->\r\n      <g transform=\"translate(275.743672 371.257813)scale(0.14 -0.14)\">\r\n       <defs>\r\n        <path d=\"M 691 4666 \r\nL 3169 4666 \r\nL 3169 4134 \r\nL 1269 4134 \r\nL 1269 2991 \r\nQ 1406 3038 1543 3061 \r\nQ 1681 3084 1819 3084 \r\nQ 2600 3084 3056 2656 \r\nQ 3513 2228 3513 1497 \r\nQ 3513 744 3044 326 \r\nQ 2575 -91 1722 -91 \r\nQ 1428 -91 1123 -41 \r\nQ 819 9 494 109 \r\nL 494 744 \r\nQ 775 591 1075 516 \r\nQ 1375 441 1709 441 \r\nQ 2250 441 2565 725 \r\nQ 2881 1009 2881 1497 \r\nQ 2881 1984 2565 2268 \r\nQ 2250 2553 1709 2553 \r\nQ 1456 2553 1204 2497 \r\nQ 953 2441 691 2322 \r\nL 691 4666 \r\nz\r\n\" id=\"DejaVuSans-35\" transform=\"scale(0.015625)\"/>\r\n       </defs>\r\n       <use xlink:href=\"#DejaVuSans-35\"/>\r\n       <use x=\"63.623047\" xlink:href=\"#DejaVuSans-30\"/>\r\n      </g>\r\n     </g>\r\n    </g>\r\n    <g id=\"xtick_3\">\r\n     <g id=\"line2d_5\">\r\n      <path clip-path=\"url(#p82a15056d6)\" d=\"M 381.654656 357.12 \r\nL 381.654656 7.2 \r\n\" style=\"fill:none;stroke:#cbcbcb;\"/>\r\n     </g>\r\n     <g id=\"line2d_6\"/>\r\n     <g id=\"text_3\">\r\n      <!-- 100 -->\r\n      <g transform=\"translate(368.293406 371.257813)scale(0.14 -0.14)\">\r\n       <defs>\r\n        <path d=\"M 794 531 \r\nL 1825 531 \r\nL 1825 4091 \r\nL 703 3866 \r\nL 703 4441 \r\nL 1819 4666 \r\nL 2450 4666 \r\nL 2450 531 \r\nL 3481 531 \r\nL 3481 0 \r\nL 794 0 \r\nL 794 531 \r\nz\r\n\" id=\"DejaVuSans-31\" transform=\"scale(0.015625)\"/>\r\n       </defs>\r\n       <use xlink:href=\"#DejaVuSans-31\"/>\r\n       <use x=\"63.623047\" xlink:href=\"#DejaVuSans-30\"/>\r\n       <use x=\"127.246094\" xlink:href=\"#DejaVuSans-30\"/>\r\n      </g>\r\n     </g>\r\n    </g>\r\n    <g id=\"xtick_4\">\r\n     <g id=\"line2d_7\">\r\n      <path clip-path=\"url(#p82a15056d6)\" d=\"M 478.65814 357.12 \r\nL 478.65814 7.2 \r\n\" style=\"fill:none;stroke:#cbcbcb;\"/>\r\n     </g>\r\n     <g id=\"line2d_8\"/>\r\n     <g id=\"text_4\">\r\n      <!-- 150 -->\r\n      <g transform=\"translate(465.29689 371.257813)scale(0.14 -0.14)\">\r\n       <use xlink:href=\"#DejaVuSans-31\"/>\r\n       <use x=\"63.623047\" xlink:href=\"#DejaVuSans-35\"/>\r\n       <use x=\"127.246094\" xlink:href=\"#DejaVuSans-30\"/>\r\n      </g>\r\n     </g>\r\n    </g>\r\n    <g id=\"xtick_5\">\r\n     <g id=\"line2d_9\">\r\n      <path clip-path=\"url(#p82a15056d6)\" d=\"M 575.661625 357.12 \r\nL 575.661625 7.2 \r\n\" style=\"fill:none;stroke:#cbcbcb;\"/>\r\n     </g>\r\n     <g id=\"line2d_10\"/>\r\n     <g id=\"text_5\">\r\n      <!-- 200 -->\r\n      <g transform=\"translate(562.300375 371.257813)scale(0.14 -0.14)\">\r\n       <defs>\r\n        <path d=\"M 1228 531 \r\nL 3431 531 \r\nL 3431 0 \r\nL 469 0 \r\nL 469 531 \r\nQ 828 903 1448 1529 \r\nQ 2069 2156 2228 2338 \r\nQ 2531 2678 2651 2914 \r\nQ 2772 3150 2772 3378 \r\nQ 2772 3750 2511 3984 \r\nQ 2250 4219 1831 4219 \r\nQ 1534 4219 1204 4116 \r\nQ 875 4013 500 3803 \r\nL 500 4441 \r\nQ 881 4594 1212 4672 \r\nQ 1544 4750 1819 4750 \r\nQ 2544 4750 2975 4387 \r\nQ 3406 4025 3406 3419 \r\nQ 3406 3131 3298 2873 \r\nQ 3191 2616 2906 2266 \r\nQ 2828 2175 2409 1742 \r\nQ 1991 1309 1228 531 \r\nz\r\n\" id=\"DejaVuSans-32\" transform=\"scale(0.015625)\"/>\r\n       </defs>\r\n       <use xlink:href=\"#DejaVuSans-32\"/>\r\n       <use x=\"63.623047\" xlink:href=\"#DejaVuSans-30\"/>\r\n       <use x=\"127.246094\" xlink:href=\"#DejaVuSans-30\"/>\r\n      </g>\r\n     </g>\r\n    </g>\r\n    <g id=\"xtick_6\">\r\n     <g id=\"line2d_11\">\r\n      <path clip-path=\"url(#p82a15056d6)\" d=\"M 672.665109 357.12 \r\nL 672.665109 7.2 \r\n\" style=\"fill:none;stroke:#cbcbcb;\"/>\r\n     </g>\r\n     <g id=\"line2d_12\"/>\r\n     <g id=\"text_6\">\r\n      <!-- 250 -->\r\n      <g transform=\"translate(659.303859 371.257813)scale(0.14 -0.14)\">\r\n       <use xlink:href=\"#DejaVuSans-32\"/>\r\n       <use x=\"63.623047\" xlink:href=\"#DejaVuSans-35\"/>\r\n       <use x=\"127.246094\" xlink:href=\"#DejaVuSans-30\"/>\r\n      </g>\r\n     </g>\r\n    </g>\r\n    <g id=\"xtick_7\">\r\n     <g id=\"line2d_13\">\r\n      <path clip-path=\"url(#p82a15056d6)\" d=\"M 769.668593 357.12 \r\nL 769.668593 7.2 \r\n\" style=\"fill:none;stroke:#cbcbcb;\"/>\r\n     </g>\r\n     <g id=\"line2d_14\"/>\r\n     <g id=\"text_7\">\r\n      <!-- 300 -->\r\n      <g transform=\"translate(756.307343 371.257813)scale(0.14 -0.14)\">\r\n       <defs>\r\n        <path d=\"M 2597 2516 \r\nQ 3050 2419 3304 2112 \r\nQ 3559 1806 3559 1356 \r\nQ 3559 666 3084 287 \r\nQ 2609 -91 1734 -91 \r\nQ 1441 -91 1130 -33 \r\nQ 819 25 488 141 \r\nL 488 750 \r\nQ 750 597 1062 519 \r\nQ 1375 441 1716 441 \r\nQ 2309 441 2620 675 \r\nQ 2931 909 2931 1356 \r\nQ 2931 1769 2642 2001 \r\nQ 2353 2234 1838 2234 \r\nL 1294 2234 \r\nL 1294 2753 \r\nL 1863 2753 \r\nQ 2328 2753 2575 2939 \r\nQ 2822 3125 2822 3475 \r\nQ 2822 3834 2567 4026 \r\nQ 2313 4219 1838 4219 \r\nQ 1578 4219 1281 4162 \r\nQ 984 4106 628 3988 \r\nL 628 4550 \r\nQ 988 4650 1302 4700 \r\nQ 1616 4750 1894 4750 \r\nQ 2613 4750 3031 4423 \r\nQ 3450 4097 3450 3541 \r\nQ 3450 3153 3228 2886 \r\nQ 3006 2619 2597 2516 \r\nz\r\n\" id=\"DejaVuSans-33\" transform=\"scale(0.015625)\"/>\r\n       </defs>\r\n       <use xlink:href=\"#DejaVuSans-33\"/>\r\n       <use x=\"63.623047\" xlink:href=\"#DejaVuSans-30\"/>\r\n       <use x=\"127.246094\" xlink:href=\"#DejaVuSans-30\"/>\r\n      </g>\r\n     </g>\r\n    </g>\r\n    <g id=\"xtick_8\">\r\n     <g id=\"line2d_15\">\r\n      <path clip-path=\"url(#p82a15056d6)\" d=\"M 866.672078 357.12 \r\nL 866.672078 7.2 \r\n\" style=\"fill:none;stroke:#cbcbcb;\"/>\r\n     </g>\r\n     <g id=\"line2d_16\"/>\r\n     <g id=\"text_8\">\r\n      <!-- 350 -->\r\n      <g transform=\"translate(853.310828 371.257813)scale(0.14 -0.14)\">\r\n       <use xlink:href=\"#DejaVuSans-33\"/>\r\n       <use x=\"63.623047\" xlink:href=\"#DejaVuSans-35\"/>\r\n       <use x=\"127.246094\" xlink:href=\"#DejaVuSans-30\"/>\r\n      </g>\r\n     </g>\r\n    </g>\r\n   </g>\r\n   <g id=\"matplotlib.axis_2\">\r\n    <g id=\"ytick_1\">\r\n     <g id=\"line2d_17\">\r\n      <path clip-path=\"url(#p82a15056d6)\" d=\"M 187.647688 337.68 \r\nL 939.327688 337.68 \r\n\" style=\"fill:none;stroke:#cbcbcb;\"/>\r\n     </g>\r\n     <g id=\"line2d_18\"/>\r\n     <g id=\"text_9\">\r\n      <!-- hour_bef_precipitation -->\r\n      <g transform=\"translate(27.45925 342.998906)scale(0.14 -0.14)\">\r\n       <defs>\r\n        <path d=\"M 3513 2113 \r\nL 3513 0 \r\nL 2938 0 \r\nL 2938 2094 \r\nQ 2938 2591 2744 2837 \r\nQ 2550 3084 2163 3084 \r\nQ 1697 3084 1428 2787 \r\nQ 1159 2491 1159 1978 \r\nL 1159 0 \r\nL 581 0 \r\nL 581 4863 \r\nL 1159 4863 \r\nL 1159 2956 \r\nQ 1366 3272 1645 3428 \r\nQ 1925 3584 2291 3584 \r\nQ 2894 3584 3203 3211 \r\nQ 3513 2838 3513 2113 \r\nz\r\n\" id=\"DejaVuSans-68\" transform=\"scale(0.015625)\"/>\r\n        <path d=\"M 1959 3097 \r\nQ 1497 3097 1228 2736 \r\nQ 959 2375 959 1747 \r\nQ 959 1119 1226 758 \r\nQ 1494 397 1959 397 \r\nQ 2419 397 2687 759 \r\nQ 2956 1122 2956 1747 \r\nQ 2956 2369 2687 2733 \r\nQ 2419 3097 1959 3097 \r\nz\r\nM 1959 3584 \r\nQ 2709 3584 3137 3096 \r\nQ 3566 2609 3566 1747 \r\nQ 3566 888 3137 398 \r\nQ 2709 -91 1959 -91 \r\nQ 1206 -91 779 398 \r\nQ 353 888 353 1747 \r\nQ 353 2609 779 3096 \r\nQ 1206 3584 1959 3584 \r\nz\r\n\" id=\"DejaVuSans-6f\" transform=\"scale(0.015625)\"/>\r\n        <path d=\"M 544 1381 \r\nL 544 3500 \r\nL 1119 3500 \r\nL 1119 1403 \r\nQ 1119 906 1312 657 \r\nQ 1506 409 1894 409 \r\nQ 2359 409 2629 706 \r\nQ 2900 1003 2900 1516 \r\nL 2900 3500 \r\nL 3475 3500 \r\nL 3475 0 \r\nL 2900 0 \r\nL 2900 538 \r\nQ 2691 219 2414 64 \r\nQ 2138 -91 1772 -91 \r\nQ 1169 -91 856 284 \r\nQ 544 659 544 1381 \r\nz\r\nM 1991 3584 \r\nL 1991 3584 \r\nz\r\n\" id=\"DejaVuSans-75\" transform=\"scale(0.015625)\"/>\r\n        <path d=\"M 2631 2963 \r\nQ 2534 3019 2420 3045 \r\nQ 2306 3072 2169 3072 \r\nQ 1681 3072 1420 2755 \r\nQ 1159 2438 1159 1844 \r\nL 1159 0 \r\nL 581 0 \r\nL 581 3500 \r\nL 1159 3500 \r\nL 1159 2956 \r\nQ 1341 3275 1631 3429 \r\nQ 1922 3584 2338 3584 \r\nQ 2397 3584 2469 3576 \r\nQ 2541 3569 2628 3553 \r\nL 2631 2963 \r\nz\r\n\" id=\"DejaVuSans-72\" transform=\"scale(0.015625)\"/>\r\n        <path d=\"M 3263 -1063 \r\nL 3263 -1509 \r\nL -63 -1509 \r\nL -63 -1063 \r\nL 3263 -1063 \r\nz\r\n\" id=\"DejaVuSans-5f\" transform=\"scale(0.015625)\"/>\r\n        <path d=\"M 3116 1747 \r\nQ 3116 2381 2855 2742 \r\nQ 2594 3103 2138 3103 \r\nQ 1681 3103 1420 2742 \r\nQ 1159 2381 1159 1747 \r\nQ 1159 1113 1420 752 \r\nQ 1681 391 2138 391 \r\nQ 2594 391 2855 752 \r\nQ 3116 1113 3116 1747 \r\nz\r\nM 1159 2969 \r\nQ 1341 3281 1617 3432 \r\nQ 1894 3584 2278 3584 \r\nQ 2916 3584 3314 3078 \r\nQ 3713 2572 3713 1747 \r\nQ 3713 922 3314 415 \r\nQ 2916 -91 2278 -91 \r\nQ 1894 -91 1617 61 \r\nQ 1341 213 1159 525 \r\nL 1159 0 \r\nL 581 0 \r\nL 581 4863 \r\nL 1159 4863 \r\nL 1159 2969 \r\nz\r\n\" id=\"DejaVuSans-62\" transform=\"scale(0.015625)\"/>\r\n        <path d=\"M 3597 1894 \r\nL 3597 1613 \r\nL 953 1613 \r\nQ 991 1019 1311 708 \r\nQ 1631 397 2203 397 \r\nQ 2534 397 2845 478 \r\nQ 3156 559 3463 722 \r\nL 3463 178 \r\nQ 3153 47 2828 -22 \r\nQ 2503 -91 2169 -91 \r\nQ 1331 -91 842 396 \r\nQ 353 884 353 1716 \r\nQ 353 2575 817 3079 \r\nQ 1281 3584 2069 3584 \r\nQ 2775 3584 3186 3129 \r\nQ 3597 2675 3597 1894 \r\nz\r\nM 3022 2063 \r\nQ 3016 2534 2758 2815 \r\nQ 2500 3097 2075 3097 \r\nQ 1594 3097 1305 2825 \r\nQ 1016 2553 972 2059 \r\nL 3022 2063 \r\nz\r\n\" id=\"DejaVuSans-65\" transform=\"scale(0.015625)\"/>\r\n        <path d=\"M 2375 4863 \r\nL 2375 4384 \r\nL 1825 4384 \r\nQ 1516 4384 1395 4259 \r\nQ 1275 4134 1275 3809 \r\nL 1275 3500 \r\nL 2222 3500 \r\nL 2222 3053 \r\nL 1275 3053 \r\nL 1275 0 \r\nL 697 0 \r\nL 697 3053 \r\nL 147 3053 \r\nL 147 3500 \r\nL 697 3500 \r\nL 697 3744 \r\nQ 697 4328 969 4595 \r\nQ 1241 4863 1831 4863 \r\nL 2375 4863 \r\nz\r\n\" id=\"DejaVuSans-66\" transform=\"scale(0.015625)\"/>\r\n        <path d=\"M 1159 525 \r\nL 1159 -1331 \r\nL 581 -1331 \r\nL 581 3500 \r\nL 1159 3500 \r\nL 1159 2969 \r\nQ 1341 3281 1617 3432 \r\nQ 1894 3584 2278 3584 \r\nQ 2916 3584 3314 3078 \r\nQ 3713 2572 3713 1747 \r\nQ 3713 922 3314 415 \r\nQ 2916 -91 2278 -91 \r\nQ 1894 -91 1617 61 \r\nQ 1341 213 1159 525 \r\nz\r\nM 3116 1747 \r\nQ 3116 2381 2855 2742 \r\nQ 2594 3103 2138 3103 \r\nQ 1681 3103 1420 2742 \r\nQ 1159 2381 1159 1747 \r\nQ 1159 1113 1420 752 \r\nQ 1681 391 2138 391 \r\nQ 2594 391 2855 752 \r\nQ 3116 1113 3116 1747 \r\nz\r\n\" id=\"DejaVuSans-70\" transform=\"scale(0.015625)\"/>\r\n        <path d=\"M 3122 3366 \r\nL 3122 2828 \r\nQ 2878 2963 2633 3030 \r\nQ 2388 3097 2138 3097 \r\nQ 1578 3097 1268 2742 \r\nQ 959 2388 959 1747 \r\nQ 959 1106 1268 751 \r\nQ 1578 397 2138 397 \r\nQ 2388 397 2633 464 \r\nQ 2878 531 3122 666 \r\nL 3122 134 \r\nQ 2881 22 2623 -34 \r\nQ 2366 -91 2075 -91 \r\nQ 1284 -91 818 406 \r\nQ 353 903 353 1747 \r\nQ 353 2603 823 3093 \r\nQ 1294 3584 2113 3584 \r\nQ 2378 3584 2631 3529 \r\nQ 2884 3475 3122 3366 \r\nz\r\n\" id=\"DejaVuSans-63\" transform=\"scale(0.015625)\"/>\r\n        <path d=\"M 603 3500 \r\nL 1178 3500 \r\nL 1178 0 \r\nL 603 0 \r\nL 603 3500 \r\nz\r\nM 603 4863 \r\nL 1178 4863 \r\nL 1178 4134 \r\nL 603 4134 \r\nL 603 4863 \r\nz\r\n\" id=\"DejaVuSans-69\" transform=\"scale(0.015625)\"/>\r\n        <path d=\"M 1172 4494 \r\nL 1172 3500 \r\nL 2356 3500 \r\nL 2356 3053 \r\nL 1172 3053 \r\nL 1172 1153 \r\nQ 1172 725 1289 603 \r\nQ 1406 481 1766 481 \r\nL 2356 481 \r\nL 2356 0 \r\nL 1766 0 \r\nQ 1100 0 847 248 \r\nQ 594 497 594 1153 \r\nL 594 3053 \r\nL 172 3053 \r\nL 172 3500 \r\nL 594 3500 \r\nL 594 4494 \r\nL 1172 4494 \r\nz\r\n\" id=\"DejaVuSans-74\" transform=\"scale(0.015625)\"/>\r\n        <path d=\"M 2194 1759 \r\nQ 1497 1759 1228 1600 \r\nQ 959 1441 959 1056 \r\nQ 959 750 1161 570 \r\nQ 1363 391 1709 391 \r\nQ 2188 391 2477 730 \r\nQ 2766 1069 2766 1631 \r\nL 2766 1759 \r\nL 2194 1759 \r\nz\r\nM 3341 1997 \r\nL 3341 0 \r\nL 2766 0 \r\nL 2766 531 \r\nQ 2569 213 2275 61 \r\nQ 1981 -91 1556 -91 \r\nQ 1019 -91 701 211 \r\nQ 384 513 384 1019 \r\nQ 384 1609 779 1909 \r\nQ 1175 2209 1959 2209 \r\nL 2766 2209 \r\nL 2766 2266 \r\nQ 2766 2663 2505 2880 \r\nQ 2244 3097 1772 3097 \r\nQ 1472 3097 1187 3025 \r\nQ 903 2953 641 2809 \r\nL 641 3341 \r\nQ 956 3463 1253 3523 \r\nQ 1550 3584 1831 3584 \r\nQ 2591 3584 2966 3190 \r\nQ 3341 2797 3341 1997 \r\nz\r\n\" id=\"DejaVuSans-61\" transform=\"scale(0.015625)\"/>\r\n        <path d=\"M 3513 2113 \r\nL 3513 0 \r\nL 2938 0 \r\nL 2938 2094 \r\nQ 2938 2591 2744 2837 \r\nQ 2550 3084 2163 3084 \r\nQ 1697 3084 1428 2787 \r\nQ 1159 2491 1159 1978 \r\nL 1159 0 \r\nL 581 0 \r\nL 581 3500 \r\nL 1159 3500 \r\nL 1159 2956 \r\nQ 1366 3272 1645 3428 \r\nQ 1925 3584 2291 3584 \r\nQ 2894 3584 3203 3211 \r\nQ 3513 2838 3513 2113 \r\nz\r\n\" id=\"DejaVuSans-6e\" transform=\"scale(0.015625)\"/>\r\n       </defs>\r\n       <use xlink:href=\"#DejaVuSans-68\"/>\r\n       <use x=\"63.378906\" xlink:href=\"#DejaVuSans-6f\"/>\r\n       <use x=\"124.560547\" xlink:href=\"#DejaVuSans-75\"/>\r\n       <use x=\"187.939453\" xlink:href=\"#DejaVuSans-72\"/>\r\n       <use x=\"229.052734\" xlink:href=\"#DejaVuSans-5f\"/>\r\n       <use x=\"279.052734\" xlink:href=\"#DejaVuSans-62\"/>\r\n       <use x=\"342.529297\" xlink:href=\"#DejaVuSans-65\"/>\r\n       <use x=\"404.052734\" xlink:href=\"#DejaVuSans-66\"/>\r\n       <use x=\"439.257812\" xlink:href=\"#DejaVuSans-5f\"/>\r\n       <use x=\"489.257812\" xlink:href=\"#DejaVuSans-70\"/>\r\n       <use x=\"552.734375\" xlink:href=\"#DejaVuSans-72\"/>\r\n       <use x=\"591.597656\" xlink:href=\"#DejaVuSans-65\"/>\r\n       <use x=\"653.121094\" xlink:href=\"#DejaVuSans-63\"/>\r\n       <use x=\"708.101562\" xlink:href=\"#DejaVuSans-69\"/>\r\n       <use x=\"735.884766\" xlink:href=\"#DejaVuSans-70\"/>\r\n       <use x=\"799.361328\" xlink:href=\"#DejaVuSans-69\"/>\r\n       <use x=\"827.144531\" xlink:href=\"#DejaVuSans-74\"/>\r\n       <use x=\"866.353516\" xlink:href=\"#DejaVuSans-61\"/>\r\n       <use x=\"927.632812\" xlink:href=\"#DejaVuSans-74\"/>\r\n       <use x=\"966.841797\" xlink:href=\"#DejaVuSans-69\"/>\r\n       <use x=\"994.625\" xlink:href=\"#DejaVuSans-6f\"/>\r\n       <use x=\"1055.806641\" xlink:href=\"#DejaVuSans-6e\"/>\r\n      </g>\r\n     </g>\r\n    </g>\r\n    <g id=\"ytick_2\">\r\n     <g id=\"line2d_19\">\r\n      <path clip-path=\"url(#p82a15056d6)\" d=\"M 187.647688 298.8 \r\nL 939.327688 298.8 \r\n\" style=\"fill:none;stroke:#cbcbcb;\"/>\r\n     </g>\r\n     <g id=\"line2d_20\"/>\r\n     <g id=\"text_10\">\r\n      <!-- hour_bef_pm2.5 -->\r\n      <g transform=\"translate(70.861438 304.118906)scale(0.14 -0.14)\">\r\n       <defs>\r\n        <path d=\"M 3328 2828 \r\nQ 3544 3216 3844 3400 \r\nQ 4144 3584 4550 3584 \r\nQ 5097 3584 5394 3201 \r\nQ 5691 2819 5691 2113 \r\nL 5691 0 \r\nL 5113 0 \r\nL 5113 2094 \r\nQ 5113 2597 4934 2840 \r\nQ 4756 3084 4391 3084 \r\nQ 3944 3084 3684 2787 \r\nQ 3425 2491 3425 1978 \r\nL 3425 0 \r\nL 2847 0 \r\nL 2847 2094 \r\nQ 2847 2600 2669 2842 \r\nQ 2491 3084 2119 3084 \r\nQ 1678 3084 1418 2786 \r\nQ 1159 2488 1159 1978 \r\nL 1159 0 \r\nL 581 0 \r\nL 581 3500 \r\nL 1159 3500 \r\nL 1159 2956 \r\nQ 1356 3278 1631 3431 \r\nQ 1906 3584 2284 3584 \r\nQ 2666 3584 2933 3390 \r\nQ 3200 3197 3328 2828 \r\nz\r\n\" id=\"DejaVuSans-6d\" transform=\"scale(0.015625)\"/>\r\n        <path d=\"M 684 794 \r\nL 1344 794 \r\nL 1344 0 \r\nL 684 0 \r\nL 684 794 \r\nz\r\n\" id=\"DejaVuSans-2e\" transform=\"scale(0.015625)\"/>\r\n       </defs>\r\n       <use xlink:href=\"#DejaVuSans-68\"/>\r\n       <use x=\"63.378906\" xlink:href=\"#DejaVuSans-6f\"/>\r\n       <use x=\"124.560547\" xlink:href=\"#DejaVuSans-75\"/>\r\n       <use x=\"187.939453\" xlink:href=\"#DejaVuSans-72\"/>\r\n       <use x=\"229.052734\" xlink:href=\"#DejaVuSans-5f\"/>\r\n       <use x=\"279.052734\" xlink:href=\"#DejaVuSans-62\"/>\r\n       <use x=\"342.529297\" xlink:href=\"#DejaVuSans-65\"/>\r\n       <use x=\"404.052734\" xlink:href=\"#DejaVuSans-66\"/>\r\n       <use x=\"439.257812\" xlink:href=\"#DejaVuSans-5f\"/>\r\n       <use x=\"489.257812\" xlink:href=\"#DejaVuSans-70\"/>\r\n       <use x=\"552.734375\" xlink:href=\"#DejaVuSans-6d\"/>\r\n       <use x=\"650.146484\" xlink:href=\"#DejaVuSans-32\"/>\r\n       <use x=\"713.769531\" xlink:href=\"#DejaVuSans-2e\"/>\r\n       <use x=\"745.556641\" xlink:href=\"#DejaVuSans-35\"/>\r\n      </g>\r\n     </g>\r\n    </g>\r\n    <g id=\"ytick_3\">\r\n     <g id=\"line2d_21\">\r\n      <path clip-path=\"url(#p82a15056d6)\" d=\"M 187.647688 259.92 \r\nL 939.327688 259.92 \r\n\" style=\"fill:none;stroke:#cbcbcb;\"/>\r\n     </g>\r\n     <g id=\"line2d_22\"/>\r\n     <g id=\"text_11\">\r\n      <!-- hour_bef_ozone -->\r\n      <g transform=\"translate(73.683313 265.238906)scale(0.14 -0.14)\">\r\n       <defs>\r\n        <path d=\"M 353 3500 \r\nL 3084 3500 \r\nL 3084 2975 \r\nL 922 459 \r\nL 3084 459 \r\nL 3084 0 \r\nL 275 0 \r\nL 275 525 \r\nL 2438 3041 \r\nL 353 3041 \r\nL 353 3500 \r\nz\r\n\" id=\"DejaVuSans-7a\" transform=\"scale(0.015625)\"/>\r\n       </defs>\r\n       <use xlink:href=\"#DejaVuSans-68\"/>\r\n       <use x=\"63.378906\" xlink:href=\"#DejaVuSans-6f\"/>\r\n       <use x=\"124.560547\" xlink:href=\"#DejaVuSans-75\"/>\r\n       <use x=\"187.939453\" xlink:href=\"#DejaVuSans-72\"/>\r\n       <use x=\"229.052734\" xlink:href=\"#DejaVuSans-5f\"/>\r\n       <use x=\"279.052734\" xlink:href=\"#DejaVuSans-62\"/>\r\n       <use x=\"342.529297\" xlink:href=\"#DejaVuSans-65\"/>\r\n       <use x=\"404.052734\" xlink:href=\"#DejaVuSans-66\"/>\r\n       <use x=\"439.257812\" xlink:href=\"#DejaVuSans-5f\"/>\r\n       <use x=\"489.257812\" xlink:href=\"#DejaVuSans-6f\"/>\r\n       <use x=\"550.439453\" xlink:href=\"#DejaVuSans-7a\"/>\r\n       <use x=\"602.929688\" xlink:href=\"#DejaVuSans-6f\"/>\r\n       <use x=\"664.111328\" xlink:href=\"#DejaVuSans-6e\"/>\r\n       <use x=\"727.490234\" xlink:href=\"#DejaVuSans-65\"/>\r\n      </g>\r\n     </g>\r\n    </g>\r\n    <g id=\"ytick_4\">\r\n     <g id=\"line2d_23\">\r\n      <path clip-path=\"url(#p82a15056d6)\" d=\"M 187.647688 221.04 \r\nL 939.327688 221.04 \r\n\" style=\"fill:none;stroke:#cbcbcb;\"/>\r\n     </g>\r\n     <g id=\"line2d_24\"/>\r\n     <g id=\"text_12\">\r\n      <!-- hour_bef_humidity -->\r\n      <g transform=\"translate(53.827375 226.358906)scale(0.14 -0.14)\">\r\n       <defs>\r\n        <path d=\"M 2906 2969 \r\nL 2906 4863 \r\nL 3481 4863 \r\nL 3481 0 \r\nL 2906 0 \r\nL 2906 525 \r\nQ 2725 213 2448 61 \r\nQ 2172 -91 1784 -91 \r\nQ 1150 -91 751 415 \r\nQ 353 922 353 1747 \r\nQ 353 2572 751 3078 \r\nQ 1150 3584 1784 3584 \r\nQ 2172 3584 2448 3432 \r\nQ 2725 3281 2906 2969 \r\nz\r\nM 947 1747 \r\nQ 947 1113 1208 752 \r\nQ 1469 391 1925 391 \r\nQ 2381 391 2643 752 \r\nQ 2906 1113 2906 1747 \r\nQ 2906 2381 2643 2742 \r\nQ 2381 3103 1925 3103 \r\nQ 1469 3103 1208 2742 \r\nQ 947 2381 947 1747 \r\nz\r\n\" id=\"DejaVuSans-64\" transform=\"scale(0.015625)\"/>\r\n        <path d=\"M 2059 -325 \r\nQ 1816 -950 1584 -1140 \r\nQ 1353 -1331 966 -1331 \r\nL 506 -1331 \r\nL 506 -850 \r\nL 844 -850 \r\nQ 1081 -850 1212 -737 \r\nQ 1344 -625 1503 -206 \r\nL 1606 56 \r\nL 191 3500 \r\nL 800 3500 \r\nL 1894 763 \r\nL 2988 3500 \r\nL 3597 3500 \r\nL 2059 -325 \r\nz\r\n\" id=\"DejaVuSans-79\" transform=\"scale(0.015625)\"/>\r\n       </defs>\r\n       <use xlink:href=\"#DejaVuSans-68\"/>\r\n       <use x=\"63.378906\" xlink:href=\"#DejaVuSans-6f\"/>\r\n       <use x=\"124.560547\" xlink:href=\"#DejaVuSans-75\"/>\r\n       <use x=\"187.939453\" xlink:href=\"#DejaVuSans-72\"/>\r\n       <use x=\"229.052734\" xlink:href=\"#DejaVuSans-5f\"/>\r\n       <use x=\"279.052734\" xlink:href=\"#DejaVuSans-62\"/>\r\n       <use x=\"342.529297\" xlink:href=\"#DejaVuSans-65\"/>\r\n       <use x=\"404.052734\" xlink:href=\"#DejaVuSans-66\"/>\r\n       <use x=\"439.257812\" xlink:href=\"#DejaVuSans-5f\"/>\r\n       <use x=\"489.257812\" xlink:href=\"#DejaVuSans-68\"/>\r\n       <use x=\"552.636719\" xlink:href=\"#DejaVuSans-75\"/>\r\n       <use x=\"616.015625\" xlink:href=\"#DejaVuSans-6d\"/>\r\n       <use x=\"713.427734\" xlink:href=\"#DejaVuSans-69\"/>\r\n       <use x=\"741.210938\" xlink:href=\"#DejaVuSans-64\"/>\r\n       <use x=\"804.6875\" xlink:href=\"#DejaVuSans-69\"/>\r\n       <use x=\"832.470703\" xlink:href=\"#DejaVuSans-74\"/>\r\n       <use x=\"871.679688\" xlink:href=\"#DejaVuSans-79\"/>\r\n      </g>\r\n     </g>\r\n    </g>\r\n    <g id=\"ytick_5\">\r\n     <g id=\"line2d_25\">\r\n      <path clip-path=\"url(#p82a15056d6)\" d=\"M 187.647688 182.16 \r\nL 939.327688 182.16 \r\n\" style=\"fill:none;stroke:#cbcbcb;\"/>\r\n     </g>\r\n     <g id=\"line2d_26\"/>\r\n     <g id=\"text_13\">\r\n      <!-- hour_bef_windspeed -->\r\n      <g transform=\"translate(40.253938 187.478906)scale(0.14 -0.14)\">\r\n       <defs>\r\n        <path d=\"M 269 3500 \r\nL 844 3500 \r\nL 1563 769 \r\nL 2278 3500 \r\nL 2956 3500 \r\nL 3675 769 \r\nL 4391 3500 \r\nL 4966 3500 \r\nL 4050 0 \r\nL 3372 0 \r\nL 2619 2869 \r\nL 1863 0 \r\nL 1184 0 \r\nL 269 3500 \r\nz\r\n\" id=\"DejaVuSans-77\" transform=\"scale(0.015625)\"/>\r\n        <path d=\"M 2834 3397 \r\nL 2834 2853 \r\nQ 2591 2978 2328 3040 \r\nQ 2066 3103 1784 3103 \r\nQ 1356 3103 1142 2972 \r\nQ 928 2841 928 2578 \r\nQ 928 2378 1081 2264 \r\nQ 1234 2150 1697 2047 \r\nL 1894 2003 \r\nQ 2506 1872 2764 1633 \r\nQ 3022 1394 3022 966 \r\nQ 3022 478 2636 193 \r\nQ 2250 -91 1575 -91 \r\nQ 1294 -91 989 -36 \r\nQ 684 19 347 128 \r\nL 347 722 \r\nQ 666 556 975 473 \r\nQ 1284 391 1588 391 \r\nQ 1994 391 2212 530 \r\nQ 2431 669 2431 922 \r\nQ 2431 1156 2273 1281 \r\nQ 2116 1406 1581 1522 \r\nL 1381 1569 \r\nQ 847 1681 609 1914 \r\nQ 372 2147 372 2553 \r\nQ 372 3047 722 3315 \r\nQ 1072 3584 1716 3584 \r\nQ 2034 3584 2315 3537 \r\nQ 2597 3491 2834 3397 \r\nz\r\n\" id=\"DejaVuSans-73\" transform=\"scale(0.015625)\"/>\r\n       </defs>\r\n       <use xlink:href=\"#DejaVuSans-68\"/>\r\n       <use x=\"63.378906\" xlink:href=\"#DejaVuSans-6f\"/>\r\n       <use x=\"124.560547\" xlink:href=\"#DejaVuSans-75\"/>\r\n       <use x=\"187.939453\" xlink:href=\"#DejaVuSans-72\"/>\r\n       <use x=\"229.052734\" xlink:href=\"#DejaVuSans-5f\"/>\r\n       <use x=\"279.052734\" xlink:href=\"#DejaVuSans-62\"/>\r\n       <use x=\"342.529297\" xlink:href=\"#DejaVuSans-65\"/>\r\n       <use x=\"404.052734\" xlink:href=\"#DejaVuSans-66\"/>\r\n       <use x=\"439.257812\" xlink:href=\"#DejaVuSans-5f\"/>\r\n       <use x=\"489.257812\" xlink:href=\"#DejaVuSans-77\"/>\r\n       <use x=\"571.044922\" xlink:href=\"#DejaVuSans-69\"/>\r\n       <use x=\"598.828125\" xlink:href=\"#DejaVuSans-6e\"/>\r\n       <use x=\"662.207031\" xlink:href=\"#DejaVuSans-64\"/>\r\n       <use x=\"725.683594\" xlink:href=\"#DejaVuSans-73\"/>\r\n       <use x=\"777.783203\" xlink:href=\"#DejaVuSans-70\"/>\r\n       <use x=\"841.259766\" xlink:href=\"#DejaVuSans-65\"/>\r\n       <use x=\"902.783203\" xlink:href=\"#DejaVuSans-65\"/>\r\n       <use x=\"964.306641\" xlink:href=\"#DejaVuSans-64\"/>\r\n      </g>\r\n     </g>\r\n    </g>\r\n    <g id=\"ytick_6\">\r\n     <g id=\"line2d_27\">\r\n      <path clip-path=\"url(#p82a15056d6)\" d=\"M 187.647688 143.28 \r\nL 939.327688 143.28 \r\n\" style=\"fill:none;stroke:#cbcbcb;\"/>\r\n     </g>\r\n     <g id=\"line2d_28\"/>\r\n     <g id=\"text_14\">\r\n      <!-- hour_bef_visibility -->\r\n      <g transform=\"translate(57.96175 148.598906)scale(0.14 -0.14)\">\r\n       <defs>\r\n        <path d=\"M 191 3500 \r\nL 800 3500 \r\nL 1894 563 \r\nL 2988 3500 \r\nL 3597 3500 \r\nL 2284 0 \r\nL 1503 0 \r\nL 191 3500 \r\nz\r\n\" id=\"DejaVuSans-76\" transform=\"scale(0.015625)\"/>\r\n        <path d=\"M 603 4863 \r\nL 1178 4863 \r\nL 1178 0 \r\nL 603 0 \r\nL 603 4863 \r\nz\r\n\" id=\"DejaVuSans-6c\" transform=\"scale(0.015625)\"/>\r\n       </defs>\r\n       <use xlink:href=\"#DejaVuSans-68\"/>\r\n       <use x=\"63.378906\" xlink:href=\"#DejaVuSans-6f\"/>\r\n       <use x=\"124.560547\" xlink:href=\"#DejaVuSans-75\"/>\r\n       <use x=\"187.939453\" xlink:href=\"#DejaVuSans-72\"/>\r\n       <use x=\"229.052734\" xlink:href=\"#DejaVuSans-5f\"/>\r\n       <use x=\"279.052734\" xlink:href=\"#DejaVuSans-62\"/>\r\n       <use x=\"342.529297\" xlink:href=\"#DejaVuSans-65\"/>\r\n       <use x=\"404.052734\" xlink:href=\"#DejaVuSans-66\"/>\r\n       <use x=\"439.257812\" xlink:href=\"#DejaVuSans-5f\"/>\r\n       <use x=\"489.257812\" xlink:href=\"#DejaVuSans-76\"/>\r\n       <use x=\"548.4375\" xlink:href=\"#DejaVuSans-69\"/>\r\n       <use x=\"576.220703\" xlink:href=\"#DejaVuSans-73\"/>\r\n       <use x=\"628.320312\" xlink:href=\"#DejaVuSans-69\"/>\r\n       <use x=\"656.103516\" xlink:href=\"#DejaVuSans-62\"/>\r\n       <use x=\"719.580078\" xlink:href=\"#DejaVuSans-69\"/>\r\n       <use x=\"747.363281\" xlink:href=\"#DejaVuSans-6c\"/>\r\n       <use x=\"775.146484\" xlink:href=\"#DejaVuSans-69\"/>\r\n       <use x=\"802.929688\" xlink:href=\"#DejaVuSans-74\"/>\r\n       <use x=\"842.138672\" xlink:href=\"#DejaVuSans-79\"/>\r\n      </g>\r\n     </g>\r\n    </g>\r\n    <g id=\"ytick_7\">\r\n     <g id=\"line2d_29\">\r\n      <path clip-path=\"url(#p82a15056d6)\" d=\"M 187.647688 104.4 \r\nL 939.327688 104.4 \r\n\" style=\"fill:none;stroke:#cbcbcb;\"/>\r\n     </g>\r\n     <g id=\"line2d_30\"/>\r\n     <g id=\"text_15\">\r\n      <!-- hour_bef_pm10 -->\r\n      <g transform=\"translate(75.310813 109.718906)scale(0.14 -0.14)\">\r\n       <use xlink:href=\"#DejaVuSans-68\"/>\r\n       <use x=\"63.378906\" xlink:href=\"#DejaVuSans-6f\"/>\r\n       <use x=\"124.560547\" xlink:href=\"#DejaVuSans-75\"/>\r\n       <use x=\"187.939453\" xlink:href=\"#DejaVuSans-72\"/>\r\n       <use x=\"229.052734\" xlink:href=\"#DejaVuSans-5f\"/>\r\n       <use x=\"279.052734\" xlink:href=\"#DejaVuSans-62\"/>\r\n       <use x=\"342.529297\" xlink:href=\"#DejaVuSans-65\"/>\r\n       <use x=\"404.052734\" xlink:href=\"#DejaVuSans-66\"/>\r\n       <use x=\"439.257812\" xlink:href=\"#DejaVuSans-5f\"/>\r\n       <use x=\"489.257812\" xlink:href=\"#DejaVuSans-70\"/>\r\n       <use x=\"552.734375\" xlink:href=\"#DejaVuSans-6d\"/>\r\n       <use x=\"650.146484\" xlink:href=\"#DejaVuSans-31\"/>\r\n       <use x=\"713.769531\" xlink:href=\"#DejaVuSans-30\"/>\r\n      </g>\r\n     </g>\r\n    </g>\r\n    <g id=\"ytick_8\">\r\n     <g id=\"line2d_31\">\r\n      <path clip-path=\"url(#p82a15056d6)\" d=\"M 187.647688 65.52 \r\nL 939.327688 65.52 \r\n\" style=\"fill:none;stroke:#cbcbcb;\"/>\r\n     </g>\r\n     <g id=\"line2d_32\"/>\r\n     <g id=\"text_16\">\r\n      <!-- hour_bef_temperature -->\r\n      <g transform=\"translate(27.658312 70.838906)scale(0.14 -0.14)\">\r\n       <use xlink:href=\"#DejaVuSans-68\"/>\r\n       <use x=\"63.378906\" xlink:href=\"#DejaVuSans-6f\"/>\r\n       <use x=\"124.560547\" xlink:href=\"#DejaVuSans-75\"/>\r\n       <use x=\"187.939453\" xlink:href=\"#DejaVuSans-72\"/>\r\n       <use x=\"229.052734\" xlink:href=\"#DejaVuSans-5f\"/>\r\n       <use x=\"279.052734\" xlink:href=\"#DejaVuSans-62\"/>\r\n       <use x=\"342.529297\" xlink:href=\"#DejaVuSans-65\"/>\r\n       <use x=\"404.052734\" xlink:href=\"#DejaVuSans-66\"/>\r\n       <use x=\"439.257812\" xlink:href=\"#DejaVuSans-5f\"/>\r\n       <use x=\"489.257812\" xlink:href=\"#DejaVuSans-74\"/>\r\n       <use x=\"528.466797\" xlink:href=\"#DejaVuSans-65\"/>\r\n       <use x=\"589.990234\" xlink:href=\"#DejaVuSans-6d\"/>\r\n       <use x=\"687.402344\" xlink:href=\"#DejaVuSans-70\"/>\r\n       <use x=\"750.878906\" xlink:href=\"#DejaVuSans-65\"/>\r\n       <use x=\"812.402344\" xlink:href=\"#DejaVuSans-72\"/>\r\n       <use x=\"853.515625\" xlink:href=\"#DejaVuSans-61\"/>\r\n       <use x=\"914.794922\" xlink:href=\"#DejaVuSans-74\"/>\r\n       <use x=\"954.003906\" xlink:href=\"#DejaVuSans-75\"/>\r\n       <use x=\"1017.382812\" xlink:href=\"#DejaVuSans-72\"/>\r\n       <use x=\"1056.246094\" xlink:href=\"#DejaVuSans-65\"/>\r\n      </g>\r\n     </g>\r\n    </g>\r\n    <g id=\"ytick_9\">\r\n     <g id=\"line2d_33\">\r\n      <path clip-path=\"url(#p82a15056d6)\" d=\"M 187.647688 26.64 \r\nL 939.327688 26.64 \r\n\" style=\"fill:none;stroke:#cbcbcb;\"/>\r\n     </g>\r\n     <g id=\"line2d_34\"/>\r\n     <g id=\"text_17\">\r\n      <!-- hour -->\r\n      <g transform=\"translate(152.081125 31.958906)scale(0.14 -0.14)\">\r\n       <use xlink:href=\"#DejaVuSans-68\"/>\r\n       <use x=\"63.378906\" xlink:href=\"#DejaVuSans-6f\"/>\r\n       <use x=\"124.560547\" xlink:href=\"#DejaVuSans-75\"/>\r\n       <use x=\"187.939453\" xlink:href=\"#DejaVuSans-72\"/>\r\n      </g>\r\n     </g>\r\n    </g>\r\n    <g id=\"text_18\">\r\n     <!-- feature -->\r\n     <g transform=\"translate(19.965375 212.482688)rotate(-90)scale(0.168 -0.168)\">\r\n      <use xlink:href=\"#DejaVuSans-66\"/>\r\n      <use x=\"35.205078\" xlink:href=\"#DejaVuSans-65\"/>\r\n      <use x=\"96.728516\" xlink:href=\"#DejaVuSans-61\"/>\r\n      <use x=\"158.007812\" xlink:href=\"#DejaVuSans-74\"/>\r\n      <use x=\"197.216797\" xlink:href=\"#DejaVuSans-75\"/>\r\n      <use x=\"260.595703\" xlink:href=\"#DejaVuSans-72\"/>\r\n      <use x=\"299.458984\" xlink:href=\"#DejaVuSans-65\"/>\r\n     </g>\r\n    </g>\r\n   </g>\r\n   <g id=\"patch_3\">\r\n    <path clip-path=\"url(#p82a15056d6)\" d=\"M 187.647688 347.4 \r\nL 216.748733 347.4 \r\nL 216.748733 327.96 \r\nL 187.647688 327.96 \r\nz\r\n\" style=\"fill:#008fd5;\"/>\r\n   </g>\r\n   <g id=\"patch_4\">\r\n    <path clip-path=\"url(#p82a15056d6)\" d=\"M 187.647688 308.52 \r\nL 602.8226 308.52 \r\nL 602.8226 289.08 \r\nL 187.647688 289.08 \r\nz\r\n\" style=\"fill:#008fd5;\"/>\r\n   </g>\r\n   <g id=\"patch_5\">\r\n    <path clip-path=\"url(#p82a15056d6)\" d=\"M 187.647688 269.64 \r\nL 637.743855 269.64 \r\nL 637.743855 250.2 \r\nL 187.647688 250.2 \r\nz\r\n\" style=\"fill:#008fd5;\"/>\r\n   </g>\r\n   <g id=\"patch_6\">\r\n    <path clip-path=\"url(#p82a15056d6)\" d=\"M 187.647688 230.76 \r\nL 643.564064 230.76 \r\nL 643.564064 211.32 \r\nL 187.647688 211.32 \r\nz\r\n\" style=\"fill:#008fd5;\"/>\r\n   </g>\r\n   <g id=\"patch_7\">\r\n    <path clip-path=\"url(#p82a15056d6)\" d=\"M 187.647688 191.88 \r\nL 664.90483 191.88 \r\nL 664.90483 172.44 \r\nL 187.647688 172.44 \r\nz\r\n\" style=\"fill:#008fd5;\"/>\r\n   </g>\r\n   <g id=\"patch_8\">\r\n    <path clip-path=\"url(#p82a15056d6)\" d=\"M 187.647688 153 \r\nL 670.725039 153 \r\nL 670.725039 133.56 \r\nL 187.647688 133.56 \r\nz\r\n\" style=\"fill:#008fd5;\"/>\r\n   </g>\r\n   <g id=\"patch_9\">\r\n    <path clip-path=\"url(#p82a15056d6)\" d=\"M 187.647688 114.12 \r\nL 678.485318 114.12 \r\nL 678.485318 94.68 \r\nL 187.647688 94.68 \r\nz\r\n\" style=\"fill:#008fd5;\"/>\r\n   </g>\r\n   <g id=\"patch_10\">\r\n    <path clip-path=\"url(#p82a15056d6)\" d=\"M 187.647688 75.24 \r\nL 853.09159 75.24 \r\nL 853.09159 55.8 \r\nL 187.647688 55.8 \r\nz\r\n\" style=\"fill:#008fd5;\"/>\r\n   </g>\r\n   <g id=\"patch_11\">\r\n    <path clip-path=\"url(#p82a15056d6)\" d=\"M 187.647688 36.36 \r\nL 903.533402 36.36 \r\nL 903.533402 16.92 \r\nL 187.647688 16.92 \r\nz\r\n\" style=\"fill:#008fd5;\"/>\r\n   </g>\r\n   <g id=\"patch_12\">\r\n    <path d=\"M 187.647688 357.12 \r\nL 187.647688 7.2 \r\n\" style=\"fill:none;stroke:#f0f0f0;stroke-linecap:square;stroke-linejoin:miter;stroke-width:3;\"/>\r\n   </g>\r\n   <g id=\"patch_13\">\r\n    <path d=\"M 939.327688 357.12 \r\nL 939.327688 7.2 \r\n\" style=\"fill:none;stroke:#f0f0f0;stroke-linecap:square;stroke-linejoin:miter;stroke-width:3;\"/>\r\n   </g>\r\n   <g id=\"patch_14\">\r\n    <path d=\"M 187.647688 357.12 \r\nL 939.327688 357.12 \r\n\" style=\"fill:none;stroke:#f0f0f0;stroke-linecap:square;stroke-linejoin:miter;stroke-width:3;\"/>\r\n   </g>\r\n   <g id=\"patch_15\">\r\n    <path d=\"M 187.647688 7.2 \r\nL 939.327688 7.2 \r\n\" style=\"fill:none;stroke:#f0f0f0;stroke-linecap:square;stroke-linejoin:miter;stroke-width:3;\"/>\r\n   </g>\r\n   <g id=\"legend_1\">\r\n    <g id=\"patch_16\">\r\n     <path d=\"M 804.739563 350.12 \r\nL 929.527688 350.12 \r\nQ 932.327688 350.12 932.327688 347.32 \r\nL 932.327688 328.170625 \r\nQ 932.327688 325.370625 929.527688 325.370625 \r\nL 804.739563 325.370625 \r\nQ 801.939563 325.370625 801.939563 328.170625 \r\nL 801.939563 347.32 \r\nQ 801.939563 350.12 804.739563 350.12 \r\nz\r\n\" style=\"fill:#f0f0f0;opacity:0.8;stroke:#cccccc;stroke-linejoin:miter;stroke-width:0.5;\"/>\r\n    </g>\r\n    <g id=\"patch_17\">\r\n     <path d=\"M 807.539563 341.608438 \r\nL 835.539563 341.608438 \r\nL 835.539563 331.808438 \r\nL 807.539563 331.808438 \r\nz\r\n\" style=\"fill:#008fd5;\"/>\r\n    </g>\r\n    <g id=\"text_19\">\r\n     <!-- importance -->\r\n     <g transform=\"translate(846.739563 341.608438)scale(0.14 -0.14)\">\r\n      <use xlink:href=\"#DejaVuSans-69\"/>\r\n      <use x=\"27.783203\" xlink:href=\"#DejaVuSans-6d\"/>\r\n      <use x=\"125.195312\" xlink:href=\"#DejaVuSans-70\"/>\r\n      <use x=\"188.671875\" xlink:href=\"#DejaVuSans-6f\"/>\r\n      <use x=\"249.853516\" xlink:href=\"#DejaVuSans-72\"/>\r\n      <use x=\"290.966797\" xlink:href=\"#DejaVuSans-74\"/>\r\n      <use x=\"330.175781\" xlink:href=\"#DejaVuSans-61\"/>\r\n      <use x=\"391.455078\" xlink:href=\"#DejaVuSans-6e\"/>\r\n      <use x=\"454.833984\" xlink:href=\"#DejaVuSans-63\"/>\r\n      <use x=\"509.814453\" xlink:href=\"#DejaVuSans-65\"/>\r\n     </g>\r\n    </g>\r\n   </g>\r\n  </g>\r\n </g>\r\n <defs>\r\n  <clipPath id=\"p82a15056d6\">\r\n   <rect height=\"349.92\" width=\"751.68\" x=\"187.647688\" y=\"7.2\"/>\r\n  </clipPath>\r\n </defs>\r\n</svg>\r\n",
      "image/png": "[encoded data removed]"
     },
     "metadata": {}
    }
   ],
   "metadata": {}
  },
  {
   "cell_type": "markdown",
   "source": [
    "## 제출 파일 생성"
   ],
   "metadata": {}
  },
  {
   "cell_type": "code",
   "execution_count": 90,
   "source": [
    "sub = pd.read_csv(sample_file, index_col=0)\r\n",
    "print(sub.shape)\r\n",
    "sub.head()"
   ],
   "outputs": [
    {
     "output_type": "stream",
     "name": "stdout",
     "text": [
      "(715, 1)\n"
     ]
    },
    {
     "output_type": "execute_result",
     "data": {
      "text/plain": [
       "    count\n",
       "id       \n",
       "0     NaN\n",
       "1     NaN\n",
       "2     NaN\n",
       "4     NaN\n",
       "5     NaN"
      ],
      "text/html": [
       "<div>\n",
       "<style scoped>\n",
       "    .dataframe tbody tr th:only-of-type {\n",
       "        vertical-align: middle;\n",
       "    }\n",
       "\n",
       "    .dataframe tbody tr th {\n",
       "        vertical-align: top;\n",
       "    }\n",
       "\n",
       "    .dataframe thead th {\n",
       "        text-align: right;\n",
       "    }\n",
       "</style>\n",
       "<table border=\"1\" class=\"dataframe\">\n",
       "  <thead>\n",
       "    <tr style=\"text-align: right;\">\n",
       "      <th></th>\n",
       "      <th>count</th>\n",
       "    </tr>\n",
       "    <tr>\n",
       "      <th>id</th>\n",
       "      <th></th>\n",
       "    </tr>\n",
       "  </thead>\n",
       "  <tbody>\n",
       "    <tr>\n",
       "      <th>0</th>\n",
       "      <td>NaN</td>\n",
       "    </tr>\n",
       "    <tr>\n",
       "      <th>1</th>\n",
       "      <td>NaN</td>\n",
       "    </tr>\n",
       "    <tr>\n",
       "      <th>2</th>\n",
       "      <td>NaN</td>\n",
       "    </tr>\n",
       "    <tr>\n",
       "      <th>4</th>\n",
       "      <td>NaN</td>\n",
       "    </tr>\n",
       "    <tr>\n",
       "      <th>5</th>\n",
       "      <td>NaN</td>\n",
       "    </tr>\n",
       "  </tbody>\n",
       "</table>\n",
       "</div>"
      ]
     },
     "metadata": {},
     "execution_count": 90
    }
   ],
   "metadata": {}
  },
  {
   "cell_type": "code",
   "execution_count": 91,
   "source": [
    "sub[target_col] = p_tst\r\n",
    "sub.head()"
   ],
   "outputs": [
    {
     "output_type": "execute_result",
     "data": {
      "text/plain": [
       "    count\n",
       "id       \n",
       "0     103\n",
       "1     197\n",
       "2      64\n",
       "4      50\n",
       "5      44"
      ],
      "text/html": [
       "<div>\n",
       "<style scoped>\n",
       "    .dataframe tbody tr th:only-of-type {\n",
       "        vertical-align: middle;\n",
       "    }\n",
       "\n",
       "    .dataframe tbody tr th {\n",
       "        vertical-align: top;\n",
       "    }\n",
       "\n",
       "    .dataframe thead th {\n",
       "        text-align: right;\n",
       "    }\n",
       "</style>\n",
       "<table border=\"1\" class=\"dataframe\">\n",
       "  <thead>\n",
       "    <tr style=\"text-align: right;\">\n",
       "      <th></th>\n",
       "      <th>count</th>\n",
       "    </tr>\n",
       "    <tr>\n",
       "      <th>id</th>\n",
       "      <th></th>\n",
       "    </tr>\n",
       "  </thead>\n",
       "  <tbody>\n",
       "    <tr>\n",
       "      <th>0</th>\n",
       "      <td>103</td>\n",
       "    </tr>\n",
       "    <tr>\n",
       "      <th>1</th>\n",
       "      <td>197</td>\n",
       "    </tr>\n",
       "    <tr>\n",
       "      <th>2</th>\n",
       "      <td>64</td>\n",
       "    </tr>\n",
       "    <tr>\n",
       "      <th>4</th>\n",
       "      <td>50</td>\n",
       "    </tr>\n",
       "    <tr>\n",
       "      <th>5</th>\n",
       "      <td>44</td>\n",
       "    </tr>\n",
       "  </tbody>\n",
       "</table>\n",
       "</div>"
      ]
     },
     "metadata": {},
     "execution_count": 91
    }
   ],
   "metadata": {}
  },
  {
   "cell_type": "code",
   "execution_count": 92,
   "source": [
    "sub[target_col].value_counts()"
   ],
   "outputs": [
    {
     "output_type": "execute_result",
     "data": {
      "text/plain": [
       "35     14\n",
       "37      8\n",
       "99      7\n",
       "104     7\n",
       "76      6\n",
       "       ..\n",
       "252     1\n",
       "327     1\n",
       "332     1\n",
       "273     1\n",
       "284     1\n",
       "Name: count, Length: 264, dtype: int64"
      ]
     },
     "metadata": {},
     "execution_count": 92
    }
   ],
   "metadata": {}
  },
  {
   "cell_type": "code",
   "execution_count": 93,
   "source": [
    "sub.to_csv(sub_file)"
   ],
   "outputs": [],
   "metadata": {}
  }
 ],
 "metadata": {
  "orig_nbformat": 4,
  "language_info": {
   "name": "python",
   "version": "3.7.11",
   "mimetype": "text/x-python",
   "codemirror_mode": {
    "name": "ipython",
    "version": 3
   },
   "pygments_lexer": "ipython3",
   "nbconvert_exporter": "python",
   "file_extension": ".py"
  },
  "kernelspec": {
   "name": "python3",
   "display_name": "Python 3.7.11 64-bit ('dacon': conda)"
  },
  "interpreter": {
   "hash": "78d07d58a14bcb13980c2f3aa062960b1d4e06e2354041fd6bf8412d72593f0f"
  }
 },
 "nbformat": 4,
 "nbformat_minor": 2
}