{
 "cells": [
  {
   "cell_type": "code",
   "execution_count": 2,
   "source": [
    "import pandas\r\n",
    "import numpy as np\r\n",
    "import sklearn\r\n"
   ],
   "outputs": [],
   "metadata": {}
  }
 ],
 "metadata": {
  "orig_nbformat": 4,
  "language_info": {
   "name": "python",
   "version": "3.7.11",
   "mimetype": "text/x-python",
   "codemirror_mode": {
    "name": "ipython",
    "version": 3
   },
   "pygments_lexer": "ipython3",
   "nbconvert_exporter": "python",
   "file_extension": ".py"
  },
  "kernelspec": {
   "name": "python3",
   "display_name": "Python 3.7.11 64-bit ('seoul-bicycle': conda)"
  },
  "interpreter": {
   "hash": "e231da603b7213731b9dee798e7d675905489d3f19c1b15172bbe5beeffe4f49"
  }
 },
 "nbformat": 4,
 "nbformat_minor": 2
}